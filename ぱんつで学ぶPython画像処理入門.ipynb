{
  "nbformat": 4,
  "nbformat_minor": 0,
  "metadata": {
    "colab": {
      "name": "ぱんつで学ぶPython画像処理入門.ipynb",
      "provenance": [],
      "private_outputs": true,
      "collapsed_sections": [
        "9lC7MCnh5TuX",
        "7EBQwOp4q5KD",
        "VONwUaGHfdvW",
        "d7_YOqM2EMWY",
        "hK51QtkYsd4p",
        "MT9eaZXMvFE2",
        "EcxT-pzs1m52",
        "czKNxth6zhI0",
        "gmBorxJn7Hhh",
        "RZHuiZKuEdHh",
        "xWVZ_W5htDuM",
        "V93b9_MxCyqo",
        "HFmXmUphmYrS",
        "QpF0Bx_Xr3Zj",
        "vZGl6_taASZk",
        "Ipfj7TiS6npf",
        "iRDZKS5qaUmb",
        "TEUgLycN1CNj",
        "MVZu3i2_womI",
        "ZRx5rlR7Ds0k",
        "lr81k5kL-6Ci",
        "RNduM4GRR3p9",
        "38L2_CBDvESN",
        "CSuTpILMkKWh",
        "VdajgS36yHBG",
        "fsIoQzRI6xf4",
        "SD66r4Sv_9VO",
        "09bpCpk6-t5A"
      ],
      "toc_visible": true
    },
    "kernelspec": {
      "name": "python3",
      "display_name": "Python 3"
    },
    "accelerator": "GPU"
  },
  "cells": [
    {
      "cell_type": "markdown",
      "metadata": {
        "id": "P64IBHMDkbfe",
        "colab_type": "text"
      },
      "source": [
        "# はじめに\n",
        "## あぁ～↑！ぱんつ好き～→なお客様じゃないでぇすかぁ～(≧∀≦)↑↑！  \n",
        "## えっ、ぱんつ見えてるぅ！？ ひゃんっ！ 見ないでぇてくださいょぉ～↑٩(๑`^´๑)۶ ！！ \n",
        "## えぇ↑！きょうはわたしのぱ→ん↓つ→見に来ただけじゃないんですかぁ(✽ ﾟдﾟ ✽)！？  \n",
        "## ぱ→い→そ↓ん↑…？ お酒にしたらおいしそぉ↑ーですねっ(⌒▽⌒)！\n",
        "## あぁ～待って↑！！ かえらないでくださいぃょぉ～↓ (´；ω；｀)！\n",
        "---\n",
        "　   \n",
        "### 本書は[パンツパッチ](https://github.com/TenteEEEE/quiche_pantie_patch)のコア機能を実装しながら学ぶ、超実践Python画像処理入門本です。  \n",
        "日本語が理解できる以上に必要な前知識は必要ではありません。  \n",
        "ぜひ本書を通じてPythonに限らないプログラミングの基礎、そして応用にこぎつけていただければと思います。\n"
      ]
    },
    {
      "cell_type": "markdown",
      "metadata": {
        "id": "sEndWAotrKRb",
        "colab_type": "text"
      },
      "source": [
        "## 本書の特徴と読み進め方\n",
        "**本書が他のプログラミング入門書と異なるのは、全章を通じて明確な目的があること**です。  \n",
        "何事においても目的のない学習はやる気が続きませんし、それが挫折の大きな理由の1つだからです。  \n",
        "ちょっとプログラミングの入門サイトを漁った人は経験したかもしれませんが、  \n",
        "**世の入門書の多くは目的もなく1+2みたいな猿でもわかる計算から地道に入門していきます。**  \n",
        "(ちなみに1+2が面白いと感じる方は類まれなる計算機工学への適正なので、[FPGAなどで演算器から作る](http://signal-process-logic.com/jp/code_book/codes/toc/toc.shtml)のもおすすめ。)  \n",
        "　  \n",
        "これは非常に不思議なことです。 というのも、例えば絵かきやモデリングの学習/練習には必ず目的があるはず。  \n",
        "『美少女/美男子を描くため』の模写、『破綻の少ない変形のため』のトポロジ研究であるからこそ続けられます。  \n",
        "しかし、ことプログラミングについてはその点が非常に軽視されています。  \n",
        "その手の入門書が書ける人とは、もともとプログラミングという目的だけで学習できるへんたi…いや適性◎の人だからです。  \n",
        "本書はそのような計算や空虚な練習は一切行わず、Pythonの基本文法すら最初は学ばないです。  \n",
        "すべてが『ぱんつ、ひいては画像処理のため』の実用的なサンプルとその演習です。  \n",
        "　  \n",
        "本書のもう一つの特徴としては、**コードをその場で実行/変更できるインタラクティブな環境を利用している点です。**  \n",
        "2019年時点でこの手の入門書は非常に少ないですが、**入門サイトを見てエディタ上で写経する時代はもうすぐ終わります**。  \n",
        "**読むところは本文(コラムとポエム以外)を読めば十分**です。  \n",
        "本文を読んだ後はコードを変更して遊んでみてください。 きっと読むよりも様々なことを理解できるはずです。  \n",
        "コラムではPythonに限らず、計算機工学に関する内容も少し扱い、Pythonの深淵に迫ります。  \n",
        "脳内メモリに余裕があれば読んでみてください。  \n",
        "章のまとめには実際にコードを書く実装課題があります。  \n",
        "学習済みの内容だけを使った課題なのでかならず作れるはずです。"
      ]
    },
    {
      "cell_type": "markdown",
      "metadata": {
        "id": "wvXtretMhCtj",
        "colab_type": "text"
      },
      "source": [
        "## Google Colabとは\n",
        "ここColabは無料のJupyter Notebook(簡単にまとめるとPythonがインタラクティブに動かせる)環境です。  \n",
        "無料でGPUが使えたりする素晴らしい環境なのですが、いくつかの制限があります。  \n",
        "\n",
        "Colabはインスタンスが立ち上がってから(この中のプログラムのどこか1行を実行し始めてから)**12時間経つとすべてデータが消えます**。   \n",
        "また、インスタンス起動状態からこのページを閉じて90分間はデータが消えません。  \n",
        "詳しくは[シャットダウンまでの残時間は90分ルールと12時間ルール](https://qiita.com/tomo_makes/items/b3c60b10f7b25a0a5935#2-%E3%82%B7%E3%83%A3%E3%83%83%E3%83%88%E3%83%80%E3%82%A6%E3%83%B3%E3%81%BE%E3%81%A7%E3%81%AE%E6%AE%8B%E6%99%82%E9%96%93%E3%81%AF90%E5%88%86%E3%83%AB%E3%83%BC%E3%83%AB%E3%81%A812%E6%99%82%E9%96%93%E3%83%AB%E3%83%BC%E3%83%AB)を読んだほうが良いです。  \n",
        "\n",
        "データが消えると言っても悲観的になることはなく、ここにかいたプログラムは消えません。  \n",
        "ただ、実行途中で保存されたデータがなくなるので、例えば12時間以上前に作った、あるいは実行したプログラムやデータが必要な部分は、  \n",
        "インスタンス起動のたびに必要になるということです。\n",
        "\n",
        "**本書では各章・節のはじめに必要なプログラムがまとめてあるので、途中から読む人は最低限そこだけを実行すれば状態が復元されます。**  \n"
      ]
    },
    {
      "cell_type": "markdown",
      "metadata": {
        "id": "ItiX4WO706iM",
        "colab_type": "text"
      },
      "source": [
        "## これを書いている人\n",
        "情報工学系無免許のエンジニアでもないさんしゃい [@tenteeeeee_vrc](https://twitter.com/tenteeeee_vrc)"
      ]
    },
    {
      "cell_type": "markdown",
      "metadata": {
        "id": "TaAp_kZN9yuR",
        "colab_type": "text"
      },
      "source": [
        "## パンツパッチリポジトリのクローン  \n",
        "なにはともあれ、まずはパンツをダウンロードしなければ始まりません。  \n",
        "Githubからダウンロードしてみましょう。  \n",
        "コマンド(PythonではなくColabのLinuxで実行できるプログラム)は先頭に！マークを付けることで実行できます。   \n",
        "(スーパーユーザー権限はもちろんありませんが、Linuxに詳しい人はこれだけでだいぶ色々なことができますね)  \n",
        "\n",
        "では次の行を**実行**してみましょう。  \n",
        "実行は左側の再生ボタンか、Shift+Enterで次の行に進みながら実行できるので便利です。"
      ]
    },
    {
      "cell_type": "code",
      "metadata": {
        "id": "PWj7_NIuszoG",
        "colab_type": "code",
        "colab": {}
      },
      "source": [
        "!git clone https://github.com/TenteEEEE/quiche_pantie_patch.git"
      ],
      "execution_count": 0,
      "outputs": []
    },
    {
      "cell_type": "markdown",
      "metadata": {
        "id": "fD3CUpdk-d67",
        "colab_type": "text"
      },
      "source": [
        "# よちよち編 [素体ぱんつの作成]\n",
        "ここでは画像の読み込みと切り貼り、繰り返し処理を学びます。  \n",
        "簡単な画像処理を理解し、キッシュちゃん素体用のぱんつやリボンなどを作成します。"
      ]
    },
    {
      "cell_type": "markdown",
      "metadata": {
        "id": "4avzXY5NlbHw",
        "colab_type": "text"
      },
      "source": [
        "## Hello World\n",
        "Pythonは初めてですか？ ならばこの世界共通の儀式を済ませましょう。   \n",
        "下のブロック左側の再生ボタンか、Shift+Enterで実行してみてください。"
      ]
    },
    {
      "cell_type": "code",
      "metadata": {
        "id": "xlnao6hAlkGw",
        "colab_type": "code",
        "colab": {}
      },
      "source": [
        "# Hello worldと表示する\n",
        "print('Hello world!')"
      ],
      "execution_count": 0,
      "outputs": []
    },
    {
      "cell_type": "markdown",
      "metadata": {
        "id": "ZWXYp4SOljk1",
        "colab_type": "text"
      },
      "source": [
        "おめでとうございます！これでPython入門完了です！  \n",
        "今後一生お世話になるprintは文字列を表示するためのもので、'Hello world!'を表示しました。  \n",
        "printの上にある#以降はコメントと呼ばれ、Pythonのプログラムとして実行されません。  \n",
        "プログラム中になにか書き残して置きたいことがあれば、#以降に文字を書きましょう。  \n",
        "この#も今後お世話になる最も有用なものの1つです。たとえば、\n"
      ]
    },
    {
      "cell_type": "code",
      "metadata": {
        "id": "RTWqAPCy4NRd",
        "colab_type": "code",
        "colab": {}
      },
      "source": [
        "# Hello worldと表示する\n",
        "# print('Hello world!')"
      ],
      "execution_count": 0,
      "outputs": []
    },
    {
      "cell_type": "markdown",
      "metadata": {
        "id": "1tZ3ccmR4QGm",
        "colab_type": "text"
      },
      "source": [
        "上を実行すると何も起こらないはず。 これはprintという命令がコメントとして扱われたからです。  \n",
        "この方法は**コメントアウト**と呼ばれます。  \n",
        "Colabではコメントの切り替えがCtrl+/(日本語キーボードだと？の位置)でできます。  \n",
        "コメントアウトは処理を一時的に無効化できるので、デバッグ(プログラムの意図しない動作を探す)中にほぼ必ず使います。  "
      ]
    },
    {
      "cell_type": "markdown",
      "metadata": {
        "id": "9lC7MCnh5TuX",
        "colab_type": "text"
      },
      "source": [
        "### コラム: コメントの書き方"
      ]
    },
    {
      "cell_type": "markdown",
      "metadata": {
        "id": "Wtdp57BU5b13",
        "colab_type": "text"
      },
      "source": [
        "コメントはプログラム中のどこでも書くことができ、何らかの説明が必要な場合には記載すべきです。  \n",
        "ただ、処理毎に書いていくのは大変ですし、多すぎます。例えば"
      ]
    },
    {
      "cell_type": "code",
      "metadata": {
        "id": "8OzbmHjR500e",
        "colab_type": "code",
        "colab": {}
      },
      "source": [
        "a = 1      # aに1を代入\n",
        "b = 2      # bに2を代入\n",
        "print(a+b) # a+bを表示"
      ],
      "execution_count": 0,
      "outputs": []
    },
    {
      "cell_type": "markdown",
      "metadata": {
        "id": "ri5QRR1X6FSi",
        "colab_type": "text"
      },
      "source": [
        "これはやりすぎです。また、処理の内容をそのまま現代語にするのも不毛なことです。  \n",
        "**書くべきことは処理の目的であったり、大まかな内容**が良いと思います。  \n",
        "今回はシンプルすぎて書く必要もありませんが、あえて書くとするならば"
      ]
    },
    {
      "cell_type": "code",
      "metadata": {
        "id": "pgZxccso6O4m",
        "colab_type": "code",
        "colab": {}
      },
      "source": [
        "# a+bを計算して表示\n",
        "a = 1\n",
        "b = 2\n",
        "print(a+b)"
      ],
      "execution_count": 0,
      "outputs": []
    },
    {
      "cell_type": "markdown",
      "metadata": {
        "id": "n3j9Ws_J6VVY",
        "colab_type": "text"
      },
      "source": [
        "ぐらいで十分でしょう。  \n",
        "　  \n",
        "コメントに関しては日夜プログラミング界隈で戦争となる話題ですが、**すべて状況によりけりです**。  \n",
        "すべてのプログラム言語、開発プロセスで共通のコメント方法は存在しません。  \n",
        "なので初心者の方は気にせず、今は書きたいところに書いてください。  \n",
        "個人的には2～3ヶ月後の自分が見て、難なく処理が思い出せるぐらいが良いと思います。  　  \n",
        "(ちなみにパンツパッチではほとんどコメントを書いていません。 すまない私はコメント不要過激派勢なんだ。)"
      ]
    },
    {
      "cell_type": "markdown",
      "metadata": {
        "id": "TfAnwAA6GtFh",
        "colab_type": "text"
      },
      "source": [
        "以降は過激派のバイアスのある意見として参考程度に読んでください。  \n",
        "ここで想定されているのはほぼ個人開発レベルのPythonコードについてです。  \n",
        "Pythonのような現代的な言語においてコメントすべきようなところは、だいたい\n",
        "\n",
        "* 一般的ではない自作アルゴリズム内の処理\n",
        "* 絶対に変更してはならない重要な初期化処理\n",
        "* 注意点を書いておかないと、誰か/2～3ヶ月後の自分が何かやらかしそうな処理\n",
        "\n",
        "です。 ぱんつ変換は一般的な処理ではないので、「何をしたい/するか」ぐらいのコメントは書いてあります。   \n",
        "他の2点に関するコメントは今の所ありません。"
      ]
    },
    {
      "cell_type": "markdown",
      "metadata": {
        "id": "7EBQwOp4q5KD",
        "colab_type": "text"
      },
      "source": [
        "### ポエム: 古の言語でHello world!\n"
      ]
    },
    {
      "cell_type": "markdown",
      "metadata": {
        "id": "tSRhNcsIEiwp",
        "colab_type": "text"
      },
      "source": [
        "はじめに機械語ありけり  \n",
        "難解故、御神は亜戦武羅を作りけり  \n",
        "然れどもまだ凡俗なる民には難解極まれり  \n",
        "見かねた御神ついに高級言語を作りけり"
      ]
    },
    {
      "cell_type": "markdown",
      "metadata": {
        "id": "dlvZFtdsrZTg",
        "colab_type": "text"
      },
      "source": [
        "#### C言語\n",
        "高級言語の顔をした亜戦武羅としてこの世を蹂躙したりけり "
      ]
    },
    {
      "cell_type": "code",
      "metadata": {
        "id": "KdBw0RcvrbtS",
        "colab_type": "code",
        "colab": {}
      },
      "source": [
        "!echo -e \"#include <stdio.h>\\r int main(){printf(\\\"Hello world!\\\"); return 0;}\" > hello.c\n",
        "!gcc hello.c -o hello\n",
        "!./hello"
      ],
      "execution_count": 0,
      "outputs": []
    },
    {
      "cell_type": "markdown",
      "metadata": {
        "id": "JOZF9qR_rWaG",
        "colab_type": "text"
      },
      "source": [
        "#### C++\n",
        "数多の苦難を乗り越え、御神ついに祖をCに持つ新たな言語を作りけり  \n",
        "名をばC++ 九羅州にて太平に一時の平穏を取り戻したりけり"
      ]
    },
    {
      "cell_type": "code",
      "metadata": {
        "id": "8OPamJbeorqj",
        "colab_type": "code",
        "colab": {}
      },
      "source": [
        "!echo -e \"#include <iostream>\\n int main(){std::cout<<\\\"Hello world!\\\"<<std::endl; return 0;}\" > hello.cpp\n",
        "!g++ hello.cpp -o hello\n",
        "!./hello"
      ],
      "execution_count": 0,
      "outputs": []
    },
    {
      "cell_type": "markdown",
      "metadata": {
        "id": "V4653S8Ku_y7",
        "colab_type": "text"
      },
      "source": [
        "見ての通り、C++はC言語より記述が長いので、C言語より劣った言語です(大嘘)"
      ]
    },
    {
      "cell_type": "markdown",
      "metadata": {
        "id": "wso-B3_h-U8q",
        "colab_type": "text"
      },
      "source": [
        "## 画像の読み込みと表示"
      ]
    },
    {
      "cell_type": "markdown",
      "metadata": {
        "id": "gG9S7OLi_gwK",
        "colab_type": "text"
      },
      "source": [
        "プログラミングは高度な人がすごい勢いでキーボードをたたいて作る印象があるかもしれませんが、そんなことはありません。  \n",
        "Pythonに限らず**現代のプログラムは様々な完成済みのプログラムを再利用していきます**。  \n",
        "　  \n",
        "Pythonではimportで様々なモジュール(すでに誰かが作ったプログラム)を取り込むことができます。  \n",
        "だいたいのモジュールは中に複数のモジュールを持っていて、  \n",
        "そのうちの1つだけで良いならば、fromを使うとシンプルに記述できます。  \n",
        "  \n",
        "今回はPIL(Python Imaging Library)というPython標準の画像処理用のモジュールで画像を読み込んでみましょう。  \n",
        "fromとimportを使ってPILモジュールからImageというモジュールを取り込むには…"
      ]
    },
    {
      "cell_type": "code",
      "metadata": {
        "id": "UIIR5_rvtJhR",
        "colab_type": "code",
        "colab": {}
      },
      "source": [
        "from PIL import Image  # PILというモジュールからImageモジュールを読み込み"
      ],
      "execution_count": 0,
      "outputs": []
    },
    {
      "cell_type": "markdown",
      "metadata": {
        "id": "uNc7IUed-jgf",
        "colab_type": "text"
      },
      "source": [
        "でOKです。では早速画像の読み込みです。  \n",
        "といってもかなり簡単で、**Image.open(開きたい画像の場所)**と指定します。  \n",
        "場所の指定は''あるいは\"\"で囲む必要があります。  \n",
        "こうすることで、『これは文字列のデータ(文字列型という形式)だよ』ということが指定できます。"
      ]
    },
    {
      "cell_type": "code",
      "metadata": {
        "id": "GEUS1OmP-tnp",
        "colab_type": "code",
        "colab": {}
      },
      "source": [
        "Image.open('./quiche_pantie_patch/dream/0101.png')"
      ],
      "execution_count": 0,
      "outputs": []
    },
    {
      "cell_type": "markdown",
      "metadata": {
        "id": "jaguWvrI-zmZ",
        "colab_type": "text"
      },
      "source": [
        "101番のぱんつが表示されたと思います。楽ちんですね！  \n",
        "しかしいちいち場所を1から指定するのは面倒です。  \n",
        "ここは**変数**を定義してみましょう。"
      ]
    },
    {
      "cell_type": "code",
      "metadata": {
        "id": "GKwcOR8s-htb",
        "colab_type": "code",
        "colab": {}
      },
      "source": [
        "dreamdir = './quiche_pantie_patch/dream/'"
      ],
      "execution_count": 0,
      "outputs": []
    },
    {
      "cell_type": "markdown",
      "metadata": {
        "id": "8TBY28OW_IVP",
        "colab_type": "text"
      },
      "source": [
        "今回はdreamdirという名前の**変数**を用意して、それに'./quiche_pantie_patch/dream/'を**代入**しました。  \n",
        "\n",
        "* 変数  \n",
        "変数はプログラミングではよく『何でも入る箱みたいなもの』と言われていますが、  \n",
        "実際のところ「何でもは入らないわ。入れるものだけ…」と語りだすド畜生なので、   \n",
        "Pythonにおいては『名前をつける』ぐらいの認識で良いと思います。  \n",
        "\n",
        "* 代入  \n",
        "代入とは=で定義される処理で、『代入先 = もの』のように書きます。   \n",
        "算数と比べると感覚的に方向は逆ですが、プログラムの発祥は英語圏です。  \n",
        " = は is と考えるとしっくりくると思います。\n",
        "\n",
        "このdreamdirを使うと、文字の連結ができます。\n",
        "たとえば先程の場所は\n",
        "``` python\n",
        "dreamdir + '0101.png'\n",
        "```\n",
        "で指定することができ、足された結果は './quiche_pantie_patch/dream/0101.png' になります。  "
      ]
    },
    {
      "cell_type": "code",
      "metadata": {
        "id": "7HAUmYJwtaig",
        "colab_type": "code",
        "colab": {}
      },
      "source": [
        "img = Image.open(dreamdir + '0101.png')"
      ],
      "execution_count": 0,
      "outputs": []
    },
    {
      "cell_type": "markdown",
      "metadata": {
        "id": "AIpitWI9KKPt",
        "colab_type": "text"
      },
      "source": [
        "PILで読み込まれた画像は、imgに代入されたので、今後はこれを使って画像処理ができます。  \n",
        "代入すると画像が表示されなくなりましたが、焦ることはありません。  \n",
        "変数名だけで実行すれば、その中身が見え、ここColabでは自動的に画像を表示してくれます！  \n",
        "※自分のパソコンで表示するとき(正確にはスクリプトとして実行するとき)はimg.show()と書く必要があります。"
      ]
    },
    {
      "cell_type": "code",
      "metadata": {
        "id": "FFKNH-Xg_aUD",
        "colab_type": "code",
        "colab": {}
      },
      "source": [
        "img"
      ],
      "execution_count": 0,
      "outputs": []
    },
    {
      "cell_type": "markdown",
      "metadata": {
        "id": "7j9mEpsCDQ9J",
        "colab_type": "text"
      },
      "source": [
        "### コラム: ディレクトリの指定\n",
        "'./' はディレクトリ(フォルダ)を指定するための特殊な記号で、『今いるところから』ということを意味します。  \n",
        "パンツパッチをダウンロードすると、quiche_pantie_patchというフォルダが今いる場所の下に作られます。  \n",
        "よって、./quiche_pantie_patch/.....という形で指定できるようになるわけです。  \n",
        "./はほぼすべてのOSにある共通の省略形なので覚えておくとそのうち良いことがあるかも！  \n",
        "ちなみに'~/'は『ユーザーのホームディレクトリ』を意味します。(WindowsはPowershellという新しいターミナルで使えます)"
      ]
    },
    {
      "cell_type": "markdown",
      "metadata": {
        "id": "ewKzPp0D_b7t",
        "colab_type": "text"
      },
      "source": [
        "## 画像の切り取り"
      ]
    },
    {
      "cell_type": "code",
      "metadata": {
        "id": "8uMLptlB8qmT",
        "colab_type": "code",
        "colab": {}
      },
      "source": [
        "!git clone https://github.com/TenteEEEE/quiche_pantie_patch.git\n",
        "\n",
        "# これまでのまとめ (本章の実行に必要なプログラム)\n",
        "from PIL import Image\n",
        "\n",
        "dreamdir = './quiche_pantie_patch/dream/'\n",
        "img = Image.open(dreamdir + '0101.png')"
      ],
      "execution_count": 0,
      "outputs": []
    },
    {
      "cell_type": "markdown",
      "metadata": {
        "id": "dJWhtikg_fot",
        "colab_type": "text"
      },
      "source": [
        "**リボン好きですか？ 好きですよね？ リボンだけ表示したいですよね？**  \n",
        "雑すぎる導入は置いといて、無数のパンツからリボンだけを堪能する… そんなことがPythonでは簡単にできます。  \n",
        "切り抜きはcropという**関数**でできます。  \n",
        "関数は**引数**と呼ばれるパラメータを渡すことができます。渡し方はimg.crop(引数)です。  \n",
        "切り取りですから、やはりその位置を指定できるわけで、img.crop((左、上、右、下))です。"
      ]
    },
    {
      "cell_type": "code",
      "metadata": {
        "id": "RglN8pKb9duF",
        "colab_type": "code",
        "colab": {}
      },
      "source": [
        "ribbon = img.crop((7,18,32,60))\n",
        "ribbon"
      ],
      "execution_count": 0,
      "outputs": []
    },
    {
      "cell_type": "markdown",
      "metadata": {
        "id": "GSqSE3tGMHws",
        "colab_type": "text"
      },
      "source": [
        "関数… そんなことを軽はずみに口にすると、[すごくH](https://www.haskell.org/)な界隈に※○されそうなのですが、  \n",
        "ここはいわゆるサブルーチン(処理をまとめたもの)としての扱いで説明します。  \n",
        "   \n",
        "先程の画像を表示したり、切り取りであったり、img.<処理の名前>(<パラメータ>)  \n",
        "という感じで指定したものは全て関数と呼ばれるものです。  \n",
        "要はよく使う処理を予めまとめておくとみんな便利だねってことで、PIL様に用意していただいた有り難いものなのです。  \n",
        "このあたり詳しく知りたい方は次のコラムを読んでください。\n",
        "\n"
      ]
    },
    {
      "cell_type": "markdown",
      "metadata": {
        "id": "VONwUaGHfdvW",
        "colab_type": "text"
      },
      "source": [
        "### コラム: 型とクラス\n"
      ]
    },
    {
      "cell_type": "markdown",
      "metadata": {
        "id": "30VQSlO0fwZY",
        "colab_type": "text"
      },
      "source": [
        "健康なパンツ紳士・淑女の皆様におかれましては、imgの後の『.』が気になって夜も眠れないことと思います。  \n",
        "そんなあなたもimgの正体を知れば大丈夫！  \n",
        "最初のdreamdirについても文字列型なんてさらっと言いましたが、すべての変数には『型(type)』があります。  \n",
        "実はimg君にも型があり、Pythonでは変数の正体を暴くためにtypeという関数があります。"
      ]
    },
    {
      "cell_type": "code",
      "metadata": {
        "id": "RE1sDKwyj84_",
        "colab_type": "code",
        "colab": {}
      },
      "source": [
        "print(type(img))"
      ],
      "execution_count": 0,
      "outputs": []
    },
    {
      "cell_type": "markdown",
      "metadata": {
        "id": "zC0XaMQ7j97e",
        "colab_type": "text"
      },
      "source": [
        "ほう… img君は<class 'PIL.PngImagePlugin.PngImageFile'>型のようですね。ﾜｹﾜｶﾗﾝ  \n",
        "そもそもclassって何… 気になるあの子のいる場所？ そうです、あの見目麗しいcropさんのいるクラスなのです！  \n",
        "**クラスとは、とある『変数』とそれを扱うための『関数』がセットになったもの**です。 ﾜｹﾜｶﾗﾝ  \n",
        "まぁここはクラスの中をちょっと見てみましょう。  \n",
        "今は次のプログラムの内容については気にせず、書き出される関数に着目してください。"
      ]
    },
    {
      "cell_type": "code",
      "metadata": {
        "id": "3lH4d30O_Woh",
        "colab_type": "code",
        "colab": {}
      },
      "source": [
        "for attr in dir(img):\n",
        "  if callable(getattr(img, str(attr))):\n",
        "    print(attr)"
      ],
      "execution_count": 0,
      "outputs": []
    },
    {
      "cell_type": "markdown",
      "metadata": {
        "id": "QDDf6aIsnHsK",
        "colab_type": "text"
      },
      "source": [
        "ちょっとクラスの中にドン引きするぐらいたくさんの何かがありますが、これすべてimg君のもつ関数です。  \n",
        "PILさんがこれはみんな使うかも～と思って用意したそうです。ノーベル平和賞もらってください。  \n",
        "よく見るとちゃんとcropさんもshowさんもいますよね？  \n",
        "   \n",
        "このように中にある関数(正確にはメンバー関数と呼ばれる)は『変数.<関数名>(<引数>)』で呼び出すことができます。  \n",
        "**ちなみにメンバー変数というのもあり、『変数.<変数名>』で呼び出すことができます。**  \n",
        "こんなのいるの？って思うかもしれませんが、img君の大きさを知りたいときに、  \n",
        "img.size  \n",
        "みたいな感じでできたら嬉しいですよね。 本当にできますよ"
      ]
    },
    {
      "cell_type": "code",
      "metadata": {
        "id": "8KEHbR1lua8o",
        "colab_type": "code",
        "colab": {}
      },
      "source": [
        "img.size"
      ],
      "execution_count": 0,
      "outputs": []
    },
    {
      "cell_type": "markdown",
      "metadata": {
        "id": "_Pk41UIO8-dP",
        "colab_type": "text"
      },
      "source": [
        "## 空の画像の作成と貼り付け\n"
      ]
    },
    {
      "cell_type": "code",
      "metadata": {
        "id": "O3lgD9lJ9G6W",
        "colab_type": "code",
        "colab": {}
      },
      "source": [
        "!git clone https://github.com/TenteEEEE/quiche_pantie_patch.git\n",
        "\n",
        "# これまでのまとめ (本章の実行に必要なプログラム)\n",
        "from PIL import Image\n",
        "\n",
        "dreamdir = './quiche_pantie_patch/dream/'\n",
        "img = Image.open(dreamdir + '0101.png')\n",
        "ribbon = img.crop((7,18,32,60))"
      ],
      "execution_count": 0,
      "outputs": []
    },
    {
      "cell_type": "markdown",
      "metadata": {
        "id": "EqvyfiAP9GM1",
        "colab_type": "text"
      },
      "source": [
        "空の画像…？ 虚無？  \n",
        "画像処理をするにあたって、とりあえず何もない画像を作りたいということが結構あります。  \n",
        "たとえば先程の切り取ったリボン、本当は左右対称にして完全体を見たくなったりしませんか？  \n",
        "そんなときは、空の画像に2つの半リボンを貼り付けると良いでしょう。  \n",
        "空の画像はImage.new(画像の種類,(横、縦))で指定できます。"
      ]
    },
    {
      "cell_type": "code",
      "metadata": {
        "id": "7AFZ3hJt9Dij",
        "colab_type": "code",
        "colab": {}
      },
      "source": [
        "empty = Image.new('RGBA', (200,100))\n",
        "empty"
      ],
      "execution_count": 0,
      "outputs": []
    },
    {
      "cell_type": "markdown",
      "metadata": {
        "id": "0ntcbkQH_l_n",
        "colab_type": "text"
      },
      "source": [
        "今回は透過を考慮した3色(RGB+Alpha)の画像が入る空画像を用意しました。  \n",
        "では早速リボンを貼り付けてみましょう。 PILさんは神なのですでにpasteという関数を用意してくれています。  \n",
        "変数名.paste(画像, (左, 上))  \n",
        "みたいに使います。"
      ]
    },
    {
      "cell_type": "code",
      "metadata": {
        "id": "9HyDbHNg9X0F",
        "colab_type": "code",
        "colab": {}
      },
      "source": [
        "empty.paste(ribbon, (100,30))\n",
        "empty"
      ],
      "execution_count": 0,
      "outputs": []
    },
    {
      "cell_type": "markdown",
      "metadata": {
        "id": "9v2XAEEbBMwF",
        "colab_type": "text"
      },
      "source": [
        "すばらしいですね～  \n",
        "ではこの調子でもう一つも… 付けようとすると、左右を反転しないといけないですね。  \n",
        "大丈夫！ PILさんにはImageOpsというさらに高度な画像処理に対応したモジュールを用意しています。"
      ]
    },
    {
      "cell_type": "code",
      "metadata": {
        "id": "F_PZSwstACS8",
        "colab_type": "code",
        "colab": {}
      },
      "source": [
        "from PIL import ImageOps"
      ],
      "execution_count": 0,
      "outputs": []
    },
    {
      "cell_type": "markdown",
      "metadata": {
        "id": "xArGvnBKBqVe",
        "colab_type": "text"
      },
      "source": [
        "読み込んだら、mirrorという関数をribbonに使ってみましょう"
      ]
    },
    {
      "cell_type": "code",
      "metadata": {
        "id": "0pP6rgmaBjUu",
        "colab_type": "code",
        "colab": {}
      },
      "source": [
        "ImageOps.mirror(ribbon)"
      ],
      "execution_count": 0,
      "outputs": []
    },
    {
      "cell_type": "markdown",
      "metadata": {
        "id": "cCtclH8nCCDx",
        "colab_type": "text"
      },
      "source": [
        "あとはこれを同様に貼り付けるだけです。   \n",
        "いちいち変数名をつけるのも面倒なので、直接paste関数に渡してしまいましょう。"
      ]
    },
    {
      "cell_type": "code",
      "metadata": {
        "id": "nRInY8T1BniG",
        "colab_type": "code",
        "colab": {}
      },
      "source": [
        "empty.paste(ImageOps.mirror(ribbon), (100-25,30))\n",
        "empty"
      ],
      "execution_count": 0,
      "outputs": []
    },
    {
      "cell_type": "markdown",
      "metadata": {
        "id": "kQYuhdmiDRES",
        "colab_type": "text"
      },
      "source": [
        "(おぉ！できてる！ けど… その25どこから…？)  \n",
        "要はリボンの写真の幅(25ピクセル)を引いているのですが、幅ってプログラムくんが教えてほしいですよね？  \n",
        "大丈夫、ribbonちゃんはちゃんと自分のスリーサイズを知っています。"
      ]
    },
    {
      "cell_type": "code",
      "metadata": {
        "id": "pWdlR4ZdBuAD",
        "colab_type": "code",
        "colab": {}
      },
      "source": [
        "print(ribbon.width)\n",
        "print(ribbon.height)"
      ],
      "execution_count": 0,
      "outputs": []
    },
    {
      "cell_type": "markdown",
      "metadata": {
        "id": "ret1g4aNEUzm",
        "colab_type": "text"
      },
      "source": [
        "コラムを読んだ方にはメンバー変数ということが分かると思いますが、  \n",
        "要は重要なパラメータは自動的に計算して保存してくれる賢い子なのです。  \n",
        "んん、たかがスリーもないツーサイズと侮ってはいないですか？  \n",
        "この情報を活かせばバチクソにイケてるプログラムが書けます。"
      ]
    },
    {
      "cell_type": "code",
      "metadata": {
        "id": "fEIcB7HED3h6",
        "colab_type": "code",
        "colab": {}
      },
      "source": [
        "empty = Image.new('RGB', (ribbon.width*2, ribbon.height)) # ribbonの2倍の幅かつ同じ高さの空画像を作成\n",
        "empty.paste(ribbon, (ribbon.width,0))                     # 右半分に貼り付け\n",
        "empty.paste(ImageOps.mirror(ribbon), (0,0)) # 左半分に貼り付け empty.paste(ImageOps.mirror(ribbon))でもいい \n",
        "empty"
      ],
      "execution_count": 0,
      "outputs": []
    },
    {
      "cell_type": "markdown",
      "metadata": {
        "id": "gfSl7Zv-odDs",
        "colab_type": "text"
      },
      "source": [
        "このように大きさが分かれば、リボンがどのような大きさであってもかならず左右対称にできます。  \n",
        "100とか30のように、パット見で意味がわからない数字よりこちらのほうが後から読みやすいというのもメリットです。  \n",
        "   \n",
        "さてここまで出来れば、**もうあなたはキッシュちゃん素体用のパンツを自作することができます。**"
      ]
    },
    {
      "cell_type": "markdown",
      "metadata": {
        "id": "d7_YOqM2EMWY",
        "colab_type": "text"
      },
      "source": [
        "###コラム: タプル型"
      ]
    },
    {
      "cell_type": "markdown",
      "metadata": {
        "id": "WHIWG993Fq4J",
        "colab_type": "text"
      },
      "source": [
        "Image.new(画像の種類,(横、縦))    \n",
        "みたいに、(横、縦)と()でまとめた数が度々でてきますね。  \n",
        "これはPythonで標準で用意された**タプル型**と呼ばれるものです。"
      ]
    },
    {
      "cell_type": "code",
      "metadata": {
        "id": "yEEzi6fKhB59",
        "colab_type": "code",
        "colab": {}
      },
      "source": [
        "type((10,20))"
      ],
      "execution_count": 0,
      "outputs": []
    },
    {
      "cell_type": "markdown",
      "metadata": {
        "id": "l7VdiYwRhGLA",
        "colab_type": "text"
      },
      "source": [
        "このタプル型は2つに限らず色々なものを、それぞれ異なる型であろうと何個でも1つにまとめることができます。  \n",
        "例えばリボン画像と文字列をまとめると、\n"
      ]
    },
    {
      "cell_type": "code",
      "metadata": {
        "id": "uQoIfgWXfqfR",
        "colab_type": "code",
        "colab": {}
      },
      "source": [
        "ribbon_tuple = (ribbon,'かわいいリボン')\n",
        "print(ribbon_tuple[1])"
      ],
      "execution_count": 0,
      "outputs": []
    },
    {
      "cell_type": "code",
      "metadata": {
        "id": "ubkT5icHiZv4",
        "colab_type": "code",
        "colab": {}
      },
      "source": [
        "ribbon_tuple[0]"
      ],
      "execution_count": 0,
      "outputs": []
    },
    {
      "cell_type": "markdown",
      "metadata": {
        "id": "gwx0GPYpiQ7i",
        "colab_type": "text"
      },
      "source": [
        "このようにひとまとめにして、各要素には[0]や[1]とつけるとアクセスすることができます。  \n",
        "ちょっとプログラムをかじったことのある方ならば配列じゃんと思うかもしれませんが、それはちょっと違うのです。  \n",
        "例えば次のように「かわいいリボン」を変更しようとすると、"
      ]
    },
    {
      "cell_type": "code",
      "metadata": {
        "id": "yuVotsGEiIyo",
        "colab_type": "code",
        "colab": {}
      },
      "source": [
        "ribbon_tuple[1] = 'めっちゃかわいいリボン'"
      ],
      "execution_count": 0,
      "outputs": []
    },
    {
      "cell_type": "markdown",
      "metadata": {
        "id": "myTG-SxYjXy6",
        "colab_type": "text"
      },
      "source": [
        "**TypeError: 'tuple' object does not support item assignment**  \n",
        "んん？なんか怒られましたね。 そう、**タプル型は一度作るとその内容を変更することができません。**  \n",
        "ちょっと不便そうに思うかもしれませんが、これ結構助かるときもあるのです。例えば  \n",
        "* 関数に渡した後に絶対に内容を変更されたくないとき\n",
        "* 関数を作る人はタプル型を受け取るようにすることで、**その引数が不変であることを保証できる**  \n",
        "\n",
        "他にも後に登場するリスト型よりも処理が早かったり、メモリの使用量が少なかったり、様々なメリットがあります。\n",
        "\n",
        "ちなみにこの変更できない型を専門的な言葉ではイミュータブル(immutable)な型であると言います。  \n",
        "反対に変更可能なものはミュータブル(mutable)な型と言いますが、  \n",
        "このあたりはもっとPythonとお友達となってから理解しても問題ありません。 \n",
        "\n",
        "以下に簡単なサンプルを示しておきます。"
      ]
    },
    {
      "cell_type": "code",
      "metadata": {
        "id": "zn2NmM5sXe-P",
        "colab_type": "code",
        "colab": {}
      },
      "source": [
        "data = [1,2,3] #リスト型と呼ばれる型は変更できる(ミュータブル)\n",
        "def modify(d): # 関数を作る\n",
        "  d[0] = 4     # 手が滑って最初の要素を4に変更\n",
        "print(data)\n",
        "modify(data)\n",
        "print(data) # 関数で変更できる(変更されてしまう)"
      ],
      "execution_count": 0,
      "outputs": []
    },
    {
      "cell_type": "code",
      "metadata": {
        "id": "6UdJh8OSXZKO",
        "colab_type": "code",
        "colab": {}
      },
      "source": [
        "data = (1,2,3) #タプル型と呼ばれる型は変更できない(イミュータブル)\n",
        "def modify(d):\n",
        "  d[0] = 4\n",
        "print(data)\n",
        "modify(data) # そもそもエラーで成功しない\n",
        "print(data)"
      ],
      "execution_count": 0,
      "outputs": []
    },
    {
      "cell_type": "markdown",
      "metadata": {
        "id": "eJ9gTzsfqcmc",
        "colab_type": "text"
      },
      "source": [
        "## キッシュちゃん素体用パンツの作成\n"
      ]
    },
    {
      "cell_type": "code",
      "metadata": {
        "id": "E9lYY38k9T67",
        "colab_type": "code",
        "colab": {}
      },
      "source": [
        "!git clone https://github.com/TenteEEEE/quiche_pantie_patch.git\n",
        "\n",
        "# 本章の実行に必要なプログラム\n",
        "from PIL import Image, ImageOps\n",
        "dreamdir = './quiche_pantie_patch/dream/'"
      ],
      "execution_count": 0,
      "outputs": []
    },
    {
      "cell_type": "markdown",
      "metadata": {
        "id": "xO1401Xt9RjL",
        "colab_type": "text"
      },
      "source": [
        "これまでのテクニックを使えば、もう素体用パンツ生成など1分もかかりません。  \n",
        "すべきことは全てで5手順\n",
        "1. 画像を読み込む\n",
        "1. 余白を切り取る\n",
        "1. 幅だけ2倍の空の画像を用意する\n",
        "1. 右半分を貼り付け\n",
        "1. 左半分に左右反転した右部分を貼り付け\n",
        "\n",
        "大丈夫！本当に上で使ったテクニックだけでできます。ちょっと次のブロックで自身で考えてみましょう。  \n",
        "よく分からなかったら次の回答例を見て、どのように書けばよいのかをじっくり見てください。"
      ]
    },
    {
      "cell_type": "code",
      "metadata": {
        "id": "OkpjiGSTsevS",
        "colab_type": "code",
        "colab": {}
      },
      "source": [
        "# Let's try！\n"
      ],
      "execution_count": 0,
      "outputs": []
    },
    {
      "cell_type": "markdown",
      "metadata": {
        "id": "hK51QtkYsd4p",
        "colab_type": "text"
      },
      "source": [
        "### 解答例"
      ]
    },
    {
      "cell_type": "code",
      "metadata": {
        "id": "9jjUeeNlqjMC",
        "colab_type": "code",
        "colab": {}
      },
      "source": [
        "pantie = Image.open(dreamdir + '0101.png')\n",
        "pantie = pantie.crop((8, 0, pantie.width, pantie.height)) # 左から8ピクセルだけ削除\n",
        "nbody_pantie = Image.new('RGBA', (pantie.width*2, pantie.height))\n",
        "nbody_pantie.paste(pantie, (pantie.width, 0))\n",
        "nbody_pantie.paste(ImageOps.mirror(pantie))\n",
        "nbody_pantie"
      ],
      "execution_count": 0,
      "outputs": []
    },
    {
      "cell_type": "markdown",
      "metadata": {
        "id": "eOEztVwOsFut",
        "colab_type": "text"
      },
      "source": [
        "見ての通り、**リボンとの違いはcropする範囲だけ**で、他の部分は名前が変わっただけで全く同じです。  "
      ]
    },
    {
      "cell_type": "markdown",
      "metadata": {
        "id": "MT9eaZXMvFE2",
        "colab_type": "text"
      },
      "source": [
        "### コラム: 変数の名前\n",
        "  \n"
      ]
    },
    {
      "cell_type": "markdown",
      "metadata": {
        "id": "f48a58J2pGfA",
        "colab_type": "text"
      },
      "source": [
        "プログラムを書くのに熱中していると、ついついおろそかになるのが変数名です。  \n",
        "変数名なんて正直なんでもいいのですが、自身のプログラムの中で規則を統一しておくのは後々の可読性において重要です。  \n",
        "できるだけaやbbbみたいな、意味を持たない名前をつけるのはやめましょう。**(後で死ぬのはあなたです！)**  \n",
        "   \n",
        "といっても最初はなかなか難しいもの。ここでは一例を紹介しましょう。  \n",
        "実はPythonでは[PEP8](https://pep8-ja.readthedocs.io/ja/latest/)という、プログラムを作成する上でのスタイルガイド(統一された書式)があります。  \n",
        "例えば**変数名はすべて小文字、区切りはアンダースコア『_』という推奨書式があります。**  \n",
        "これに完全に従う必要はないのですが、後々他の人が読むことを考えると、ある程度従っておいて(慣れておいて)損はないでしょう。\n",
        "  \n",
        "このルールに従い、自分は英語的な表現に近くなるように名前をつけています。例えば  \n",
        "pantie  \n",
        "であれば、何か1つのぱんつ(a pantie)であることが想像できます。  \n",
        "nbody_pantie  \n",
        "はnbody(素体)のぱんつ(a Nbody's pantie)の意味。  \n",
        "複数のぱんつを扱うものならば  \n",
        "panties  \n",
        "のように複数形を使用しています。また、やはり必要な一時的な変数はすべて  \n",
        "tmp  \n",
        "という一時変数(a temporarily variable)の意味をよく使用しています。"
      ]
    },
    {
      "cell_type": "markdown",
      "metadata": {
        "id": "WDzKkcq_08Mi",
        "colab_type": "text"
      },
      "source": [
        "\n",
        "\n",
        "---\n",
        "\n",
        "\n",
        "また、**予約語**というものには注意する必要があります。  \n",
        "予約語とはPythonがプログラムを作る上で必要な言葉で、これらは変数名に使うことができません。  \n",
        "たとえばandという変数を作りたいとすると…\n"
      ]
    },
    {
      "cell_type": "code",
      "metadata": {
        "id": "qu3h6Kcq1qel",
        "colab_type": "code",
        "colab": {}
      },
      "source": [
        "and = 1"
      ],
      "execution_count": 0,
      "outputs": []
    },
    {
      "cell_type": "markdown",
      "metadata": {
        "id": "EZe-yRPN16i-",
        "colab_type": "text"
      },
      "source": [
        "このように使えないよ～というエラーが発生します。  \n",
        "これらの予約語は次のように一覧で表示できます。"
      ]
    },
    {
      "cell_type": "code",
      "metadata": {
        "id": "KvjROw3_1a2e",
        "colab_type": "code",
        "colab": {}
      },
      "source": [
        "__import__('keyword').kwlist"
      ],
      "execution_count": 0,
      "outputs": []
    },
    {
      "cell_type": "markdown",
      "metadata": {
        "id": "0hqY6WtU2YvR",
        "colab_type": "text"
      },
      "source": [
        "## 素体用の変換処理を関数にしてみよう\n",
        "\n"
      ]
    },
    {
      "cell_type": "code",
      "metadata": {
        "id": "ce4omTuC9iTy",
        "colab_type": "code",
        "colab": {}
      },
      "source": [
        "!git clone https://github.com/TenteEEEE/quiche_pantie_patch.git\n",
        "\n",
        "# 本章の実行に必要なプログラム\n",
        "from PIL import Image, ImageOps\n",
        "dreamdir = './quiche_pantie_patch/dream/'"
      ],
      "execution_count": 0,
      "outputs": []
    },
    {
      "cell_type": "markdown",
      "metadata": {
        "id": "LTPAI93n9hmF",
        "colab_type": "text"
      },
      "source": [
        "今は一枚だけ変換したのでよいのですが、今やすべてのパンツは200枚を超えます。    \n",
        "これらの処理は次のように羅列するだけで簡単に…"
      ]
    },
    {
      "cell_type": "code",
      "metadata": {
        "id": "c5Wz7EudBDGw",
        "colab_type": "code",
        "colab": {}
      },
      "source": [
        "pantie = Image.open(dreamdir + '0001.png')\n",
        "pantie = pantie.crop((8, 0, pantie.width, pantie.height))\n",
        "nbody_pantie1 = Image.new('RGBA', (pantie.width*2, pantie.height))\n",
        "nbody_pantie1.paste(pantie, (pantie.width, 0))\n",
        "nbody_pantie1.paste(ImageOps.mirror(pantie))\n",
        "\n",
        "pantie = Image.open(dreamdir + '0002.png')\n",
        "pantie = pantie.crop((8, 0, pantie.width, pantie.height))\n",
        "nbody_pantie2 = Image.new('RGBA', (pantie.width*2, pantie.height))\n",
        "nbody_pantie2.paste(pantie, (pantie.width, 0))\n",
        "nbody_pantie2.paste(ImageOps.mirror(pantie))\n",
        "\n",
        "pantie = Image.open(dreamdir + '0003.png')\n",
        "pantie = pantie.crop((8, 0, pantie.width, pantie.height))\n",
        "nbody_pantie3 = Image.new('RGBA', (pantie.width*2, pantie.height))\n",
        "nbody_pantie3.paste(pantie, (pantie.width, 0))\n",
        "nbody_pantie3.paste(ImageOps.mirror(pantie))"
      ],
      "execution_count": 0,
      "outputs": []
    },
    {
      "cell_type": "markdown",
      "metadata": {
        "id": "FoLnaFKDBSY-",
        "colab_type": "text"
      },
      "source": [
        "**なんだこの1歳のイルカにも勝てなさそうな知性のなさは**  \n",
        "これを200個も書くのは正気の沙汰とは思えません。万が一変換方法を変更する必要が出た場合には200箇所におよぶ修正が…  \n",
        "ｱｱ ｻﾗﾊﾞ ﾉｳｷ…\n",
        "\n",
        "\n",
        "---\n",
        "\n",
        "そもそも\n",
        "``` python\n",
        "pantie = pantie.crop((8, 0, pantie.width, pantie.height))\n",
        "nbody_pantie = Image.new('RGBA', (pantie.width*2, pantie.height))\n",
        "nbody_pantie.paste(pantie, (pantie.width, 0))\n",
        "nbody_pantie.paste(ImageOps.mirror(pantie))\n",
        "```\n",
        "は**キッシュちゃんのパンツを素体用に変換するという明確な名前をもてる処理**です。  \n",
        "これらをまずひとまとめにする方法は無いでしょうか？ これが**関数**です。  \n",
        "関数とは今までたくさん使ってきたcropやmirror、openといったもので、複数の処理を1つにまとめることができます。  \n",
        "基本的には**入力とそれに対する出力を定義するだけです。**\n",
        "\n",
        "これはパンツを変換するための処理なので、  \n",
        "入力: キッシュちゃんパンツ(pantie)  \n",
        "出力: 素体用パンツ(nbody_pantie)  \n",
        "関数に名前をつけるとすれば、quiche_to_nbody、convert_to_nbody、nbody_converterといったところでしょうか。  \n",
        "自分は記述量や他のモデルの名前などに変わる可能性も考慮すると、nbody_converterがイケてる気がします。  \n",
        "以上をもとに関数の骨組みは"
      ]
    },
    {
      "cell_type": "code",
      "metadata": {
        "id": "lkUwQIiC1bSO",
        "colab_type": "code",
        "colab": {}
      },
      "source": [
        "def nbody_converter(pantie):\n",
        "  # pantieを受け取って、何かの処理をしたあとにnbody_pantieを返す\n",
        "  nbody_pantie = pantie  # 今はコピーするだけ\n",
        "  return nbody_pantie"
      ],
      "execution_count": 0,
      "outputs": []
    },
    {
      "cell_type": "markdown",
      "metadata": {
        "id": "-oGEC9Mp5TfZ",
        "colab_type": "text"
      },
      "source": [
        "こんな感じで定義できます。 関数はdefという修飾子で定義され、  \n",
        "def 関数名(引数):  \n",
        "という順番で表現されます。  \n",
        "returnは処理がここまで来たときに結果を返すためにある命令です。  \n",
        "この際に返す変数は**戻り値/返り値**と呼ばれます。  \n",
        "来たときというのが重要で、**returnを最初に書くと何もせずに結果を返して関数が終わる**ので注意が必要です。\n",
        "\n",
        "さて、関数の処理を書き始めると、次の行から自動的に左端にTabが入力されていると思います。  \n",
        "Pythonではこのタブ文字が仕切りとして働き、関数はこのタブ文字がなくなるまでの範囲となります。  \n",
        "よって、途中でタブ文字がなくなると…"
      ]
    },
    {
      "cell_type": "code",
      "metadata": {
        "id": "_mZOcid96nY2",
        "colab_type": "code",
        "colab": {}
      },
      "source": [
        "def nbody_converter(pantie):\n",
        "nbody_pantie = pantie  # ここエラー\n",
        "  return nbody_pantie"
      ],
      "execution_count": 0,
      "outputs": []
    },
    {
      "cell_type": "markdown",
      "metadata": {
        "id": "-ZiKqLtb6z_9",
        "colab_type": "text"
      },
      "source": [
        "こんな感じでインデント(タブ文字)足りて無いのでは？と怒られます。  \n",
        "ではとりあえず修正して関数にぱんつを渡してみましょう。"
      ]
    },
    {
      "cell_type": "code",
      "metadata": {
        "id": "dJSFDZ2x6rvD",
        "colab_type": "code",
        "colab": {}
      },
      "source": [
        "def nbody_converter(pantie):\n",
        "  nbody_pantie = pantie  # 今はコピーするだけ\n",
        "  return nbody_pantie\n",
        "\n",
        "pantie = Image.open(dreamdir + '0101.png')\n",
        "nbody_converter(pantie)"
      ],
      "execution_count": 0,
      "outputs": []
    },
    {
      "cell_type": "markdown",
      "metadata": {
        "id": "4q7SCDDE7tbs",
        "colab_type": "text"
      },
      "source": [
        "関数にパンツを渡したいときは、  \n",
        "nbody_converter(pantie)  \n",
        "のように()の中に入れれば渡すことができます。関数内での処理が終われば、nbody_pantieが返ってきて表示されます。  \n",
        "\n",
        "今はpantieと同じものが表示されますね？  \n",
        "それもそのはず、nbody_converterではnbody_pantieにpantieを代入しているだけです。  \n",
        "ということは、中にしっかりと処理を書けばもうコンバータの完成です！ Let's コピペ"
      ]
    },
    {
      "cell_type": "code",
      "metadata": {
        "id": "arQsKi227sTo",
        "colab_type": "code",
        "colab": {}
      },
      "source": [
        "def nbody_converter(pantie):\n",
        "  pantie = pantie.crop((8, 0, pantie.width, pantie.height))\n",
        "  nbody_pantie = Image.new('RGBA', (pantie.width*2, pantie.height))\n",
        "  nbody_pantie.paste(pantie, (pantie.width, 0))\n",
        "  nbody_pantie.paste(ImageOps.mirror(pantie))\n",
        "  return nbody_pantie\n",
        "\n",
        "pantie = Image.open(dreamdir + '0101.png')\n",
        "nbody_converter(pantie)"
      ],
      "execution_count": 0,
      "outputs": []
    },
    {
      "cell_type": "markdown",
      "metadata": {
        "id": "-_-nhmOu_Sg8",
        "colab_type": "text"
      },
      "source": [
        "同じ結果が得られるのに回りくどいですね？ 大人のやりそうなことです。  \n",
        "でもこうすることで、2枚目、3枚目のパンツを変換するたびに\n",
        "``` python\n",
        "pantie = pantie.crop((8, 0, pantie.width, pantie.height))\n",
        "nbody_pantie = Image.new('RGBA', (pantie.width*2, pantie.height))\n",
        "nbody_pantie.paste(pantie, (pantie.width, 0))\n",
        "nbody_pantie.paste(ImageOps.mirror(pantie))\n",
        "```\n",
        "を書かずに\n",
        "``` python\n",
        "nbody_converter(pantie)\n",
        "```\n",
        "と書けるほうが遥かに楽で、何をしているのか分かりやすくて良いです。  \n",
        "関数化してしまえば、万が一変換方法にミスがあったとしても、1箇所の変更で済むのでとても楽ちんです。  \n",
        "私や他人のためではありません、**未来のあなたのために名前のつけられるまとまった処理はどんどん関数にしていきましょう。**  \n",
        "　  \n",
        "ただし、関数化することで注意点があります。  \n",
        "たとえばnbody_converterで計算した変数は関数の外から読み取ることはできません。"
      ]
    },
    {
      "cell_type": "code",
      "metadata": {
        "id": "cZg-LIJLQQ1T",
        "colab_type": "code",
        "colab": {}
      },
      "source": [
        "def nbody_converter(pantie):\n",
        "  pantie = pantie.crop((8, 0, pantie.width, pantie.height))\n",
        "  nbody_pantie = Image.new('RGBA', (pantie.width*2, pantie.height))\n",
        "  nbody_pantie.paste(pantie, (pantie.width, 0))\n",
        "  nbody_pantie.paste(ImageOps.mirror(pantie))\n",
        "  return nbody_pantie\n",
        "\n",
        "pantie = Image.open(dreamdir + '0101.png')\n",
        "tmp = nbody_converter(pantie) # てきとーな変数に入れて\n",
        "nbody_pantie # nbody_converter内の変数を読みたいが…"
      ],
      "execution_count": 0,
      "outputs": []
    },
    {
      "cell_type": "markdown",
      "metadata": {
        "id": "xAfFpG-QQ02S",
        "colab_type": "text"
      },
      "source": [
        "NameErrorというのが発生したと思います。 エラー内容は「nbody_pantieが見つかりません」ということです。  \n",
        "一方、dreamdirはどこからでも読めるので、関数はこんなふうにも書けます。"
      ]
    },
    {
      "cell_type": "code",
      "metadata": {
        "id": "wvu2-m7URSyr",
        "colab_type": "code",
        "colab": {}
      },
      "source": [
        "def nbody_converter(name):\n",
        "  pantie = Image.open(dreamdir + name) # 関数内でもdreamdirは読める\n",
        "  pantie = pantie.crop((8, 0, pantie.width, pantie.height))\n",
        "  nbody_pantie = Image.new('RGBA', (pantie.width*2, pantie.height))\n",
        "  nbody_pantie.paste(pantie, (pantie.width, 0))\n",
        "  nbody_pantie.paste(ImageOps.mirror(pantie))\n",
        "  return nbody_pantie\n",
        "\n",
        "nbody_converter('0101.png')  # 問題なく動く"
      ],
      "execution_count": 0,
      "outputs": []
    },
    {
      "cell_type": "markdown",
      "metadata": {
        "id": "sZP7CRqZR0d7",
        "colab_type": "text"
      },
      "source": [
        "はて、どういうことなのか。実はこれタブ文字(インデント)で決まります。  \n",
        "インデントなしで書かれたものはすべて**グローバル変数**という、どこからでも読み取れる変数です。  \n",
        "一方、関数化されることで1つでもインデントが入ると、そのインデント内～returnされるまでのみ読み取れる**ローカル変数**というものになります。  \n",
        "引数で受け取るものも基本的にローカル変数扱いです。\n",
        "つまり、"
      ]
    },
    {
      "cell_type": "code",
      "metadata": {
        "id": "ZkCcXJ50TMEk",
        "colab_type": "code",
        "colab": {}
      },
      "source": [
        "def nbody_converter(pantie):\n",
        "  # ここのpantieは引数で受け取ったローカル変数\n",
        "  # よって以下でcropされてもグローバル変数のpantieに影響しない\n",
        "  pantie = pantie.crop((8, 0, pantie.width, pantie.height))\n",
        "  nbody_pantie = Image.new('RGBA', (pantie.width*2, pantie.height))\n",
        "  nbody_pantie.paste(pantie, (pantie.width, 0))\n",
        "  nbody_pantie.paste(ImageOps.mirror(pantie))\n",
        "  return nbody_pantie\n",
        "\n",
        "pantie = Image.open(dreamdir + '0101.png')\n",
        "nbody_converter(pantie)\n",
        "pantie # nbody_coverterのpantieはローカル変数だったので、このpantieはcropされていない"
      ],
      "execution_count": 0,
      "outputs": []
    },
    {
      "cell_type": "markdown",
      "metadata": {
        "id": "8E1SJy_hTwYt",
        "colab_type": "text"
      },
      "source": [
        "グローバル変数のpantieはnbody_converter内のpantieとは別です。  \n",
        "これらの概念は**変数スコープ**と呼ばれます。簡潔に、『**変数は同じ関数内でしか読み取れない**』ということです。  \n",
        "(インデントなしの部分がすでに1つの大きな関数とみなせば納得だと思います。)  \n",
        "   \n",
        "ちなみに関数の引数についてだけは、本当の本当は別物になっているわけではありません。  \n",
        "変更できてしまう場合もあり、これは[コラム: タプル型](#scrollTo=zn2NmM5sXe-P)にて紹介しています。"
      ]
    },
    {
      "cell_type": "markdown",
      "metadata": {
        "id": "EcxT-pzs1m52",
        "colab_type": "text"
      },
      "source": [
        "###コラム: 関数の引数と戻り値\n",
        "\n",
        "\n"
      ]
    },
    {
      "cell_type": "markdown",
      "metadata": {
        "id": "v-0MyxSWgVz8",
        "colab_type": "text"
      },
      "source": [
        "関数は引数と戻り値を何個でも持つことができます。  \n",
        "正確には戻り値は1つだけなのですが、タプルやリストといった配列にまとめることで可能になります。  \n",
        "例えばパンツを左右に切り分ける関数があるとすると、関数として**入力は切り分けるぱんつとその位置**が必要です。  \n",
        "当然出力は左右のぱんつが必要ですね。そうすると"
      ]
    },
    {
      "cell_type": "code",
      "metadata": {
        "id": "3dHb_JxN2Edm",
        "colab_type": "code",
        "colab": {}
      },
      "source": [
        "def cut_pantie(pantie, width=8):\n",
        "  pantie_left = pantie.crop((0, 0, width, pantie.height))\n",
        "  pantie_right = pantie.crop((width, 0, pantie.width, pantie.height))\n",
        "  return pantie_left, pantie_right\n",
        "\n",
        "pantie = Image.open(dreamdir + '0001.png')\n",
        "left, right = cut_pantie(pantie, 100)"
      ],
      "execution_count": 0,
      "outputs": []
    },
    {
      "cell_type": "code",
      "metadata": {
        "id": "J7EJylA2i0tV",
        "colab_type": "code",
        "colab": {}
      },
      "source": [
        "left"
      ],
      "execution_count": 0,
      "outputs": []
    },
    {
      "cell_type": "code",
      "metadata": {
        "id": "H7INHqiNi1SU",
        "colab_type": "code",
        "colab": {}
      },
      "source": [
        "right"
      ],
      "execution_count": 0,
      "outputs": []
    },
    {
      "cell_type": "markdown",
      "metadata": {
        "id": "TDX0om5Xi8u9",
        "colab_type": "text"
      },
      "source": [
        "こんな感じで2つの入出力を持つことができます。  \n",
        "ひとつ覚えておくと良いテクニックは**入力部分のwidth=8**です。  \n",
        "Pythonの関数は何も入力されなかった場合のデフォルト値を設定することができます。   \n",
        "つまり、次のプログラムはなんの問題もなく動きます。\n"
      ]
    },
    {
      "cell_type": "code",
      "metadata": {
        "id": "QkKT1T9-oapx",
        "colab_type": "code",
        "colab": {}
      },
      "source": [
        "left, right = cut_pantie(pantie)"
      ],
      "execution_count": 0,
      "outputs": []
    },
    {
      "cell_type": "code",
      "metadata": {
        "id": "_01h8DlnoeID",
        "colab_type": "code",
        "colab": {}
      },
      "source": [
        "left"
      ],
      "execution_count": 0,
      "outputs": []
    },
    {
      "cell_type": "code",
      "metadata": {
        "id": "CFPEZWT6ofJO",
        "colab_type": "code",
        "colab": {}
      },
      "source": [
        "right"
      ],
      "execution_count": 0,
      "outputs": []
    },
    {
      "cell_type": "markdown",
      "metadata": {
        "id": "5z8zFmxmoslb",
        "colab_type": "text"
      },
      "source": [
        "このデフォルト値をマスターすれば、必要なパラメータだけ必要なときに変更できる便利な関数ができます。  \n",
        "他にも可変長引数などがあるのですが、それはまた別の機会に！"
      ]
    },
    {
      "cell_type": "markdown",
      "metadata": {
        "id": "FVq1VwfYF7Tj",
        "colab_type": "text"
      },
      "source": [
        "## 連続で変換して保存してみよう\n",
        "\n"
      ]
    },
    {
      "cell_type": "code",
      "metadata": {
        "id": "A9bvf8d_9rZ1",
        "colab_type": "code",
        "colab": {}
      },
      "source": [
        "!git clone https://github.com/TenteEEEE/quiche_pantie_patch.git\n",
        "\n",
        "# 本章の実行に必要なプログラム\n",
        "from PIL import Image, ImageOps\n",
        "dreamdir = './quiche_pantie_patch/dream/'\n",
        "\n",
        "def nbody_converter(pantie):\n",
        "  pantie = pantie.crop((8, 0, pantie.width, pantie.height))\n",
        "  nbody_pantie = Image.new('RGBA', (pantie.width*2, pantie.height))\n",
        "  nbody_pantie.paste(pantie, (pantie.width, 0))\n",
        "  nbody_pantie.paste(ImageOps.mirror(pantie))\n",
        "  return nbody_pantie"
      ],
      "execution_count": 0,
      "outputs": []
    },
    {
      "cell_type": "markdown",
      "metadata": {
        "id": "y-ksjtlS9qh9",
        "colab_type": "text"
      },
      "source": [
        "そろそろPythonがキマってきて、尋常ではない多幸感を感じていることと思います。  \n",
        "ここではプログラムの十八番、繰り返し処理に挑戦してみましょう。  \n",
        "先程用意した素体用の関数を使って、10枚のぱんつを変換してみるとします。  \n",
        "それにはまず10回同じことをするプログラムが必要です。 それは…"
      ]
    },
    {
      "cell_type": "code",
      "metadata": {
        "id": "XJccye7I8-eA",
        "colab_type": "code",
        "colab": {}
      },
      "source": [
        "for num in range(10):\n",
        "  print(num)"
      ],
      "execution_count": 0,
      "outputs": []
    },
    {
      "cell_type": "markdown",
      "metadata": {
        "id": "LYRJ3BtAHWgg",
        "colab_type": "text"
      },
      "source": [
        "このように  \n",
        "for 変数 in 繰り返す要素  \n",
        "のように記述することができます。   \n",
        "今回はrange関数を使い0を含めて10個分(つまり0～9に変化する)繰り返し要素を使い、その値を逐次numに代入しています。  \n",
        "よって、それをprintで表示すると0～9まで順番に表示されているわけですね。\n",
        "\n",
        "**繰り返し実行する範囲は関数と同じで、先頭にタブ文字がある範囲だけ行われます。**つまり  \n"
      ]
    },
    {
      "cell_type": "code",
      "metadata": {
        "id": "YpY02MTJJAyc",
        "colab_type": "code",
        "colab": {}
      },
      "source": [
        "for num in range(10):\n",
        "  print(num)\n",
        "  print(num)"
      ],
      "execution_count": 0,
      "outputs": []
    },
    {
      "cell_type": "markdown",
      "metadata": {
        "id": "ETJlklxgJG1T",
        "colab_type": "text"
      },
      "source": [
        "こうすればそれぞれの数字を2回表示することができます。  \n",
        "\n",
        "ここまでくれば、あとはこのnumに従ってぱんつを読み込み、変換処理を行うだけです！   \n",
        "ぱんつの場所を指定するためには、f(フォーマット)文字列を使うと簡単です。"
      ]
    },
    {
      "cell_type": "code",
      "metadata": {
        "id": "Ag0HJ9K3J6ug",
        "colab_type": "code",
        "colab": {}
      },
      "source": [
        "for num in range(10):\n",
        "  pantie_name = f'{dreamdir}{num}.png'\n",
        "  print(pantie_name)"
      ],
      "execution_count": 0,
      "outputs": []
    },
    {
      "cell_type": "markdown",
      "metadata": {
        "id": "wSSorz0eKmt4",
        "colab_type": "text"
      },
      "source": [
        "一見難解なようですが、実はとてもシンプル  \n",
        "定義は **f'文字列'** なので普通の文字列型の左にfをつけるだけです。  \n",
        "fをつけると文字列内に変数を書くことができ、f'{変数名}' このように{}で囲えばOKです。  \n",
        "   \n",
        "このf文字列はフォーマット(書式)というように、詳細な書式を指定することができます。  \n",
        "フォーマットは変数名の後に:をつけると指定できます。  \n",
        "パンツパッチのパンツの名前はすべて1から始める空白を0埋めした4桁の数字で管理されています。  \n",
        "この場合は"
      ]
    },
    {
      "cell_type": "code",
      "metadata": {
        "id": "jrQrzi2BKjJ6",
        "colab_type": "code",
        "colab": {}
      },
      "source": [
        "for num in range(10):\n",
        "  pantie_name = f'{dreamdir}{num+1:04d}.png'\n",
        "  print(pantie_name)"
      ],
      "execution_count": 0,
      "outputs": []
    },
    {
      "cell_type": "markdown",
      "metadata": {
        "id": "lPDkvGi0Lssk",
        "colab_type": "text"
      },
      "source": [
        "このように{num+1:04d}とすれば、『numに1を足して、それを0埋めの4桁の整数へ』という形にできます。  \n",
        "これで完璧！では処理を書いてみましょう。"
      ]
    },
    {
      "cell_type": "code",
      "metadata": {
        "id": "FQ_T-MxoLru_",
        "colab_type": "code",
        "colab": {}
      },
      "source": [
        "for num in range(10):\n",
        "  pantie_name = f'{dreamdir}{num+1:04d}.png'\n",
        "  pantie = Image.open(pantie_name)\n",
        "  npantie = nbody_converter(pantie)"
      ],
      "execution_count": 0,
      "outputs": []
    },
    {
      "cell_type": "markdown",
      "metadata": {
        "id": "Vbt7cD2QNMzz",
        "colab_type": "text"
      },
      "source": [
        "なかなか悪くはありませんが、変換結果が全く見れませんね？  \n",
        "これは1つの変換が終わるたびに画像として保存したほうが良さそうです。  \n",
        "画像の保存にはsave関数があり、引数には保存する名前を入力します。  \n",
        "例えば"
      ]
    },
    {
      "cell_type": "code",
      "metadata": {
        "id": "bgqSEa0HMJZj",
        "colab_type": "code",
        "colab": {}
      },
      "source": [
        "for num in range(10):\n",
        "  pantie_name = f'{dreamdir}{num+1:04d}.png'\n",
        "  pantie = Image.open(pantie_name)\n",
        "  npantie = nbody_converter(pantie)\n",
        "  npantie.save(f'{num+1:04d}.png')"
      ],
      "execution_count": 0,
      "outputs": []
    },
    {
      "cell_type": "markdown",
      "metadata": {
        "id": "hgsTuWQXOGcv",
        "colab_type": "text"
      },
      "source": [
        "こんな感じです。  \n",
        "結果は左側に目次やコードスニペットなどが並んでいるメニューが有ると思うのですが、  \n",
        "そこにファイルという項目があります。  \n",
        "そこを押すと(もしかしたら更新ボタンも押す必要があるかも)たぶん0001.png～0010.pngができていると思います。  \n",
        "あとはじっくり見て楽しみましょう！\n",
        "\n",
        "ちなみにrangeは様々な条件が指定できます。たとえば10～20の範囲で1ずつ変化させたければ"
      ]
    },
    {
      "cell_type": "code",
      "metadata": {
        "id": "UJk0-iYwROQU",
        "colab_type": "code",
        "colab": {}
      },
      "source": [
        "for num in range(10,20+1):\n",
        "  print(num)"
      ],
      "execution_count": 0,
      "outputs": []
    },
    {
      "cell_type": "markdown",
      "metadata": {
        "id": "PWNWI_7ERhhO",
        "colab_type": "text"
      },
      "source": [
        "のように、range(開始, 終了)というように指定できます。 注意が必要なのは終了は1つ小さな値で終わるということです。  \n",
        "また、1,3,5,7…というように奇数で繰り返したい場合は"
      ]
    },
    {
      "cell_type": "code",
      "metadata": {
        "id": "qd1amB4lR2zr",
        "colab_type": "code",
        "colab": {}
      },
      "source": [
        "for num in range(1,10,2):\n",
        "  print(num)"
      ],
      "execution_count": 0,
      "outputs": []
    },
    {
      "cell_type": "markdown",
      "metadata": {
        "id": "UnOCRV1hSG7Q",
        "colab_type": "text"
      },
      "source": [
        "最後に繰り返しごとに増える数をしていできます。 便利なので覚えておくと良いことがあるでしょう。"
      ]
    },
    {
      "cell_type": "markdown",
      "metadata": {
        "id": "czKNxth6zhI0",
        "colab_type": "text"
      },
      "source": [
        "### コラム: forでループできるもの"
      ]
    },
    {
      "cell_type": "markdown",
      "metadata": {
        "id": "t_w0IiRYzkzX",
        "colab_type": "text"
      },
      "source": [
        "for には必ずrangeが必要なのかというと、それはforの本質ではありません。  \n",
        "for様はもっとエレガントな方です。"
      ]
    },
    {
      "cell_type": "code",
      "metadata": {
        "id": "4pIsRGCEzrFk",
        "colab_type": "code",
        "colab": {}
      },
      "source": [
        "for i in (1,2,3): # タプル型で\n",
        "  print(i)\n",
        "\n",
        "for i in [1,2,3]: # リスト型で\n",
        "  print(i)\n",
        "\n",
        "for i in {1,2,3}: # セット型で\n",
        "  print(i)"
      ],
      "execution_count": 0,
      "outputs": []
    },
    {
      "cell_type": "markdown",
      "metadata": {
        "id": "l2o0FSRy1q3P",
        "colab_type": "text"
      },
      "source": [
        "Pythonにはまだ紹介していないデータ型がたくさんありますが、だいたいどんなものでもループできます。 \n",
        "データ型について詳しくはつよつよ編で紹介します。  \n",
        "ちなみに文字列ですると"
      ]
    },
    {
      "cell_type": "code",
      "metadata": {
        "id": "g8jiUwbO2X0w",
        "colab_type": "code",
        "colab": {}
      },
      "source": [
        "text = 'Hello pantie!'\n",
        "for t in text:\n",
        "  print(t)"
      ],
      "execution_count": 0,
      "outputs": []
    },
    {
      "cell_type": "markdown",
      "metadata": {
        "id": "5AK-sYbQ42mP",
        "colab_type": "text"
      },
      "source": [
        "このように一文字ずつ取り出すことができます。  \n",
        "ジェネレーターという機能を理解すると、独自のループ処理を簡単に書くことができます。"
      ]
    },
    {
      "cell_type": "code",
      "metadata": {
        "id": "gRYm4d1x3Yg_",
        "colab_type": "code",
        "colab": {}
      },
      "source": [
        "import os\n",
        "def pantie_loader():\n",
        "  panties = sorted(os.listdir(dreamdir))\n",
        "  for i, pantie in enumerate(panties):\n",
        "    yield {'index': i, 'name': pantie}\n",
        "\n",
        "for pantie in pantie_loader():\n",
        "  print(pantie)"
      ],
      "execution_count": 0,
      "outputs": []
    },
    {
      "cell_type": "markdown",
      "metadata": {
        "id": "dI-DbhsX5-JR",
        "colab_type": "text"
      },
      "source": [
        "## よちよち編の実装に挑戦！"
      ]
    },
    {
      "cell_type": "code",
      "metadata": {
        "id": "r4uWaPp47mdX",
        "colab_type": "code",
        "colab": {}
      },
      "source": [
        "!git clone https://github.com/TenteEEEE/quiche_pantie_patch.git\n",
        "\n",
        "# 本章の実行に必要なプログラム\n",
        "from PIL import Image, ImageOps\n",
        "dreamdir = './quiche_pantie_patch/dream/'"
      ],
      "execution_count": 0,
      "outputs": []
    },
    {
      "cell_type": "markdown",
      "metadata": {
        "id": "RPHmlOpd6Cze",
        "colab_type": "text"
      },
      "source": [
        "ではここまで理解すれば、リボンだけを堪能するプログラムも作れるはずです。  \n",
        "試しに201～210番のパンツのリボンを切り取り、完全なリボンにして保存するプログラムを次のブロックに考えて書いてみましょう。  \n",
        "リボンの保存名は上書き保存にならなければ何でも良いものとします。  \n",
        "**実装課題では何を使っても構いません！**[Google先生](https://www.google.co.jp/)に聞いて出てきたコードやパッケージも自由に使ってください。"
      ]
    },
    {
      "cell_type": "code",
      "metadata": {
        "id": "ah--aFK-7DFW",
        "colab_type": "code",
        "colab": {}
      },
      "source": [
        "# Let's try!\n"
      ],
      "execution_count": 0,
      "outputs": []
    },
    {
      "cell_type": "markdown",
      "metadata": {
        "id": "gmBorxJn7Hhh",
        "colab_type": "text"
      },
      "source": [
        "### 解答例\n",
        "ここでは5段階のレベル別コードを示します。  "
      ]
    },
    {
      "cell_type": "markdown",
      "metadata": {
        "id": "idvweUcMj7Uw",
        "colab_type": "text"
      },
      "source": [
        "まずはレベル1 とりあえず処理を羅列するだけ"
      ]
    },
    {
      "cell_type": "code",
      "metadata": {
        "id": "RO4ZJ4UJ7amg",
        "colab_type": "code",
        "colab": {}
      },
      "source": [
        "# Level1 できればforを使いましょうコード\n",
        "pantie = Image.open(dreamdir+'0200.png')\n",
        "half_ribbon = image.crop((7,18,32,60))\n",
        "ribbon = Image.new('RGB', (half_ribbon.width*2, half_ribbon.height))\n",
        "ribbon.paste(half_ribbon, (half_ribbon.width,0))\n",
        "ribbon.paste(ImageOps.mirror(half_ribbon), (0,0))\n",
        "ribbon.save('0200.png')\n",
        "\n",
        "pantie = Image.open(dreamdir+'0201.png')\n",
        "half_ribbon = image.crop((7,18,32,60))\n",
        "ribbon = Image.new('RGB', (half_ribbon.width*2, half_ribbon.height))\n",
        "ribbon.paste(half_ribbon, (half_ribbon.width,0))\n",
        "ribbon.paste(ImageOps.mirror(half_ribbon), (0,0))\n",
        "ribbon.save('0201.png')\n",
        "\n",
        "# 以下省略！"
      ],
      "execution_count": 0,
      "outputs": []
    },
    {
      "cell_type": "markdown",
      "metadata": {
        "id": "HOwUbbYGkBUI",
        "colab_type": "text"
      },
      "source": [
        "あまりにも書くのが大変なので、このようにforでまとめるのが良いでしょう。"
      ]
    },
    {
      "cell_type": "code",
      "metadata": {
        "id": "6tu7k87C7P3n",
        "colab_type": "code",
        "colab": {}
      },
      "source": [
        "# Level2 よくできましたコード\n",
        "for num in range(10):\n",
        "  pantie_name = f'{dreamdir}{num+201:04d}.png'\n",
        "  pantie = Image.open(pantie_name)\n",
        "  half_ribbon = image.crop((7,18,32,60))\n",
        "  ribbon = Image.new('RGB', (half_ribbon.width*2, half_ribbon.height))\n",
        "  ribbon.paste(half_ribbon, (half_ribbon.width,0))\n",
        "  ribbon.paste(ImageOps.mirror(half_ribbon), (0,0))\n",
        "  ribbon.save(f'{num+201:04d}.png')"
      ],
      "execution_count": 0,
      "outputs": []
    },
    {
      "cell_type": "markdown",
      "metadata": {
        "id": "GAGNSYEhkNC0",
        "colab_type": "text"
      },
      "source": [
        "更に欲を言えばリボンの作成を関数化すると、本章完全理解のすばらしいコードになります。"
      ]
    },
    {
      "cell_type": "code",
      "metadata": {
        "id": "5QqsOHD-Oe9_",
        "colab_type": "code",
        "colab": {}
      },
      "source": [
        "# Level3 きほん編完全理解コード\n",
        "def extract_ribbon(image):\n",
        "  half_ribbon = image.crop((7,18,32,60))\n",
        "  ribbon = Image.new('RGB', (half_ribbon.width*2, half_ribbon.height))\n",
        "  ribbon.paste(half_ribbon, (half_ribbon.width,0))\n",
        "  ribbon.paste(ImageOps.mirror(half_ribbon), (0,0))\n",
        "  return ribbon\n",
        "\n",
        "for num in range(201,211):\n",
        "  pantie_name = f'{dreamdir}{num:04d}.png'\n",
        "  pantie = Image.open(pantie_name)\n",
        "  ribbon = extract_ribbon(pantie)\n",
        "  ribbon.save(f'{num:04d}.png')"
      ],
      "execution_count": 0,
      "outputs": []
    },
    {
      "cell_type": "markdown",
      "metadata": {
        "id": "etQCoAdLkRTB",
        "colab_type": "text"
      },
      "source": [
        "ちなみにジェネレーターや辞書型というのを覚えるとこんな書き方もできます。  \n",
        "より直感的なループ処理や変数名が書けるようになります。(まだ覚えなくて大丈夫！)"
      ]
    },
    {
      "cell_type": "code",
      "metadata": {
        "id": "hzEUKGpS8S8k",
        "colab_type": "code",
        "colab": {}
      },
      "source": [
        "# Level4 あなた実はPython知ってますねコード\n",
        "def pantie_loader(pantie_range):\n",
        "  for p in pantie_range:\n",
        "    yield {'image':Image.open(f'{dreamdir}{p:04d}.png'), 'name': f'{p:04d}.png'}\n",
        "\n",
        "def extract_ribbon(image):\n",
        "  half_ribbon = image.crop((7,18,32,60))\n",
        "  ribbon = Image.new('RGB', (half_ribbon.width*2, half_ribbon.height))\n",
        "  ribbon.paste(half_ribbon, (half_ribbon.width,0))\n",
        "  ribbon.paste(ImageOps.mirror(half_ribbon), (0,0))\n",
        "  return ribbon\n",
        "\n",
        "for pantie in pantie_loader(range(201,211)):\n",
        "  ribbon = extract_ribbon(pantie['image'])\n",
        "  ribbon.save(pantie['name'])"
      ],
      "execution_count": 0,
      "outputs": []
    },
    {
      "cell_type": "markdown",
      "metadata": {
        "id": "CFApbAHZdb2T",
        "colab_type": "text"
      },
      "source": [
        "Pythonレベルが上がるとマルチスレッドとマルチプロセスを使いこなせるようになります。  \n",
        "次のはただのサンプルで、現時点で理解する必要はまったくないのですが、ぱんつ読み込みスレッドを走らせ、  \n",
        "読み込まれ次第マルチプロセスで処理し、結果をまたマルチスレッドで書き出すことができます。  "
      ]
    },
    {
      "cell_type": "code",
      "metadata": {
        "id": "PZGbXuFjAs6Q",
        "colab_type": "code",
        "colab": {}
      },
      "source": [
        "# Level5 あなたさまのコミットをお待ちしていますコード\n",
        "from time import time, sleep\n",
        "from concurrent.futures import ThreadPoolExecutor, ProcessPoolExecutor\n",
        "\n",
        "def pantie_loader(index):\n",
        "  return {'image':Image.open(f'{dreamdir}{index:04d}.png'), 'name': f'{index:04d}.png'}\n",
        "\n",
        "def extract_ribbon(pantie):\n",
        "  half_ribbon = pantie['image'].crop((7,18,32,60))\n",
        "  ribbon = Image.new('RGB', (half_ribbon.width*2, half_ribbon.height))\n",
        "  ribbon.paste(half_ribbon, (half_ribbon.width,0))\n",
        "  ribbon.paste(ImageOps.mirror(half_ribbon), (0,0))\n",
        "  return {'image':ribbon, 'name': pantie['name']}\n",
        "\n",
        "pantie_range = range(201,211)\n",
        "\n",
        "# マルチプロセス&マルチスレッド\n",
        "st = time()\n",
        "with ThreadPoolExecutor(max_workers=10) as thread_exe:\n",
        "  panties = thread_exe.map(pantie_loader, pantie_range)\n",
        "  with ProcessPoolExecutor(max_workers=10) as pool_exe:\n",
        "    results = pool_exe.map(extract_ribbon, panties)\n",
        "  tmp = thread_exe.map(lambda result: result['image'].save(result['name']), results)\n",
        "print(f'Multi Process:{time()-st}秒')\n",
        "\n",
        "# シングルプロセス&シングルスレッド\n",
        "st = time()\n",
        "for num in pantie_range:\n",
        "  pantie = pantie_loader(num)\n",
        "  ribbon = extract_ribbon(pantie)\n",
        "  ribbon['image'].save(ribbon['name'])\n",
        "print(f'Single Process:{time()-st}秒')"
      ],
      "execution_count": 0,
      "outputs": []
    },
    {
      "cell_type": "markdown",
      "metadata": {
        "id": "Af6B67GNtLC2",
        "colab_type": "text"
      },
      "source": [
        "今は画像処理がシンプルで早く終わるため、プロセスやスレッドを生成する時間(オーバーヘッド)で不利ですが、  \n",
        "擬似的に高負荷の関数を、sleepという処理を指定時間だけ待機する関数を用いてシミュレートできます。"
      ]
    },
    {
      "cell_type": "code",
      "metadata": {
        "id": "m-s_6e8QtJQC",
        "colab_type": "code",
        "colab": {}
      },
      "source": [
        "def extract_ribbon(pantie):\n",
        "  half_ribbon = pantie['image'].crop((7,18,32,60))\n",
        "  ribbon = Image.new('RGB', (half_ribbon.width*2, half_ribbon.height))\n",
        "  ribbon.paste(half_ribbon, (half_ribbon.width,0))\n",
        "  ribbon.paste(ImageOps.mirror(half_ribbon), (0,0))\n",
        "  sleep(0.5) # なにか重い処理\n",
        "  return {'image':ribbon, 'name': pantie['name']}\n",
        "\n",
        "# マルチプロセス&マルチスレッド\n",
        "st = time()\n",
        "with ThreadPoolExecutor(max_workers=10) as thread_exe:\n",
        "  panties = thread_exe.map(pantie_loader, pantie_range)\n",
        "  with ProcessPoolExecutor(max_workers=10) as pool_exe:\n",
        "    results = pool_exe.map(extract_ribbon, panties)\n",
        "  tmp = thread_exe.map(lambda result: result['image'].save(result['name']), results)\n",
        "print(f'Multi Process:{time()-st}秒')\n",
        "\n",
        "# シングルプロセス&シングルスレッド\n",
        "st = time()\n",
        "for num in pantie_range:\n",
        "  pantie = pantie_loader(num)\n",
        "  ribbon = extract_ribbon(pantie)\n",
        "  ribbon['image'].save(ribbon['name'])\n",
        "print(f'Single Process:{time()-st}秒')"
      ],
      "execution_count": 0,
      "outputs": []
    },
    {
      "cell_type": "markdown",
      "metadata": {
        "id": "aVmjf3vJuetU",
        "colab_type": "text"
      },
      "source": [
        "このように条件にもよりますが、CPUさんもテンションぶち上げでかなり高速化できます。  \n",
        "スレッドやプロセスの話はまた機会があればします！"
      ]
    },
    {
      "cell_type": "markdown",
      "metadata": {
        "id": "xDNnPo-vFm2d",
        "colab_type": "text"
      },
      "source": [
        "# きほん編 [パッチプログラムのベースを作る]\n",
        "ここでは画像の拡大/縮小、そしてより高度なパッチプログラムを作るために条件分岐などを学びます。  \n",
        "Pythonの基本を理解し、入出力を持つアプリケーションを作れるようになるのが目的です。"
      ]
    },
    {
      "cell_type": "markdown",
      "metadata": {
        "id": "7SszwB8cor53",
        "colab_type": "text"
      },
      "source": [
        "## リサイズ"
      ]
    },
    {
      "cell_type": "code",
      "metadata": {
        "id": "mZdaxVPEpO2m",
        "colab_type": "code",
        "colab": {}
      },
      "source": [
        "!git clone https://github.com/TenteEEEE/quiche_pantie_patch.git\n",
        "\n",
        "# 本章の実行に必要なプログラム\n",
        "from PIL import Image, ImageOps\n",
        "dreamdir = './quiche_pantie_patch/dream/'\n",
        "\n",
        "def extract_ribbon(image):\n",
        "  half_ribbon = image.crop((7,18,32,60))\n",
        "  ribbon = Image.new('RGB', (half_ribbon.width*2, half_ribbon.height))\n",
        "  ribbon.paste(half_ribbon, (half_ribbon.width,0))\n",
        "  ribbon.paste(ImageOps.mirror(half_ribbon), (0,0))\n",
        "  return ribbon"
      ],
      "execution_count": 0,
      "outputs": []
    },
    {
      "cell_type": "markdown",
      "metadata": {
        "id": "zIbkYb_HpAlV",
        "colab_type": "text"
      },
      "source": [
        "リボンをすっかり堪能できる状態になりましたが、このリボンもう少し大きくしたい…    \n",
        "PILさんはできるモジュールなので、resize関数がすでに用意されています！ \n",
        "\n",
        "使い方は 変数名.resize((横幅、縦幅))です。 ではリボンの縦と横を5倍にしてみましょう"
      ]
    },
    {
      "cell_type": "code",
      "metadata": {
        "id": "Jdu52Sd4pTA6",
        "colab_type": "code",
        "colab": {}
      },
      "source": [
        "pantie = Image.open(f'{dreamdir}{101:04d}.png')\n",
        "ribbon = extract_ribbon(pantie)\n",
        "ribbon.resize((ribbon.width*5, ribbon.height*5))"
      ],
      "execution_count": 0,
      "outputs": []
    },
    {
      "cell_type": "markdown",
      "metadata": {
        "id": "dJ91SBIHrCG_",
        "colab_type": "text"
      },
      "source": [
        "うむ、悪くないですね。 しかし、拡大されるとちょっと荒く見えます。  \n",
        "というのも、これは少ない情報量を無理やりかさ増ししているからです。  \n",
        "ただし、これはすこしだけ改善する方法があります。"
      ]
    },
    {
      "cell_type": "code",
      "metadata": {
        "id": "3wAHRQF-rZ6_",
        "colab_type": "code",
        "colab": {}
      },
      "source": [
        "ribbon.resize((ribbon.width*5, ribbon.height*5), resample=Image.BICUBIC)"
      ],
      "execution_count": 0,
      "outputs": []
    },
    {
      "cell_type": "markdown",
      "metadata": {
        "id": "llyPneH9Ggi7",
        "colab_type": "text"
      },
      "source": [
        "このリサンプリングという設定は2つのピクセル間をどのように補間(間を埋める)するかという設定です。  \n",
        "デフォルトではNearestという最も近いピクセルをコピーします。(補間なし)  \n",
        "細かいことを気にしない方は、だいたいBICUBICという方法を選んでおけばいい感じです。\n",
        "\n",
        "この違いが気になる方はコラムを読んでください！"
      ]
    },
    {
      "cell_type": "markdown",
      "metadata": {
        "id": "RZHuiZKuEdHh",
        "colab_type": "text"
      },
      "source": [
        "### コラム: 補間の種類と計算時間"
      ]
    },
    {
      "cell_type": "markdown",
      "metadata": {
        "id": "yJq9YKySFX8X",
        "colab_type": "text"
      },
      "source": [
        "PILでできる補間方法は3種類。 \n",
        "ここは3画素の白黒画像でその違いを見てみましょう。"
      ]
    },
    {
      "cell_type": "code",
      "metadata": {
        "id": "aOuIwmCiIHmB",
        "colab_type": "code",
        "colab": {}
      },
      "source": [
        "binary = Image.new('L',(3,1)) # 大きさ3x1のモノクロ画像を用意\n",
        "binary.putpixel((1,0),255)    # 中央の1ピクセルだけ白にして\n",
        "binary.resize((3*100,1*100), resample=Image.NEAREST) # 100倍に拡大(補間なし)"
      ],
      "execution_count": 0,
      "outputs": []
    },
    {
      "cell_type": "markdown",
      "metadata": {
        "id": "VZ_-WNhvS_uJ",
        "colab_type": "text"
      },
      "source": [
        "補間なしだと元のまま3つのブロックが見えます。   \n",
        "このブロック間を埋めようとすると、みなさんならどうしますか？  \n",
        "黒を0、白を1の明るさとすると、その中間の値はいくつになるべきでしょうか？   \n",
        "最もシンプルな方法は0と1を直線で結んで、中間は0.5になるような線形補間というものです。  \n",
        "これを隣接する4ピクセルへと画像処理用に拡張したものは双線形(Bilinear)補間と呼ばれます。"
      ]
    },
    {
      "cell_type": "code",
      "metadata": {
        "id": "g9_5Wb95MbP-",
        "colab_type": "code",
        "colab": {}
      },
      "source": [
        "binary.resize((3*100,1*100), resample=Image.BILINEAR) # 最もシンプルな補間"
      ],
      "execution_count": 0,
      "outputs": []
    },
    {
      "cell_type": "markdown",
      "metadata": {
        "id": "UM3NJOn6Tmdc",
        "colab_type": "text"
      },
      "source": [
        "ん～なんだか中央が不自然に明るくないですか？  \n",
        "これは我々の目の感度が線形ではない(2倍の輝度を素直に2倍とは感じない)ことに起因します。  \n",
        "人間の多くの感度は対数的で、小さな量の変化をよく捉えることができる一方で、大きな量の差異はほとんど知覚できません。  \n",
        "\n",
        "```\n",
        "たとえば100ml程度のコップの水に大さじ1の砂糖を加えると、ほとんどの人がその差に気づくはずですが、  \n",
        "100mlのコーラに同じ砂糖を加えて気づくことができるでしょうか？   \n",
        "おそらく無添のコーラとその場で飲み比べてようやく気づくことができるでしょう。\n",
        "ちなみに私はルートビアが好きです。\n",
        "```\n",
        "\n",
        "とにかく、人間は明るいものの差異の判定がガバガバです。  \n",
        "つまりなめらかに補間しようとすると、**明るい部分は緩やかに変化させ、暗いところをより大きく変化させると良い**わけです。  \n",
        "そんな願いを叶えてくれるのが3次式で補間する方法です。"
      ]
    },
    {
      "cell_type": "code",
      "metadata": {
        "id": "pyl2yJ82JBzt",
        "colab_type": "code",
        "colab": {}
      },
      "source": [
        "binary.resize((3*100,1*100), resample=Image.BICUBIC) # なめらかな補間"
      ],
      "execution_count": 0,
      "outputs": []
    },
    {
      "cell_type": "markdown",
      "metadata": {
        "id": "SLNGu0X-2JGf",
        "colab_type": "text"
      },
      "source": [
        "このようにより自然な感じになります。  \n",
        "さらにランチョスという数学者さんが考えたイケてる方法は"
      ]
    },
    {
      "cell_type": "code",
      "metadata": {
        "id": "FSvTcbisJF2P",
        "colab_type": "code",
        "colab": {}
      },
      "source": [
        "binary.resize((3*100,1*100), resample=Image.LANCZOS) # ちょっとデキル補間"
      ],
      "execution_count": 0,
      "outputs": []
    },
    {
      "cell_type": "markdown",
      "metadata": {
        "id": "5QOtwU13MXlU",
        "colab_type": "text"
      },
      "source": [
        "どうでしょう？ 補間方法によって拡大された画像にかなり違いがあることが分かると思います。  \n",
        "ちなみに横方向にスライスした輝度をプロットするとこんな感じです"
      ]
    },
    {
      "cell_type": "code",
      "metadata": {
        "id": "uwiTd1vRJhw8",
        "colab_type": "code",
        "colab": {}
      },
      "source": [
        "import numpy as np\n",
        "import matplotlib.pyplot as plt\n",
        "nearest = np.array(binary.resize((3*100,1*100), resample=Image.NEAREST))\n",
        "bilinear= np.array(binary.resize((3*100,1*100), resample=Image.BILINEAR))\n",
        "bicubic = np.array(binary.resize((3*100,1*100), resample=Image.BICUBIC))\n",
        "lanczos = np.array(binary.resize((3*100,1*100), resample=Image.LANCZOS))\n",
        "plt.figure(figsize=(12, 8))\n",
        "plt.plot(nearest[50,:] , linewidth = 2.0, label='Nearest')\n",
        "plt.plot(bilinear[50,:], linewidth = 2.0, label='Bilinear')\n",
        "plt.plot(bicubic[50,:] , linewidth = 2.0, label='Bicubic')\n",
        "plt.plot(lanczos[50,:] , linewidth = 2.0, label='Lanczos')\n",
        "plt.legend(fontsize=18)"
      ],
      "execution_count": 0,
      "outputs": []
    },
    {
      "cell_type": "markdown",
      "metadata": {
        "id": "gXZ5mdj9F2sp",
        "colab_type": "text"
      },
      "source": [
        "高品質なLANCZOSをずっと使えば良いのでは？というところもありますが、これは計算時間の問題があります。  \n",
        "計算時間は%timeitというコマンドの後に調べることができます。"
      ]
    },
    {
      "cell_type": "code",
      "metadata": {
        "id": "aQHKNzwDrZ0L",
        "colab_type": "code",
        "colab": {}
      },
      "source": [
        "%timeit ribbon.resize((ribbon.width*5, ribbon.height*5), resample=Image.NEAREST)\n",
        "%timeit ribbon.resize((ribbon.width*5, ribbon.height*5), resample=Image.BILINEAR)\n",
        "%timeit ribbon.resize((ribbon.width*5, ribbon.height*5), resample=Image.BICUBIC)\n",
        "%timeit ribbon.resize((ribbon.width*5, ribbon.height*5), resample=Image.LANCZOS)"
      ],
      "execution_count": 0,
      "outputs": []
    },
    {
      "cell_type": "markdown",
      "metadata": {
        "id": "A8ryIfMlFWzV",
        "colab_type": "text"
      },
      "source": [
        "このように補間は補間なしのNearestと比べると10倍程度の時間がかかる上、LANCZOSは20倍ほどの時間がかかります。  \n",
        "品質と速度のバランスから、BICUBICはよく選ばれる手法ですが、品質に重きを置く場合はLANCZOSを選ぶと良いでしょう。\n"
      ]
    },
    {
      "cell_type": "markdown",
      "metadata": {
        "id": "Ui0Ub2KaTd8Y",
        "colab_type": "text"
      },
      "source": [
        "## 入力を受け取る"
      ]
    },
    {
      "cell_type": "code",
      "metadata": {
        "id": "TzNs9jrYVsDv",
        "colab_type": "code",
        "colab": {}
      },
      "source": [
        "!git clone https://github.com/TenteEEEE/quiche_pantie_patch.git\n",
        "\n",
        "# 本章の実行に必要なプログラム\n",
        "from PIL import Image, ImageOps\n",
        "dreamdir = './quiche_pantie_patch/dream/'\n",
        "\n",
        "def extract_ribbon(image):\n",
        "  half_ribbon = image.crop((7,18,32,60))\n",
        "  ribbon = Image.new('RGB', (half_ribbon.width*2, half_ribbon.height))\n",
        "  ribbon.paste(half_ribbon, (half_ribbon.width,0))\n",
        "  ribbon.paste(ImageOps.mirror(half_ribbon), (0,0))\n",
        "  return ribbon"
      ],
      "execution_count": 0,
      "outputs": []
    },
    {
      "cell_type": "markdown",
      "metadata": {
        "id": "m7O8XWNyTnC7",
        "colab_type": "text"
      },
      "source": [
        "画像をリサイズ可能になったところで、決まった倍率だけでは機能的に物足りません。  \n",
        "ここは倍率を後から入力できるようにすると便利そうです。  \n",
        "Pythonではinputという関数を使うと、ユーザが数値や文字を入力できるようになります。  \n",
        "まずは以下のブロックを実行してみてください。 おそらく何かが入力できそうなボックスが見えるはずで、何か文字を打ってEnterを押してください。"
      ]
    },
    {
      "cell_type": "code",
      "metadata": {
        "id": "MQq3amUYTvg5",
        "colab_type": "code",
        "colab": {}
      },
      "source": [
        "m = input('拡大率を入力:')\n",
        "print(m)"
      ],
      "execution_count": 0,
      "outputs": []
    },
    {
      "cell_type": "markdown",
      "metadata": {
        "id": "uB4glFDQVKRM",
        "colab_type": "text"
      },
      "source": [
        "すると入力されものが出力されるはずです。 inputにはこれから入力するものに関する説明が表示できます。  \n",
        "指定はinput(文字列型)という形でできます。ちなみに**input関数の戻り値は文字列型です**。    \n",
        "つまり、このような軽率な書き方は怒られてしまいます。"
      ]
    },
    {
      "cell_type": "code",
      "metadata": {
        "id": "nsErBxHpVonO",
        "colab_type": "code",
        "colab": {}
      },
      "source": [
        "pantie = Image.open(f'{dreamdir}{101:04d}.png')\n",
        "ribbon = extract_ribbon(pantie)\n",
        "m = input('拡大率を入力:')\n",
        "ribbon = ribbon.resize((ribbon.width*m, ribbon.height*m), resample=Image.BICUBIC)\n",
        "ribbon"
      ],
      "execution_count": 0,
      "outputs": []
    },
    {
      "cell_type": "markdown",
      "metadata": {
        "id": "h3S8KdtZXAeP",
        "colab_type": "text"
      },
      "source": [
        "TypeError: an integer is required (got type str)  \n",
        "と言われましたね？ これは整数が入力されるはずだった関数に文字列型が入力されると起こるエラーです。  \n",
        "プログラムに一度でも触れたことがある方にはあぁなるほどとなるかもしれませんが、このエラーはとてもコンピュータ的で様々な示唆に富んでいます。  \n",
        "この手の話はまず**「型とはなにか」**について簡単に理解しておく必要があります。  \n",
        "\n",
        "型とはずばり**データの保存形式**です。 \n",
        "```\n",
        "これは周知の事実かもしれませんが、現在に普及しているコンピュータは0(OFF)と1(ON)しか識別できません。  \n",
        "すべてのぱんつ、ゲーム、あるいはここColabのシステムも0と1の集合によってできています。  \n",
        "しかしコンピュータといえど、その読み方は知らせなければ正しく読むことができません。  \n",
        "この場合はより高度なファイル形式の話になってしまうのですが、変数でも同じことです。  \n",
        "たとえば「0110 0001」この解釈は型によって様々です。これは整数型とすれば97、文字列型とすればaになります。 \n",
        "```\n",
        "要するに、正しい型を伝えなければプログラムは容易に意図しない動き(バグ)を引き起こします。  \n",
        "これを避けるためにスマートなPythonさんはエラーを出し、あなたの正気を確かめてくれます。  \n",
        "ぱんつでPythonを学ぼうというあなたの正気は私が保証できるので、ここは**型変換**を覚えましょう。\n"
      ]
    },
    {
      "cell_type": "code",
      "metadata": {
        "id": "S09LSJNrdVx7",
        "colab_type": "code",
        "colab": {}
      },
      "source": [
        "int('10')"
      ],
      "execution_count": 0,
      "outputs": []
    },
    {
      "cell_type": "markdown",
      "metadata": {
        "id": "pKbxREBYkgEh",
        "colab_type": "text"
      },
      "source": [
        "このように型変換とは 変換したい型(変数名) でできます。  \n",
        "intというのはinteger(整数)の頭文字をとったもので、0、1、2、3... といった小数点のない数を扱う型です。  \n",
        "型変換で本当に変わったかはtype関数で調べることができます。"
      ]
    },
    {
      "cell_type": "code",
      "metadata": {
        "id": "Cxi-MqcbtXKz",
        "colab_type": "code",
        "colab": {}
      },
      "source": [
        "print(type('10'))\n",
        "print(type(int('10')))"
      ],
      "execution_count": 0,
      "outputs": []
    },
    {
      "cell_type": "markdown",
      "metadata": {
        "id": "wJk8BLcEtn5s",
        "colab_type": "text"
      },
      "source": [
        "いい感じですね！ では拡大率を指定する機能を埋め込んでみましょう。"
      ]
    },
    {
      "cell_type": "code",
      "metadata": {
        "id": "O43P0nQ2ViL5",
        "colab_type": "code",
        "colab": {}
      },
      "source": [
        "pantie = Image.open(f'{dreamdir}{101:04d}.png')\n",
        "ribbon = extract_ribbon(pantie)\n",
        "m = int(input('拡大率を入力:'))\n",
        "ribbon = ribbon.resize((ribbon.width*m, ribbon.height*m), resample=Image.BICUBIC)\n",
        "ribbon"
      ],
      "execution_count": 0,
      "outputs": []
    },
    {
      "cell_type": "markdown",
      "metadata": {
        "id": "84L4RnsNxQa2",
        "colab_type": "text"
      },
      "source": [
        "なかなかいい感じですが、拡大率に0を入力すると、拡大する大きさが0になるためエラーが出ます。  \n",
        "ここは**入力をチェックする機構を作ったほうが良さそう**です。"
      ]
    },
    {
      "cell_type": "markdown",
      "metadata": {
        "id": "xWVZ_W5htDuM",
        "colab_type": "text"
      },
      "source": [
        "### コラム: 文字は数値？"
      ]
    },
    {
      "cell_type": "markdown",
      "metadata": {
        "id": "hxDt2Dj2sKur",
        "colab_type": "text"
      },
      "source": [
        "型のおかげでデータの読み方を伝えられることがわかりました。  \n",
        "しかし、これはバグの温床ともなりえます。問題は**数値を変換するのにそもそも数字ではないものが入力されたときです。**  \n",
        "そんなことあるわけがない？ そう信じているときが私にもありました。  \n",
        "しかし人は愚かなものです。なにかアプリをつくるときは、この問題の考慮を忘れないようにしてください。  \n",
        "**ユーザはあなたのプログラミングスキルを察してはくれず、デバッガよろしくなんでもぶちこんできます。**   \n",
        "\n",
        "幸い、Pythonさんの型変換はなかなかスマートで、このように普通の文字を整数にしようとすると"
      ]
    },
    {
      "cell_type": "code",
      "metadata": {
        "id": "lNXXyhTtlMtg",
        "colab_type": "code",
        "colab": {}
      },
      "source": [
        "print(int('a'))"
      ],
      "execution_count": 0,
      "outputs": []
    },
    {
      "cell_type": "markdown",
      "metadata": {
        "id": "uD9OIzrjlcyN",
        "colab_type": "text"
      },
      "source": [
        "ValueError というintにはできない要素だと教えてくれます。  \n",
        "ちなみにC言語という古代語を使うとエラーなく数字がでてきます。  \n",
        "次のブロックはC言語で print(int('a')) みたいなことをするプログラムです。"
      ]
    },
    {
      "cell_type": "code",
      "metadata": {
        "id": "HjhG7brIcfk0",
        "colab_type": "code",
        "colab": {}
      },
      "source": [
        "!echo -e \"#include <stdio.h>\\r int main(){char n='a'; printf(\\\"aはintで%d\\\",(int)n); return 0;}\" > hello.c\n",
        "!gcc hello.c -o hello\n",
        "!./hello"
      ],
      "execution_count": 0,
      "outputs": []
    },
    {
      "cell_type": "markdown",
      "metadata": {
        "id": "cvGTMLC1pvIr",
        "colab_type": "text"
      },
      "source": [
        "97というわけのわからない数値が出てきたと思います。  \n",
        "実はこれにはからくりがあり、C言語の文字型(char)の文字が[ASCIIコード](https://ja.cppreference.com/w/cpp/language/ascii)と呼ばれる、実質数値で表現される文字を使用することが原因です。  \n",
        "リンク先の表を見るとたしかにaが10進数で97に対応していることが分かると思います。  \n",
        "Pythonにおいても、これはASCIIコードなんです！と教えることで同様の結果が得られます。"
      ]
    },
    {
      "cell_type": "code",
      "metadata": {
        "id": "7rmLkmiHl32i",
        "colab_type": "code",
        "colab": {}
      },
      "source": [
        "print('aはintで'+str(int(ord('a'))))"
      ],
      "execution_count": 0,
      "outputs": []
    },
    {
      "cell_type": "markdown",
      "metadata": {
        "id": "TW7ozoUZwMh1",
        "colab_type": "text"
      },
      "source": [
        "Pythonではあまりハマるところではないのですが、**ユーザからの入力を受け付けるときは細心の注意を払ってください。**"
      ]
    },
    {
      "cell_type": "markdown",
      "metadata": {
        "id": "ymgC5G7zx63e",
        "colab_type": "text"
      },
      "source": [
        "## 比較する"
      ]
    },
    {
      "cell_type": "markdown",
      "metadata": {
        "id": "ZYt7Uuwtz2Qr",
        "colab_type": "text"
      },
      "source": [
        "数値や文字の比較ができると、よりプログラムらしい動きができるようになります。  \n",
        "比較のために多くのプログラミング言語では**比較演算子**というものを用意しています。  \n",
        "よく使うのは以下の算数で使うような比較演算子です。"
      ]
    },
    {
      "cell_type": "code",
      "metadata": {
        "id": "QJU12nyAx_k7",
        "colab_type": "code",
        "colab": {}
      },
      "source": [
        "i = 0\n",
        "print(i == 0)\n",
        "print(i != 0)\n",
        "print(i >  0)\n",
        "print(i >= 0)\n",
        "print(i <  0)\n",
        "print(i <= 0)"
      ],
      "execution_count": 0,
      "outputs": []
    },
    {
      "cell_type": "markdown",
      "metadata": {
        "id": "a7qGr7XD0PLQ",
        "colab_type": "text"
      },
      "source": [
        "比較はほぼ見てのとおりですが、変数iの値がどのような条件と合致するのかを比較しています。  \n",
        "見慣れないのは==と！=だと思いますが、=は代入で使ってしまっているので、  \n",
        "比較演算子におけるイコールは==、イコールではないものは！=と書きます。  \n",
        "\n",
        "printされた表示ではTrueやFalseといった言葉が返ってきますが、これはそれぞれ1(Yes)と0(No)に対応します。  \n",
        "コンピュータは0と1で動くもの、つまり比較による結果もYesもしくはNoしかありません。  \n",
        "このままでは表現に乏しいような気もしますが、and(かつ)やor(もしくは)によってより複雑な判定もできます。"
      ]
    },
    {
      "cell_type": "code",
      "metadata": {
        "id": "0y_hqttv3Tg3",
        "colab_type": "code",
        "colab": {}
      },
      "source": [
        "i = 0\n",
        "pantie == '0001.png'\n",
        "print(i == 0 and pantie == '0001.png') # iが0 かつ pantieが0001.png\n",
        "print(i == 0 and pantie != '0001.png') # iが0 かつ pantieが0001.pngではない\n",
        "print(i == 0 or  pantie == '0001.png') # iが0 もしくは pantieが0001.png\n",
        "print(i == 0 or  pantie != '0001.png') # iが0 もしくは pantieが0001.pngではない"
      ],
      "execution_count": 0,
      "outputs": []
    },
    {
      "cell_type": "markdown",
      "metadata": {
        "id": "7FtwMtpd4skO",
        "colab_type": "text"
      },
      "source": [
        "andとorはいくらでも付けられるので、どのように複雑な条件であっても比較演算子で表現できない比較はありません。  \n",
        "ちなみにこの比較演算子の返り値であるTrueとFalseですが、"
      ]
    },
    {
      "cell_type": "code",
      "metadata": {
        "id": "z8odCesl5fSU",
        "colab_type": "code",
        "colab": {}
      },
      "source": [
        "print(True == 1)\n",
        "print(False == 0)"
      ],
      "execution_count": 0,
      "outputs": []
    },
    {
      "cell_type": "markdown",
      "metadata": {
        "id": "iDgk970M5nrj",
        "colab_type": "text"
      },
      "source": [
        "このように**TrueとFalseは実質1と0**です。 これは覚えておくといいことがあるかも？  \n",
        "ちなみに比較演算子は他に is, is not, in, not inがあります。"
      ]
    },
    {
      "cell_type": "code",
      "metadata": {
        "id": "oGddOfdzyYYw",
        "colab_type": "code",
        "colab": {}
      },
      "source": [
        "i = 0\n",
        "print(i is 0)      # i==0\n",
        "print(i is not 0)  # i!=0"
      ],
      "execution_count": 0,
      "outputs": []
    },
    {
      "cell_type": "code",
      "metadata": {
        "id": "TfPib3LJ2cyU",
        "colab_type": "code",
        "colab": {}
      },
      "source": [
        "for i in range(10):\n",
        "  print(f'{i}:', end='') # 改行なしでiを出力\n",
        "  print(i in range(5))   # iが0～4の範囲ならTrue\n",
        "print()\n",
        "for i in range(10):\n",
        "  print(f'{i}:', end='')     # 改行なしでiを出力\n",
        "  print(i not in range(5))   # iが0～4の範囲外ならTrue"
      ],
      "execution_count": 0,
      "outputs": []
    },
    {
      "cell_type": "markdown",
      "metadata": {
        "id": "BCDJQOytAyG0",
        "colab_type": "text"
      },
      "source": [
        "is と == 、is not と ！= はほぼ同じ意味なのですが、**文字列型は注意してください**。"
      ]
    },
    {
      "cell_type": "code",
      "metadata": {
        "id": "7P5Ry7elyvkO",
        "colab_type": "code",
        "colab": {}
      },
      "source": [
        "pantie = '0001.png'\n",
        "print(pantie == '0001.png')  # pantie は 0001.png\n",
        "print(pantie is '0001.png')  # pantie は 0001.png だが Falseが返ってくる\n",
        "\n",
        "print(pantie != '0002.png')     # pantie は 0002.png ではない\n",
        "print(pantie is not '0002.png') # pantie は 0002.png ではない\n",
        "print(pantie is not '0001.png') # pantie は 0001.png なのに Trueが返ってくる"
      ],
      "execution_count": 0,
      "outputs": []
    },
    {
      "cell_type": "markdown",
      "metadata": {
        "id": "EoISfdfGBCMY",
        "colab_type": "text"
      },
      "source": [
        "実はisは『変数が同じものか』を比較します。 一方==は『変数の**内容**が同じものか』の比較です。  \n",
        "なるほどワケワカランですね。 このあたり理解の面倒な人は == や ！= を使えば間違いはないのでおすすめです。  \n",
        "興味のある方は次のコラムにて深淵が覗けます。"
      ]
    },
    {
      "cell_type": "markdown",
      "metadata": {
        "id": "V93b9_MxCyqo",
        "colab_type": "text"
      },
      "source": [
        "### コラム: ポインタ？贅沢な名前だね！おまえの名前はIDだ！"
      ]
    },
    {
      "cell_type": "markdown",
      "metadata": {
        "id": "RDqsl4MxKTAu",
        "colab_type": "text"
      },
      "source": [
        "**だんだんこのコラムもPythonの深淵に近づいてきました。**  \n",
        "正直この内容はプログラミングをよくする人しか理解できないかもので、本当に読み物として楽しんでください。  \n",
        "\n",
        "is と == はプログラミングにおける相当根深い部分に関わるものの1つです。  \n",
        "突き詰めていけばその答えはポインタ、つまり変数のメモリ上の位置(アドレス)にまでさかのぼりますが、ここは簡単に。  \n",
        "実は . をつけなければ以下のコードは共にTrueを返すと思います。"
      ]
    },
    {
      "cell_type": "code",
      "metadata": {
        "id": "vqnlX9J2MzfN",
        "colab_type": "code",
        "colab": {}
      },
      "source": [
        "pantie = '0001png'\n",
        "print(pantie == '0001png')\n",
        "print(pantie is '0001png')"
      ],
      "execution_count": 0,
      "outputs": []
    },
    {
      "cell_type": "markdown",
      "metadata": {
        "id": "yMBO8rXKNz_M",
        "colab_type": "text"
      },
      "source": [
        "しかし . をつけると、おそらくisはFalseを返すはずです"
      ]
    },
    {
      "cell_type": "code",
      "metadata": {
        "id": "GDAxjdZVNSbP",
        "colab_type": "code",
        "colab": {}
      },
      "source": [
        "pantie = '0001.png'\n",
        "print(pantie == '0001.png')\n",
        "print(pantie is '0001.png')"
      ],
      "execution_count": 0,
      "outputs": []
    },
    {
      "cell_type": "markdown",
      "metadata": {
        "id": "SBPV30NROXCT",
        "colab_type": "text"
      },
      "source": [
        "What the fuck ですね。 実はこれ、文字列を確保したメモリを再利用するか否かで決まります。  \n",
        "Pythonに限らずプログラムは使えるものはできるだけ再利用して高速化をしますが、  \n",
        "Pythonでは特定の文字(ASCIIコードの文字、数字、アンダースコア以外)が入るとそれが無効になるようです。  \n",
        "ちなみに確保された変数のメモリ上の場所はidで確認できます。(実質C言語におけるポインタと同じです)"
      ]
    },
    {
      "cell_type": "code",
      "metadata": {
        "id": "PojG_zNVSIgj",
        "colab_type": "code",
        "colab": {}
      },
      "source": [
        "print(id('0001png'))\n",
        "print(id('0001png'))\n",
        "print(id('0001.png'))\n",
        "print(id('0001.png'))"
      ],
      "execution_count": 0,
      "outputs": []
    },
    {
      "cell_type": "markdown",
      "metadata": {
        "id": "XakurQvIS6H3",
        "colab_type": "text"
      },
      "source": [
        "このidというのはその変数がRAM上のどこにあるかを示しています。  \n",
        ". を付けないものには同じIDがふられていますが、. ありの文字列には違うIDがふられています。  \n",
        "これはつまり、同じ内容の文字列ですが、.が入ることでメモリ上での再確保が行われ、変数としての見た目は完全に別のなにかになっていることを意味します。  \n",
        "よって . なしはisで判定できますが、 . ありはisでは誤判定となります。  \n",
        "ちなみにこの再利用は[CPythonというPythonの実体による](https://stackoverflow.com/questions/24245324/about-the-changing-id-of-an-immutable-string)ので、そのうち結果が変わる可能性があります。  \n",
        "余談ですが、こんなことも起こります。"
      ]
    },
    {
      "cell_type": "code",
      "metadata": {
        "id": "Ak10Bl6HSxBS",
        "colab_type": "code",
        "colab": {}
      },
      "source": [
        "print(id('0001.png'*10000))\n",
        "print(id('0001.png'*10000))"
      ],
      "execution_count": 0,
      "outputs": []
    },
    {
      "cell_type": "markdown",
      "metadata": {
        "id": "Sm7GSsyTUFQz",
        "colab_type": "text"
      },
      "source": [
        "これは0001.pngを10000回繰り返した文字列の結果です。なんとIDが一致、つまりメモリ上での再確保が行われていません。  \n",
        "あまりに巨大な文字列は特殊な文字があろうと再利用するようですね。 ｱｧ ｼﾝｴﾝ...  \n",
        "\n",
        "ではisの使い所ですが、これは内容の比較をしないので、用法を守れば == より高速に比較できます。\n"
      ]
    },
    {
      "cell_type": "code",
      "metadata": {
        "id": "K7zTfnr5B-ub",
        "colab_type": "code",
        "colab": {}
      },
      "source": [
        "i = 'this_is_a_testword'\n",
        "%timeit [i == i for n in range(100)]\n",
        "%timeit [i is i for n in range(100)]\n",
        "print([i == i for n in range(100)])\n",
        "print([i is i for n in range(100)])"
      ],
      "execution_count": 0,
      "outputs": []
    },
    {
      "cell_type": "markdown",
      "metadata": {
        "id": "30RI_rSEucK0",
        "colab_type": "text"
      },
      "source": [
        "## 条件分岐"
      ]
    },
    {
      "cell_type": "code",
      "metadata": {
        "id": "AbjyyZsbmIKW",
        "colab_type": "code",
        "colab": {}
      },
      "source": [
        "!git clone https://github.com/TenteEEEE/quiche_pantie_patch.git\n",
        "\n",
        "# 本章の実行に必要なプログラム\n",
        "from PIL import Image, ImageOps\n",
        "dreamdir = './quiche_pantie_patch/dream/'\n",
        "\n",
        "def extract_ribbon(image):\n",
        "  half_ribbon = image.crop((7,18,32,60))\n",
        "  ribbon = Image.new('RGB', (half_ribbon.width*2, half_ribbon.height))\n",
        "  ribbon.paste(half_ribbon, (half_ribbon.width,0))\n",
        "  ribbon.paste(ImageOps.mirror(half_ribbon), (0,0))\n",
        "  return ribbon\n",
        "  \n",
        "pantie = Image.open(f'{dreamdir}{101:04d}.png')\n",
        "ribbon = extract_ribbon(pantie)"
      ],
      "execution_count": 0,
      "outputs": []
    },
    {
      "cell_type": "markdown",
      "metadata": {
        "id": "vp_KKtraufwe",
        "colab_type": "text"
      },
      "source": [
        "比較演算子が分かったことで、あとはその出力(True/False)に応じて処理を変更できればもう自由自在です。  \n",
        "それは if を用いて実装することができます。"
      ]
    },
    {
      "cell_type": "code",
      "metadata": {
        "id": "5HcVD_-vuAIg",
        "colab_type": "code",
        "colab": {}
      },
      "source": [
        "if True:\n",
        "  print(\"Trueで実行されました\")\n",
        "\n",
        "if False:\n",
        "  print(\"Falseで実行されませんでした\")  # 出力されない"
      ],
      "execution_count": 0,
      "outputs": []
    },
    {
      "cell_type": "markdown",
      "metadata": {
        "id": "OKk-LeFkaOSW",
        "colab_type": "text"
      },
      "source": [
        "if の後にTrueかFalseの値が入力可能で、もしそれがTrueならばインデント後の行が実行されます。  \n",
        "つまりここに先程の比較演算子による式を書けば、分岐処理となります。"
      ]
    },
    {
      "cell_type": "code",
      "metadata": {
        "id": "eqaqt-ixbRaM",
        "colab_type": "code",
        "colab": {}
      },
      "source": [
        "name = '0001.png'\n",
        "compare =  '0001.png'\n",
        "if name == compare:\n",
        "  print(f'nameは{compare}です')  # name と compareが等しいときに実行"
      ],
      "execution_count": 0,
      "outputs": []
    },
    {
      "cell_type": "markdown",
      "metadata": {
        "id": "THeAPDflbcEu",
        "colab_type": "text"
      },
      "source": [
        "これも良いですが、そうじゃないときにもなにか言ってほしいですね？  \n",
        "if には更に続きが設定できます。"
      ]
    },
    {
      "cell_type": "code",
      "metadata": {
        "id": "HulJ_10nah7L",
        "colab_type": "code",
        "colab": {}
      },
      "source": [
        "name = '0001.png'\n",
        "compare =  '0001.png'\n",
        "# name か compareの文字を変更すると出力が変わる\n",
        "if name == compare:\n",
        "  print(f'nameは{compare}です')  # name と compareが等しいときに実行\n",
        "else:\n",
        "  print(f'nameは{compare}ではないです')  # name と compareが等しくないときに実行"
      ],
      "execution_count": 0,
      "outputs": []
    },
    {
      "cell_type": "markdown",
      "metadata": {
        "id": "BiNNaRuTbGnC",
        "colab_type": "text"
      },
      "source": [
        "このようにelseを付け足すことで、条件に合致しない場合の処理が記述できます。  \n",
        "また、elifと新たな比較演算によって、判定を多段階(上限はない)にすることができます。"
      ]
    },
    {
      "cell_type": "code",
      "metadata": {
        "id": "fyDB6B_TbqET",
        "colab_type": "code",
        "colab": {}
      },
      "source": [
        "i = int(input('整数を入力してください: '))\n",
        "if i > 0:\n",
        "  print(f'{i}は正の数です') # iが1以上\n",
        "elif i < 0:\n",
        "  print(f'{i}は負の数です') # (iが1以上ではなく)-1以下\n",
        "else:\n",
        "  print(f'{i}は自然数です(戦争)')  # (iが1以上ではなく-1以下でもない) つまりゼロ"
      ],
      "execution_count": 0,
      "outputs": []
    },
    {
      "cell_type": "markdown",
      "metadata": {
        "id": "akQ04PV4dv_b",
        "colab_type": "text"
      },
      "source": [
        "**elifを書くときには、その前の比較演算の結果が常にFalseであることに注意してください。**  \n",
        "どんどんフィルタリングされていくイメージです。 つまり次のプログラムは無効なelifがあります。"
      ]
    },
    {
      "cell_type": "code",
      "metadata": {
        "id": "C2JmU-_ueq0i",
        "colab_type": "code",
        "colab": {}
      },
      "source": [
        "i = int(input('正の整数を入力してください: '))\n",
        "if i >= 100:\n",
        "  print(f'{i}は100以上正の数です') # iが100以上\n",
        "elif i >= 1000:\n",
        "  print(f'{i}は1000以上正の数です') # (iが100以上ではなく)1000以上の数は存在しない [無効]\n",
        "elif i >= 10000:\n",
        "  print(f'{i}は10000以上正の数です') # (iが100以上でも1000以上でもなく)10000以上の数は存在しない [無効]\n",
        "else:\n",
        "  print(f'{i}は99以下')"
      ],
      "execution_count": 0,
      "outputs": []
    },
    {
      "cell_type": "markdown",
      "metadata": {
        "id": "8k9bqdDWf4N4",
        "colab_type": "text"
      },
      "source": [
        "この場合は次のようにi > 10000から順番にi > 1000、i > 100、elseと比較しなければなりません。"
      ]
    },
    {
      "cell_type": "code",
      "metadata": {
        "id": "JtwpkLxogQP6",
        "colab_type": "code",
        "colab": {}
      },
      "source": [
        "i = int(input('正の整数を入力してください: '))\n",
        "if i >= 10000:\n",
        "  print(f'{i}は10000以上正の数です') # iが10000以上\n",
        "elif i >= 1000:\n",
        "  print(f'{i}は1000以上正の数です') # (iが10000以上ではなく)1000以上の数\n",
        "elif i >= 100:\n",
        "  print(f'{i}は100以上正の数です') # (iが1000以上ではなく)100以上の数\n",
        "else:\n",
        "  print(f'{i}は99以下')"
      ],
      "execution_count": 0,
      "outputs": []
    },
    {
      "cell_type": "markdown",
      "metadata": {
        "id": "XLpDlSM5iQeF",
        "colab_type": "text"
      },
      "source": [
        "**この初歩的なミス、円環の理に導かれていつか必ずするので覚えておいてください。**  \n",
        "さて、ではここでようやく入力をよりスマートに処理する方法が揃いました。  \n",
        "拡大率を入力してもらい、その値が1以上のときにリサイズ処理を実行するプログラムを次のブロックに書いてみましょう！"
      ]
    },
    {
      "cell_type": "code",
      "metadata": {
        "id": "3laAaHXUlAJR",
        "colab_type": "code",
        "colab": {}
      },
      "source": [
        "m = int(input('拡大率を入力:'))\n",
        "# Let's try!\n"
      ],
      "execution_count": 0,
      "outputs": []
    },
    {
      "cell_type": "code",
      "metadata": {
        "id": "jA7ifPuKmtfE",
        "colab_type": "code",
        "colab": {}
      },
      "source": [
        "ribbon # 表示用のプログラム"
      ],
      "execution_count": 0,
      "outputs": []
    },
    {
      "cell_type": "markdown",
      "metadata": {
        "id": "HFmXmUphmYrS",
        "colab_type": "text"
      },
      "source": [
        "### 解答例"
      ]
    },
    {
      "cell_type": "markdown",
      "metadata": {
        "id": "sqJwIY5wo7ud",
        "colab_type": "text"
      },
      "source": [
        "m > 0のときにリサイズすれば完璧ですね"
      ]
    },
    {
      "cell_type": "code",
      "metadata": {
        "id": "yF-LYp9-l9Et",
        "colab_type": "code",
        "colab": {}
      },
      "source": [
        "m = int(input('拡大率を入力:'))\n",
        "if m > 0:\n",
        "  ribbon = ribbon.resize((ribbon.width*m, ribbon.height*m), resample=Image.BICUBIC)\n",
        "else:\n",
        "  print('0以上の拡大率を指定してください')"
      ],
      "execution_count": 0,
      "outputs": []
    },
    {
      "cell_type": "code",
      "metadata": {
        "id": "7ifwKdALm0lA",
        "colab_type": "code",
        "colab": {}
      },
      "source": [
        "ribbon # 表示用のプログラム"
      ],
      "execution_count": 0,
      "outputs": []
    },
    {
      "cell_type": "markdown",
      "metadata": {
        "id": "QpF0Bx_Xr3Zj",
        "colab_type": "text"
      },
      "source": [
        "### コラム: エクストリームif"
      ]
    },
    {
      "cell_type": "markdown",
      "metadata": {
        "id": "NpUloK79r8em",
        "colab_type": "text"
      },
      "source": [
        "if は True/Falseで動くと言ったな。 **あれは単なる一例じゃ**  \n",
        "まぁ次のブロックを実行してみてくれたまえ"
      ]
    },
    {
      "cell_type": "code",
      "metadata": {
        "id": "PBfAF1gGsBvN",
        "colab_type": "code",
        "colab": {}
      },
      "source": [
        "if -1:\n",
        "  print('実行されちゃう')  # まだ理解できる\n",
        "if 100000:\n",
        "  print('実行されちゃう')  # ！？\n",
        "if 'hooo':\n",
        "  print('実行されちゃう')  # ？？？？？\n",
        "if '0':\n",
        "  print('実行されちゃう')  # もうなんでも良い\n",
        "\n",
        "if 0:\n",
        "  print('実行されちゃう')\n",
        "else:\n",
        "  print('実行されない')"
      ],
      "execution_count": 0,
      "outputs": []
    },
    {
      "cell_type": "markdown",
      "metadata": {
        "id": "BctHl7t2sUIO",
        "colab_type": "text"
      },
      "source": [
        "要するにifの判定は0以外なら何でも実行するというガバっぷりです。  \n",
        "よって、比較演算子など無くても条件分岐は実装できます。つまりこれは問題なく動く。"
      ]
    },
    {
      "cell_type": "code",
      "metadata": {
        "id": "Ff5fnE2rtSnD",
        "colab_type": "code",
        "colab": {}
      },
      "source": [
        "if int(input('整数を入力:')):\n",
        "  print('0ではないよ！')\n",
        "else:\n",
        "  print('0だよ！')"
      ],
      "execution_count": 0,
      "outputs": []
    },
    {
      "cell_type": "markdown",
      "metadata": {
        "id": "ZlvgpTXyuS1w",
        "colab_type": "text"
      },
      "source": [
        "notで条件を逆転することもできる。"
      ]
    },
    {
      "cell_type": "code",
      "metadata": {
        "id": "Aq3drfRouO2d",
        "colab_type": "code",
        "colab": {}
      },
      "source": [
        "if not int(input('整数を入力:')):\n",
        "  print('0だよ！')\n",
        "else:\n",
        "  print('0ではないよ！')"
      ],
      "execution_count": 0,
      "outputs": []
    },
    {
      "cell_type": "markdown",
      "metadata": {
        "id": "dd9UrldGulUl",
        "colab_type": "text"
      },
      "source": [
        "これは何が起こっているかと言うと、notは0のみを1にするので可能な技"
      ]
    },
    {
      "cell_type": "code",
      "metadata": {
        "id": "nrMsuPJzutcW",
        "colab_type": "code",
        "colab": {}
      },
      "source": [
        "for i in range(-5,5):\n",
        "  print(f'not {i} は{not i}')"
      ],
      "execution_count": 0,
      "outputs": []
    },
    {
      "cell_type": "markdown",
      "metadata": {
        "id": "Tozp3KrJvCfd",
        "colab_type": "text"
      },
      "source": [
        "このように可読性の高いPythonでも暗黒面に堕ちることは容易ですが、可読性を失うのでおすすめしないです！  \n",
        "[競技プログラミング](https://atcoder.jp/?lang=ja)とかだと役に立つ小技かも。"
      ]
    },
    {
      "cell_type": "markdown",
      "metadata": {
        "id": "4qAAfAZjw280",
        "colab_type": "text"
      },
      "source": [
        "## 試すプログラム"
      ]
    },
    {
      "cell_type": "markdown",
      "metadata": {
        "id": "96YH-U8Mw6os",
        "colab_type": "text"
      },
      "source": [
        "だいぶ高度なプログラムが書ける下地が整ってきました！  \n",
        "自分としてはぜひここで\"試す\"プログラムについて習得してほしいと思います。  \n",
        "**試す**とはどういうことなのか？ それはずばり**エラーをハンドリング(エラーに対処するプログラムを記述)することです**。  \n",
        "たとえばinputはユーザの入力が未知数なので、エラー数で言えば筆頭の関数です。"
      ]
    },
    {
      "cell_type": "code",
      "metadata": {
        "id": "Z0FD24UozAAN",
        "colab_type": "code",
        "colab": {}
      },
      "source": [
        "i = int(input('整数を入力してください:'))\n",
        "print(f'整数の{i}です')"
      ],
      "execution_count": 0,
      "outputs": []
    },
    {
      "cell_type": "markdown",
      "metadata": {
        "id": "qTnh-aKOzFQF",
        "colab_type": "text"
      },
      "source": [
        "このプログラムは文字を入力するとValueErrorが発生します。  \n",
        "ということは、ValueErrorを検知して再入力を促すことができれば、よりスマートなプログラムになります。  \n",
        "そのためには、tryそしてexcept文が用意されています。 次のブロックを実行し、様々な文字や数値を入力してみてください。"
      ]
    },
    {
      "cell_type": "code",
      "metadata": {
        "id": "E662wEjzylb_",
        "colab_type": "code",
        "colab": {}
      },
      "source": [
        "try:\n",
        "  i = int(input('整数を入力してください:')) # エラーしそうな処理\n",
        "  print(f'整数の{i}です')\n",
        "except:\n",
        "  print('整数っつってんだろぉぉぉぉぉ')     # エラーした場合の処理"
      ],
      "execution_count": 0,
      "outputs": []
    },
    {
      "cell_type": "markdown",
      "metadata": {
        "id": "qMdFnl_80khT",
        "colab_type": "text"
      },
      "source": [
        "tryしている部分ではなにかエラーが発生しそうなプログラムを書き、if elseのような形で、エラーした場合の処理をexcept以下に記述することができます。  \n",
        "しかし、print文は整数が来るならばエラーは発生しない部分です。  \n",
        "このようにtryが成功した場合の処理は、exceptの次にelseを書くことで追加できます。"
      ]
    },
    {
      "cell_type": "code",
      "metadata": {
        "id": "GXo_2MAxz-sc",
        "colab_type": "code",
        "colab": {}
      },
      "source": [
        "try:\n",
        "  i = int(input('整数を入力してください:')) # エラーしそうな処理\n",
        "except:\n",
        "  print('整数っつってんだろぉぉぉぉぉ')     # エラーした場合の処理\n",
        "else:\n",
        "  print(f'整数の{i}です')                   # エラーしなかった場合の処理"
      ],
      "execution_count": 0,
      "outputs": []
    },
    {
      "cell_type": "markdown",
      "metadata": {
        "id": "24_NvQws3co2",
        "colab_type": "text"
      },
      "source": [
        "また、エラーがなくとも実行したい処理はfinallyにより記述することができます。"
      ]
    },
    {
      "cell_type": "code",
      "metadata": {
        "id": "j6s2eKzv3Gxx",
        "colab_type": "code",
        "colab": {}
      },
      "source": [
        "try:\n",
        "  i = int(input('整数を入力してください:')) # エラーしそうな処理\n",
        "except:\n",
        "  print('整数っつってんだろぉぉぉぉぉ')     # エラーした場合の処理\n",
        "else:\n",
        "  print(f'整数の{i}です')                   # エラーしなかった場合の処理\n",
        "finally:\n",
        "  print('エラー処理めんどいわぁ( ´Д｀)=3')  # エラーの有無に関わらず実行される処理"
      ],
      "execution_count": 0,
      "outputs": []
    },
    {
      "cell_type": "markdown",
      "metadata": {
        "id": "s-uuEVxg4VnX",
        "colab_type": "text"
      },
      "source": [
        "個人的にはあまりfinallyを書くことはないのですが、何らかのログを出力したいときなどに便利な構文です。  \n",
        "さて、これでも良いですが、現在exceptではありとあらゆるエラーが検知されます。  \n",
        "今回はValueErrorさえ検知できれば良いので、"
      ]
    },
    {
      "cell_type": "code",
      "metadata": {
        "id": "b6Stp41t5msC",
        "colab_type": "code",
        "colab": {}
      },
      "source": [
        "try:\n",
        "  i = int(input('整数を入力してください:')) # エラーしそうな処理\n",
        "except ValueError:\n",
        "  print('整数っつってんだろぉぉぉぉぉ')     # エラーした場合の処理\n",
        "else:\n",
        "  print(f'整数の{i}です')                   # エラーしなかった場合の処理\n",
        "finally:\n",
        "  print('エラー処理めんどいわぁ( ´Д｀)=3')  # エラーの有無に関わらず実行される処理"
      ],
      "execution_count": 0,
      "outputs": []
    },
    {
      "cell_type": "markdown",
      "metadata": {
        "id": "4AD65BNV6G2N",
        "colab_type": "text"
      },
      "source": [
        "このようにexceptの横にエラー名を書くと、それに対応する例外処理となります。  \n",
        "ただ、ユーザの入力は未知数、こちらの想定外のエラーが出てくる可能性があります。  \n",
        "幸い、exceptは複数書くことができ、"
      ]
    },
    {
      "cell_type": "code",
      "metadata": {
        "id": "8Zw3MOZ1417R",
        "colab_type": "code",
        "colab": {}
      },
      "source": [
        "try:\n",
        "  i = int(input('整数を入力してください:')) # エラーしそうな処理\n",
        "except ValueError:\n",
        "  print('整数っつってんだろぉぉぉぉぉ')     # ValueErrorした場合の処理\n",
        "except Exception as e:\n",
        "  print(f'Error:{e} なんやこれぇぇぇぇ')    # ValueError以外の何らかのエラーした場合の処理\n",
        "else:\n",
        "  print(f'整数の{i}です')                   # エラーしなかった場合の処理\n",
        "finally:\n",
        "  print('エラー処理めんどいわぁ( ´Д｀)=3')  # エラーの有無に関わらず実行される処理"
      ],
      "execution_count": 0,
      "outputs": []
    },
    {
      "cell_type": "markdown",
      "metadata": {
        "id": "jUf7Q6Bn5XDE",
        "colab_type": "text"
      },
      "source": [
        "Exceptionという例外の基底クラス(親玉みたいなの)を検知すれば大丈夫です。  \n",
        "その右側のas e とは、『そのエラーをeとして扱う』という意味で、エラー表示の際に便利になります。  \n",
        "\n",
        "さて、では再入力を促すところを作ってみましょう。  \n",
        "これは正常な入力がされるまで、ずっと繰り返すという処理になります。  \n",
        "これはwhile文を組み合わせるといい感じになります。while文はif分のループ処理版みたいな感じです。"
      ]
    },
    {
      "cell_type": "code",
      "metadata": {
        "id": "sAY5p31J8rUx",
        "colab_type": "code",
        "colab": {}
      },
      "source": [
        "i = 0;\n",
        "while i<5: # i が4以下の場合は実行\n",
        "  print(i)\n",
        "  i += 1   # i = i + 1 と同じ"
      ],
      "execution_count": 0,
      "outputs": []
    },
    {
      "cell_type": "markdown",
      "metadata": {
        "id": "vFp6ldH-9KPJ",
        "colab_type": "text"
      },
      "source": [
        "このように、whileの右の式がTrueを返す間、インデント後の処理が繰り返し実行されます。  \n",
        "これを整数の値が来るまで…としたい場合、まずはisintという変数を用意して、それに判定させると良さそうです。"
      ]
    },
    {
      "cell_type": "code",
      "metadata": {
        "id": "B-o28rTO8-k1",
        "colab_type": "code",
        "colab": {}
      },
      "source": [
        "isint = False                 # 最初は整数じゃないと仮定する(初期化)\n",
        "while not isint:              # notがついているので、 isintがFalseの間ループする\n",
        "  print('整数じゃないよ！')\n",
        "  isint = True                # 正常に整数が読み込めたらisintをTrueにする\n",
        "  print('整数になったよ！')\n",
        "print('めでたし')             # isintがTrueになると、ループをぬけてめでたしめでたし"
      ],
      "execution_count": 0,
      "outputs": []
    },
    {
      "cell_type": "markdown",
      "metadata": {
        "id": "tuYcJWb8-DY6",
        "colab_type": "text"
      },
      "source": [
        "構造としてはこんなかんじですね。  \n",
        "では実際に入力するinputを用意し、try-exceptで成功した場合にisintをTrueにするプログラムを書いてみましょう！"
      ]
    },
    {
      "cell_type": "code",
      "metadata": {
        "id": "e4k_GTht-ZSs",
        "colab_type": "code",
        "colab": {}
      },
      "source": [
        "isint = False\n",
        "while not isint:\n",
        "  try:\n",
        "    i = int(input('整数を入力してください:'))\n",
        "  except ValueError:\n",
        "    print('整数じゃないよ！')\n",
        "  else:\n",
        "    isint = True   # ValueErrorが発生しなければisintをTrueにする\n",
        "print(f'ここは絶対に整数の{i}が来るよ～')"
      ],
      "execution_count": 0,
      "outputs": []
    },
    {
      "cell_type": "markdown",
      "metadata": {
        "id": "-Ha5IoNNACXf",
        "colab_type": "text"
      },
      "source": [
        "いい感じです！ ではここで拡大率を読み込むとして、0以上の数という制限を設けたい場合どうでしょうか？  \n",
        "以下のブロックを変更して考えてみてください。 ヒントは and か or あたり？"
      ]
    },
    {
      "cell_type": "code",
      "metadata": {
        "id": "4P3vK8haAPVC",
        "colab_type": "code",
        "colab": {}
      },
      "source": [
        "# Let's try\n",
        "isint = False\n",
        "m = 0\n",
        "while not isint:\n",
        "  try:\n",
        "    m = int(input('拡大率を入力してください:'))\n",
        "  except ValueError:\n",
        "    print('整数じゃないよ！')\n",
        "  else:\n",
        "    isint = True\n",
        "print(f'拡大率は{m}')"
      ],
      "execution_count": 0,
      "outputs": []
    },
    {
      "cell_type": "markdown",
      "metadata": {
        "id": "vZGl6_taASZk",
        "colab_type": "text"
      },
      "source": [
        "### 解答例"
      ]
    },
    {
      "cell_type": "markdown",
      "metadata": {
        "id": "1NrBHM5a1LFS",
        "colab_type": "text"
      },
      "source": [
        "while文の条件にm>0もしくはm<=0を、andやorのようなものをつけることでできそう…   \n",
        "というところまで考えられたのなら、それだけでも十分です。  \n",
        "while文はTrue(1)の間ループするので、not isintが0かつm<=0が0のときにFalse(0)、それ以外はTrue(1)にならなくてはなりません。  \n",
        "2つの入力AとBがあったとすると、A and Bと最終的なOutは以下の関係となります。\n",
        "\n",
        "|A|B|Out|\n",
        "|:-:|:-:|:-:|\n",
        "|0|0|0|\n",
        "|0|1|0|\n",
        "|1|0|0|\n",
        "|1|1|1|\n",
        "\n",
        "AかつBなので、AとBが共にTrueのときにしかwhileはループしません。\n",
        "一方、A or Bは\n",
        "\n",
        "|A|B|Out|\n",
        "|:-:|:-:|:-:|\n",
        "|0|0|0|\n",
        "|0|1|1|\n",
        "|1|0|1|\n",
        "|1|1|1|\n",
        "\n",
        "です。直感的には逆かもしれませんが、今回はnot isint と m<=0 をorで判定すれば目的の動作をしそうです。  "
      ]
    },
    {
      "cell_type": "code",
      "metadata": {
        "id": "3hu5LwblAVks",
        "colab_type": "code",
        "colab": {}
      },
      "source": [
        "isint = False\n",
        "m = 0\n",
        "while not isint or m <= 0:\n",
        "  try:\n",
        "    m = int(input('拡大率を入力してください:'))\n",
        "  except ValueError:\n",
        "    print('整数じゃないよ！')\n",
        "  else:\n",
        "    isint = True   # ValueErrorが発生しなければisintをTrueにする\n",
        "print(f'拡大率は{m}')"
      ],
      "execution_count": 0,
      "outputs": []
    },
    {
      "cell_type": "markdown",
      "metadata": {
        "id": "1nQb_ebx3_kw",
        "colab_type": "text"
      },
      "source": [
        "感覚的な捉え方は、どちらか一方の条件がTrue(1)ならばループを続行しなくてはならないのでorという感じです。  \n",
        "もちろんandでも記述することはできます。"
      ]
    },
    {
      "cell_type": "code",
      "metadata": {
        "id": "AXehwoHu4Tsd",
        "colab_type": "code",
        "colab": {}
      },
      "source": [
        "isint = False\n",
        "m = 0\n",
        "while not (isint and m > 0):\n",
        "  try:\n",
        "    m = int(input('拡大率を入力してください:'))\n",
        "  except ValueError:\n",
        "    print('整数じゃないよ！')\n",
        "  else:\n",
        "    isint = True   # ValueErrorが発生しなければisintをTrueにする\n",
        "print(f'拡大率は{m}')"
      ],
      "execution_count": 0,
      "outputs": []
    },
    {
      "cell_type": "markdown",
      "metadata": {
        "id": "EtlLOTog4geN",
        "colab_type": "text"
      },
      "source": [
        "こちらがandを使った記述です。 プログラム中の式は通常左から右へと読んでいきますが、( )をつけることで先に計算することができます。  \n",
        "このあたりは算数でも同じことです。  \n",
        "isint and m>0 な出力にnot(反転)をつけたものになるので、入力AとB、出力Outは\n",
        "\n",
        "|A|B|Out|\n",
        "|:-:|:-:|:-:|\n",
        "|0|0|1|\n",
        "|0|1|1|\n",
        "|1|0|1|\n",
        "|1|1|0|\n",
        "\n",
        "となり、isintとm>0を入力とすることで等価の動きとなります。  \n",
        "デジタル回路をやったことのある人は[ド・モルガンの法則](https://ja.wikipedia.org/wiki/%E3%83%89%E3%83%BB%E3%83%A2%E3%83%AB%E3%82%AC%E3%83%B3%E3%81%AE%E6%B3%95%E5%89%87)と聞くとピンとくるかも？  \n",
        "and と or どちらを使っても構いません。 納得のいくほうで！\n",
        "\n",
        "他にはこのような方法も考えられます。"
      ]
    },
    {
      "cell_type": "code",
      "metadata": {
        "id": "wLka6W-h7qsH",
        "colab_type": "code",
        "colab": {}
      },
      "source": [
        "isint = False\n",
        "m = 0\n",
        "while not isint:\n",
        "  try:\n",
        "    m = int(input('拡大率を入力してください:'))\n",
        "  except ValueError:\n",
        "    print('整数じゃないよ！')\n",
        "  else:\n",
        "    if m > 0:\n",
        "      isint = True   # ValueErrorが発生しない かつ mが1以上ならばisintをTrueにする\n",
        "print(f'拡大率は{m}')"
      ],
      "execution_count": 0,
      "outputs": []
    },
    {
      "cell_type": "markdown",
      "metadata": {
        "id": "75livusR8B2P",
        "colab_type": "text"
      },
      "source": [
        "m>0もループを抜けるための条件なので、ここはwhileにまとめて書く方が、  \n",
        "お気持ちを伝えられるという点で良いでしょうが、当然この方法でも問題ありません。  \n",
        "最後に、breakというループを抜けるための処理を知っていれば、変数を削減できます。"
      ]
    },
    {
      "cell_type": "code",
      "metadata": {
        "id": "1mbQs-1T0bFv",
        "colab_type": "code",
        "colab": {}
      },
      "source": [
        "while True:\n",
        "  try:\n",
        "    m = int(input('拡大率を入力してください:'))\n",
        "  except ValueError:\n",
        "    print('整数じゃないよ！')\n",
        "  else:\n",
        "    if m > 0:\n",
        "      break\n",
        "print(f'拡大率は{m}')"
      ],
      "execution_count": 0,
      "outputs": []
    },
    {
      "cell_type": "markdown",
      "metadata": {
        "id": "Ipfj7TiS6npf",
        "colab_type": "text"
      },
      "source": [
        "### コラム: 全部tryに入れたら良いんじゃね？"
      ]
    },
    {
      "cell_type": "markdown",
      "metadata": {
        "id": "gcRFa8Zt6x8K",
        "colab_type": "text"
      },
      "source": [
        "うん、わかるよその脳死コーディングする気持ち。   \n",
        "エラーが出て止まるなら、すべてのコードをtryの中に入れて、exceptでよしなにしたら良いよね！…  \n",
        "\n",
        "しかしこれは推奨されません。 それがそもそもエラー(想定外の動作)だからです。  \n",
        "**基本的にエラーはまず発生しないように書くべきものです。**  \n",
        "try-exceptはエラーをケア/無視するための道具ではなく、万が一の備えぐらいに考えてください。  \n",
        "よって、よくある使い所は結構限られてきます。以下の2つはtryの代表的な正攻法です。\n",
        "\n",
        "* ファイルの入出力 (プログラム上だけではどうしようもないエラーが出やすい)\n",
        "* ユーザ側の入力 (何を入力してくるか分からない)\n",
        "\n",
        "止むに止まれぬ事情が考えられるのは、\n",
        "\n",
        "* 型変換や型ごとに処理を分ける関数内 (複数の型や可変長の変数を入力する関数などでは必要なときもある)\n",
        "* 無限がでてくるような計算(アルゴリズムを見直す方が大切だけど、正直だるいのでtryしたくなる)\n",
        "* 是が非でも続きの処理をしないといけない場合 (そもそもプログラム設計に問題があるが、そういうときもある…ﾄｵｲﾒ)\n",
        "\n",
        "基本的にはエラーが発生すれば潔くプログラムを停止させましょう。\n"
      ]
    },
    {
      "cell_type": "markdown",
      "metadata": {
        "id": "nAt6ytzMLyqZ",
        "colab_type": "text"
      },
      "source": [
        "また、try内の処理はできるだけ短いほうが理想的です。  \n",
        "本当にtryすべき処理を明確にすることで、他の誰か(あるいは1月後にコードを見る別人と化したあなた)が見たときに、  \n",
        "危険箇所がどこか容易に理解できるからです。 つまり、elseをうまく使いましょう。  \n",
        "例えば、"
      ]
    },
    {
      "cell_type": "code",
      "metadata": {
        "id": "qG8b5VjvMpTp",
        "colab_type": "code",
        "colab": {}
      },
      "source": [
        "try:\n",
        "  tmp = 1/0  # 1÷0でエラーになる\n",
        "  print(tmp)\n",
        "except:\n",
        "  print(\"Error!\")"
      ],
      "execution_count": 0,
      "outputs": []
    },
    {
      "cell_type": "markdown",
      "metadata": {
        "id": "B4ZN5rA6M__Q",
        "colab_type": "text"
      },
      "source": [
        "こう書くよりは、elseを使って"
      ]
    },
    {
      "cell_type": "code",
      "metadata": {
        "id": "Vwgv_vtqM3km",
        "colab_type": "code",
        "colab": {}
      },
      "source": [
        "try:\n",
        "  tmp = 1/0\n",
        "except:\n",
        "  print(\"Error!\")\n",
        "else:\n",
        "  print(tmp)"
      ],
      "execution_count": 0,
      "outputs": []
    },
    {
      "cell_type": "markdown",
      "metadata": {
        "id": "PBEvWu6HND03",
        "colab_type": "text"
      },
      "source": [
        "こう書いたほうが、あなたが数値計算時に注意を払っていることがより明確になります。  \n",
        "より完璧を目指すならexceptであなたが想定するエラーを記述しておくべきです。  \n",
        "今は単純な処理なのでわざわざ分けなくても分かりますが、これが自作の関数を書き出すと不明瞭になります。  \n",
        "elseをうまく使ってね！"
      ]
    },
    {
      "cell_type": "markdown",
      "metadata": {
        "id": "lbxjQX-dwQmu",
        "colab_type": "text"
      },
      "source": [
        "## きほん編の実装に挑戦！"
      ]
    },
    {
      "cell_type": "code",
      "metadata": {
        "id": "3rWpFwhORMvd",
        "colab_type": "code",
        "colab": {}
      },
      "source": [
        "!git clone https://github.com/TenteEEEE/quiche_pantie_patch.git\n",
        "\n",
        "# 本章の実行に必要なプログラム\n",
        "from PIL import Image, ImageOps\n",
        "dreamdir = './quiche_pantie_patch/dream/'\n",
        "\n",
        "def nbody_converter(pantie):\n",
        "  pantie = pantie.crop((8, 0, pantie.width, pantie.height))\n",
        "  nbody_pantie = Image.new('RGBA', (pantie.width*2, pantie.height))\n",
        "  nbody_pantie.paste(pantie, (pantie.width, 0))\n",
        "  nbody_pantie.paste(ImageOps.mirror(pantie))\n",
        "  return nbody_pantie"
      ],
      "execution_count": 0,
      "outputs": []
    },
    {
      "cell_type": "markdown",
      "metadata": {
        "id": "M07vl5B_K3Nd",
        "colab_type": "text"
      },
      "source": [
        "さて、きほん編を完全に理解したあなたは、**もうPythonの基本文法をすべてマスターしています！**  \n",
        "ここでは任意のぱんつ番号を入力し、素体用のぱんつを作成&保存するプログラムに挑戦してみましょう。  \n",
        "\n",
        "---\n",
        "\n",
        "今回はパッチをする関数という想定で、patcherという関数の中に作っていきます。  \n",
        "このpatcher関数はnumというデフォルト(関数呼び出し時に指定がなければ)0の変数を入力するとします。  \n",
        "このとき作成したいpatcher関数の要件は以下のとおりです。\n",
        "\n",
        "* 入力: 事前に指定がなければ、整数値の番号をユーザに入力させる(例: 101)\n",
        "* 出力: 指定された番号のぱんつを素体用に変換し、dreamフォルダ内の名前と同じ名前で保存する (例 0101.png)\n",
        "\n",
        "入力に事前指定を受け付けられると、関数間の呼び出しがぐっと楽になるので、かなり実用的な仕様となります。  \n",
        "なお、素体用の変換には上のブロックでnbody_converter関数がすでにあるので使ってください。\n",
        "\n",
        "---\n",
        "\n",
        "入力やぱんつ読み込みで失敗した場合はエラーで停止させても良いですが、できれば再入力を促すようにしましょう。  \n",
        "実装課題はよちよち編でも述べたとおり、完成まで[何を使っても](https://www.google.co.jp/)構いません。無論答えるかは気分次第ですが[わたし](https://twitter.com/tenteeeee_vrc)も\n"
      ]
    },
    {
      "cell_type": "code",
      "metadata": {
        "id": "VQjFsmYwK2P_",
        "colab_type": "code",
        "colab": {}
      },
      "source": [
        "def patcher(num = 0): # patcherはデフォルト(指定がなければ)0のnumという変数を入力する\n",
        "  # ここに処理を書いていく\n",
        "\n",
        "patcher()    # patcherを実行する\n",
        "patcher(101) # ぱんつ番号を指定してpatcherを実行する"
      ],
      "execution_count": 0,
      "outputs": []
    },
    {
      "cell_type": "markdown",
      "metadata": {
        "id": "iRDZKS5qaUmb",
        "colab_type": "text"
      },
      "source": [
        "### 解答例"
      ]
    },
    {
      "cell_type": "markdown",
      "metadata": {
        "id": "xvwn-As3pkuo",
        "colab_type": "text"
      },
      "source": [
        "今回も5段階のレベルに分けて解答例を示します。 レベル3までいければ十分理解したと言えます。"
      ]
    },
    {
      "cell_type": "markdown",
      "metadata": {
        "id": "cPFzHcmLbHX8",
        "colab_type": "text"
      },
      "source": [
        "とりあえず入力を受け付けて、エラーで落とすならばこれでも十分。  \n",
        "ポイントは最初にnumがデフォルト値かチェックするというところです。   \n",
        "num==0 もしくは num is 0 でチェックしても良いのですが、負の数が入るのもおかしいので num<=0 でチェックするのがすこしオシャレです。"
      ]
    },
    {
      "cell_type": "code",
      "metadata": {
        "id": "0Rx-QIGIY5uj",
        "colab_type": "code",
        "colab": {}
      },
      "source": [
        "# レベル1 もう一声コード\n",
        "def patcher(num = 0):\n",
        "  if num <= 0:\n",
        "    num = int(input('ぱんつ番号を入力してください:'))\n",
        "  pantie = Image.open(f'{dreamdir}{num:04d}.png')\n",
        "  nbody_pantie = nbody_converter(pantie)\n",
        "  nbody_pantie.save(f'{num:04d}.png')\n",
        "  print(f'{num:04d}.pngを保存しました')\n",
        "\n",
        "patcher()    # patcherを実行する\n",
        "patcher(101) # ぱんつ番号を指定してpatcherを実行する"
      ],
      "execution_count": 0,
      "outputs": []
    },
    {
      "cell_type": "markdown",
      "metadata": {
        "id": "9OtENyCDbG-C",
        "colab_type": "text"
      },
      "source": [
        "再入力を促すならばwhileとtryでValueErrorがなくなるまで繰り返しましょう。"
      ]
    },
    {
      "cell_type": "code",
      "metadata": {
        "id": "u5--5DReSpke",
        "colab_type": "code",
        "colab": {}
      },
      "source": [
        "# レベル2 よくできましたコード\n",
        "def patcher(num = 0):\n",
        "  if num <= 0:\n",
        "    isint = False\n",
        "    while not isint:\n",
        "      try:\n",
        "        num = int(input('ぱんつ番号を入力してください:'))\n",
        "      except ValueError:\n",
        "        print('整数を入力してね！')\n",
        "      else:\n",
        "        isint = True\n",
        "  pantie = Image.open(f'{dreamdir}{num:04d}.png')\n",
        "  nbody_pantie = nbody_converter(pantie)\n",
        "  nbody_pantie.save(f'{num:04d}.png')\n",
        "  print(f'{num:04d}.pngを保存しました')\n",
        "\n",
        "patcher()    # patcherを実行する\n",
        "patcher(101) # ぱんつ番号を指定してpatcherを実行する"
      ],
      "execution_count": 0,
      "outputs": []
    },
    {
      "cell_type": "markdown",
      "metadata": {
        "id": "zgxV-56tbFaO",
        "colab_type": "text"
      },
      "source": [
        "これも悪くないですが、存在しないぱんつ番号が指定できてしまいます。  \n",
        "存在しないぱんつの読み込みではFileNotFoundErrorが発生するので、それもハンドリングできれば、きほん編完全理解コードです。"
      ]
    },
    {
      "cell_type": "code",
      "metadata": {
        "id": "CUtB98NZZfGS",
        "colab_type": "code",
        "colab": {}
      },
      "source": [
        "# レベル3 きほん編完全理解コード\n",
        "def patcher(num = 0):\n",
        "  if num <= 0:\n",
        "    loaded = False\n",
        "    while not loaded:\n",
        "      try:\n",
        "        num = int(input('ぱんつ番号を入力してください:'))\n",
        "        Image.open(f'{dreamdir}{num:04d}.png')\n",
        "      except ValueError:\n",
        "        print('整数を入力してね！')\n",
        "      except FileNotFoundError:\n",
        "        print('ぱんつが見つからなかったよ(T_T)！')\n",
        "      else:\n",
        "        loaded = True  \n",
        "  pantie = Image.open(f'{dreamdir}{num:04d}.png')\n",
        "  nbody_pantie = nbody_converter(pantie)\n",
        "  nbody_pantie.save(f'{num:04d}.png')\n",
        "  print(f'{num:04d}.pngを保存しました')\n",
        "\n",
        "patcher()    # patcherを実行する\n",
        "patcher(101) # ぱんつ番号を指定してpatcherを実行する"
      ],
      "execution_count": 0,
      "outputs": []
    },
    {
      "cell_type": "markdown",
      "metadata": {
        "id": "4QEvs8kJlGO6",
        "colab_type": "text"
      },
      "source": [
        "かなりいい感じですが、これは番号を指定して関数を呼び出すと、存在しないパンツを指定する可能性が残っています。  \n",
        "デフォルト値の0でぱんつを読み込むと、必ずFileNotFoundErrorが発生することに気づけば、  \n",
        "numの指定に関わらず、最初の段階でぱんつの存在がtryでチェックできることが分かります。  "
      ]
    },
    {
      "cell_type": "code",
      "metadata": {
        "id": "-AAZ0xgKkw2n",
        "colab_type": "code",
        "colab": {}
      },
      "source": [
        "# レベル4 かなりイケてるコード\n",
        "def patcher(num = 0):\n",
        "  try:\n",
        "    Image.open(f'{dreamdir}{num:04d}.png')\n",
        "  except FileNotFoundError:\n",
        "    loaded = False\n",
        "    while not loaded:\n",
        "      try:\n",
        "        num = int(input('ぱんつ番号を入力してください:'))\n",
        "        Image.open(f'{dreamdir}{num:04d}.png')\n",
        "      except ValueError:\n",
        "        print('整数を入力してね！')\n",
        "      except FileNotFoundError:\n",
        "        print('ぱんつが見つからなかったよ(T_T)！')\n",
        "      else:\n",
        "        loaded = True\n",
        "  pantie = Image.open(f'{dreamdir}{num:04d}.png')\n",
        "  nbody_pantie = nbody_converter(pantie)\n",
        "  nbody_pantie.save(f'{num:04d}.png')\n",
        "  print(f'{num:04d}.pngを保存しました')\n",
        "\n",
        "patcher()    # patcherを実行する\n",
        "patcher(101) # ぱんつ番号を指定してpatcherを実行する"
      ],
      "execution_count": 0,
      "outputs": []
    },
    {
      "cell_type": "markdown",
      "metadata": {
        "id": "OFG31fExonwR",
        "colab_type": "text"
      },
      "source": [
        "欲を言えば、ぱんつ番号を指定する部分は一見なにをしているのかわからないので、関数化したい部分です。"
      ]
    },
    {
      "cell_type": "code",
      "metadata": {
        "id": "uqLQIzlWlt9j",
        "colab_type": "code",
        "colab": {}
      },
      "source": [
        "# レベル4 関数にしたコード\n",
        "def request_pantie():\n",
        "  loaded = False\n",
        "  while not loaded:\n",
        "    try:\n",
        "      num = int(input('ぱんつ番号を入力してください:'))\n",
        "      Image.open(f'{dreamdir}{num:04d}.png')\n",
        "    except ValueError:\n",
        "      print('整数を入力してね！')\n",
        "    except FileNotFoundError:\n",
        "      print('ぱんつが見つからなかったよ(T_T)！')\n",
        "    else:\n",
        "      loaded = True\n",
        "  return num\n",
        "\n",
        "def patcher(num = 0):\n",
        "  try:\n",
        "    Image.open(f'{dreamdir}{num:04d}.png')\n",
        "  except FileNotFoundError:\n",
        "    num = request_pantie()\n",
        "  pantie = Image.open(f'{dreamdir}{num:04d}.png')\n",
        "  nbody_pantie = nbody_converter(pantie)\n",
        "  nbody_pantie.save(f'{num:04d}.png')\n",
        "  print(f'{num:04d}.pngを保存しました')\n",
        "\n",
        "patcher()    # patcherを実行する\n",
        "patcher(101) # ぱんつ番号を指定してpatcherを実行する"
      ],
      "execution_count": 0,
      "outputs": []
    },
    {
      "cell_type": "markdown",
      "metadata": {
        "id": "oojFVyeXraAn",
        "colab_type": "text"
      },
      "source": [
        "チェック毎に画像の読み込みを試みるという点が気に入らない… そんなあなたは"
      ]
    },
    {
      "cell_type": "code",
      "metadata": {
        "id": "pUdKd26cqZoQ",
        "colab_type": "code",
        "colab": {}
      },
      "source": [
        "# レベル5 ワタシ リスト シッテル コード\n",
        "import os\n",
        "\n",
        "def patcher(num = 0):\n",
        "  panties = os.listdir(dreamdir) # ぱんつ一覧を作成する\n",
        "  while f'{num:04d}.png' not in panties: # ぱんつ一覧の中になければループ\n",
        "    try:\n",
        "      num = int(input('ぱんつ番号を入力してください:'))\n",
        "    except ValueError:\n",
        "      print('整数を入力してね！')\n",
        "  pantie = Image.open(f'{dreamdir}{num:04d}.png')\n",
        "  nbody_pantie = nbody_converter(pantie)\n",
        "  nbody_pantie.save(f'{num:04d}.png')\n",
        "  print(f'{num:04d}.pngを保存しました')\n",
        "\n",
        "patcher()    # patcherを実行する\n",
        "patcher(101) # ぱんつ番号を指定してpatcherを実行する"
      ],
      "execution_count": 0,
      "outputs": []
    },
    {
      "cell_type": "markdown",
      "metadata": {
        "id": "xy_f6nn3sA70",
        "colab_type": "text"
      },
      "source": [
        "このようにぱんつの一覧を作成し、その中にnumがあるのかをwhileでループする方法があります。  \n",
        "画像の読み込みというのは計算機にとって結構コストの高いアクションなので、その回数は少ないほうが良いです。"
      ]
    },
    {
      "cell_type": "markdown",
      "metadata": {
        "id": "zZYArOMvGK_B",
        "colab_type": "text"
      },
      "source": [
        "# つよつよ編 [類似画像の検索/複雑な変形]"
      ]
    },
    {
      "cell_type": "markdown",
      "metadata": {
        "id": "zADDy2Jx671p",
        "colab_type": "text"
      },
      "source": [
        "きほん編まではPILを使用したシンプルな画像処理とPythonの基本文法について学びました。  \n",
        "ここまで来れればあとはもう画像処理について深く掘り下げていくだけです。  \n",
        "PILさんは非常に良いモジュールですが、複雑な画像処理ができるほどではありません。  \n",
        "そこでこれからは[scikit-image](https://scikit-image.org/)と[numpy](https://code-examples.net/ja/docs/numpy~1.14/index)を用いて処理を書いていきます。  \n",
        "ここでは画像の類似検索や複雑な画像の変形ができるようになることが目的です。"
      ]
    },
    {
      "cell_type": "markdown",
      "metadata": {
        "id": "_2Brk7W8alej",
        "colab_type": "text"
      },
      "source": [
        "## 画像を行列として扱う"
      ]
    },
    {
      "cell_type": "code",
      "metadata": {
        "id": "tUgatiQNRHc2",
        "colab_type": "code",
        "colab": {}
      },
      "source": [
        "!git clone https://github.com/TenteEEEE/quiche_pantie_patch.git\n",
        "\n",
        "# 本章の実行に必要なプログラム\n",
        "from PIL import Image, ImageOps\n",
        "dreamdir = './quiche_pantie_patch/dream/'"
      ],
      "execution_count": 0,
      "outputs": []
    },
    {
      "cell_type": "markdown",
      "metadata": {
        "id": "N1SwrjZuRQ7e",
        "colab_type": "text"
      },
      "source": [
        "numpyはPythonの数値計算用モジュールで、いろいろな計算を効率よくしてくれます。  \n",
        "特筆すべきは行列演算が非常に簡単にかけるということです。  \n",
        "**ちょっ、ページを閉じないでください(T_T)！**  \n",
        "\n",
        "行列と聞いて数学理解不能性症候群で発作が起きそうな人も落ち着いてください。  \n",
        "それはただプログラムをシンプルに記述するためのものです。え、信じられない？  \n",
        "まぁまずはPILの画像をnumpyのデータに変換しましょう。"
      ]
    },
    {
      "cell_type": "code",
      "metadata": {
        "id": "i9OZy_DfRMAs",
        "colab_type": "code",
        "colab": {}
      },
      "source": [
        "import numpy as np         # numpyと書くのがだるいので、よくnpとして扱う\n",
        "pantie = Image.open(f'{dreamdir}{101:04d}.png')\n",
        "pantie = np.array(pantie)  # numpy用のデータに変換\n",
        "pantie"
      ],
      "execution_count": 0,
      "outputs": []
    },
    {
      "cell_type": "markdown",
      "metadata": {
        "id": "O2x6KXEsWC8b",
        "colab_type": "text"
      },
      "source": [
        "何かがずらっとでてきましたね？\n",
        "これは行列で表現された画像データです。  \n",
        "画像は3次元行列(縦、横、色)で表すことができます。  \n",
        "各次元の大きさはshapeというデータで保存されています。\n",
        "  \n"
      ]
    },
    {
      "cell_type": "code",
      "metadata": {
        "id": "a8gyyFW7Wk_K",
        "colab_type": "code",
        "colab": {}
      },
      "source": [
        "pantie.shape"
      ],
      "execution_count": 0,
      "outputs": []
    },
    {
      "cell_type": "markdown",
      "metadata": {
        "id": "yLSxqEU3WymI",
        "colab_type": "text"
      },
      "source": [
        "3つの数があるとおもいます。左から(縦の大きさ、横の大きさ、色数)です。  \n",
        "画像の色はRGBの混合で表されるので色数が4というのが不思議ですが、  \n",
        "ぱんつ画像は透過PNGで保存されているので、4つめの色はアルファチャンネル(どれぐらい透けているか)を意味します。  \n",
        "\n",
        "行列になると様々なアクセスが容易になります。例えば左上のピクセルの値が知りたい場合、"
      ]
    },
    {
      "cell_type": "code",
      "metadata": {
        "id": "cQvKnDaaabvs",
        "colab_type": "code",
        "colab": {}
      },
      "source": [
        "print(pantie[0,0])   # 縦0 横0の座標(左上)の要素を表示する\n",
        "print(pantie[0,0,0]) # 縦0 横0 色0(左上の赤色)を表示する"
      ],
      "execution_count": 0,
      "outputs": []
    },
    {
      "cell_type": "markdown",
      "metadata": {
        "id": "Oixr-cEnbTJA",
        "colab_type": "text"
      },
      "source": [
        "このように 変数名[場所を指定] という形でアクセスできます。  \n",
        "場所の指定は0から始まるので、ぱんつならば各次元で[0～406, 0～627, 0～3]の間でアクセスできます。  \n",
        "\n",
        "数値の意味するところは [Red, Green, Blue, Alpha] です。このまとまりは**ピクセル**と呼ばれます。  \n",
        "右にdtypeとありますが、これはデータ型を示します。  \n",
        "uint8とはunsigned integer 8bitという意味で、各要素が8ビットの符号なし整数という意味です。  \n",
        "落ち着いて！ 要はマイナスのない8ビットの整数、つまり0～255に変化できるデータということだけです。  \n",
        "まとめると、読み取れる情報は、**赤215、緑197、青186の明るさを持つ、アルファ255(完全非透過)のピクセル**ということです。"
      ]
    },
    {
      "cell_type": "code",
      "metadata": {
        "id": "wvnKZ5lzhnbG",
        "colab_type": "code",
        "colab": {}
      },
      "source": [
        "print(pantie[-1,-1])   # 縦と横の端(右下)の要素を表示する\n",
        "print(pantie[-1,-1,:]) # 上と同じ :でその次元すべての要素にアクセスできる"
      ],
      "execution_count": 0,
      "outputs": []
    },
    {
      "cell_type": "markdown",
      "metadata": {
        "id": "VZbBoKWQh6TX",
        "colab_type": "text"
      },
      "source": [
        "このように-1は最後の要素を意味します。 仮に-2とすれば最後から1つ手前の位置になります。  \n",
        "また、特筆すべき機能は : です。これはスライスと呼ばれる機能で、その次元すべての要素にアクセスします。  \n",
        "もうこのためにnumpy使うようなものです。"
      ]
    },
    {
      "cell_type": "code",
      "metadata": {
        "id": "dlnthjZ_iZpF",
        "colab_type": "code",
        "colab": {}
      },
      "source": [
        "print(pantie[0:5, 10:15, :3]) # 縦0～5、横10～15の位置のRGB要素を表示\n",
        "print(pantie[0:5, 10:15, 1]) # 縦0～5、横10～15の位置のG要素を表示"
      ],
      "execution_count": 0,
      "outputs": []
    },
    {
      "cell_type": "markdown",
      "metadata": {
        "id": "HT_32MTEiq6K",
        "colab_type": "text"
      },
      "source": [
        "スライスではこのように範囲を記述することもでき、PILでいうところのcropと同じですが、更に高機能です。  \n",
        "主な違いは上記のようにアルファチャンネルを省いたり、特定の色にアクセスしたりできます。  \n",
        "さらにダブルコロンをつかえば、指定した数値おきにスライスできます。最もよく使うのは-1かも。"
      ]
    },
    {
      "cell_type": "code",
      "metadata": {
        "id": "GRzTJ6h3i6J8",
        "colab_type": "code",
        "colab": {}
      },
      "source": [
        "print(pantie[::5, 10, 1]) # 横10ピクセル目のG要素を、縦5ピクセル間隔で表示\n",
        "print(pantie[::-1, 10, 1]) # 横10ピクセル目のG要素を、縦-1ピクセル間隔で表示(逆から読む)"
      ],
      "execution_count": 0,
      "outputs": []
    },
    {
      "cell_type": "markdown",
      "metadata": {
        "id": "F0BqQWnRbGpN",
        "colab_type": "text"
      },
      "source": [
        "今まで表示はただ変数名を書くだけで良かったですが、これはただの行列なので、画像として見るために専用の関数が必要です。  \n",
        "PILの画像形式に戻しても良いですが、いちいち戻すのも面倒なのでscikit-imageのimshowという関数を使うと、"
      ]
    },
    {
      "cell_type": "code",
      "metadata": {
        "id": "SOFAZ_emXkFK",
        "colab_type": "code",
        "colab": {}
      },
      "source": [
        "from skimage import io  # scikit-imageからioという画像の入出力用のモジュールを読み込む\n",
        "io.imshow(pantie)"
      ],
      "execution_count": 0,
      "outputs": []
    },
    {
      "cell_type": "markdown",
      "metadata": {
        "id": "vtRioIijYlAK",
        "colab_type": "text"
      },
      "source": [
        "このように行列を画像として表示することができます。  \n",
        "当然スライスしても大丈夫です。"
      ]
    },
    {
      "cell_type": "code",
      "metadata": {
        "id": "nTib88aFkHbH",
        "colab_type": "code",
        "colab": {}
      },
      "source": [
        "io.imshow(pantie[0:5, 10:15, :3]) # アルファチャンネルを無視して5ピクセル四方を表示"
      ],
      "execution_count": 0,
      "outputs": []
    },
    {
      "cell_type": "code",
      "metadata": {
        "id": "eWPCL2yEkOC1",
        "colab_type": "code",
        "colab": {}
      },
      "source": [
        "io.imshow(pantie[0:5, 10:15, 2])  # 青要素だけを表示(白黒画像で青の明るさが表示される)"
      ],
      "execution_count": 0,
      "outputs": []
    },
    {
      "cell_type": "markdown",
      "metadata": {
        "id": "vSsKCNIOpEkO",
        "colab_type": "text"
      },
      "source": [
        "さて、numpyのデータ(ndarrayと呼ばれる)の基本的なアクセス方法は以上です。  \n",
        "次からは行列演算というものの素晴らしさを学んでいきましょう。"
      ]
    },
    {
      "cell_type": "markdown",
      "metadata": {
        "id": "TEUgLycN1CNj",
        "colab_type": "text"
      },
      "source": [
        "### コラム: 本当はBGR? 最速の画像読み込み"
      ]
    },
    {
      "cell_type": "markdown",
      "metadata": {
        "id": "Xibk4d7S1GE3",
        "colab_type": "text"
      },
      "source": [
        "PILやScikit-imageで読み込んだ画像の色はRGBの順番で来ますが、  \n",
        "もう一つの画像処理の巨塔ライブラリであるOpenCVはBGRの順番で読み込みます。"
      ]
    },
    {
      "cell_type": "code",
      "metadata": {
        "id": "uOrDp-qn2Hr2",
        "colab_type": "code",
        "colab": {}
      },
      "source": [
        "import cv2\n",
        "img_cv2 = cv2.imread(f'{dreamdir}{101:04d}.png', -1)\n",
        "io.imshow(img_cv2)"
      ],
      "execution_count": 0,
      "outputs": []
    },
    {
      "cell_type": "markdown",
      "metadata": {
        "id": "f1bosUP-53Ku",
        "colab_type": "text"
      },
      "source": [
        "BとRがひっくり返っているので、色が変だと思います。  \n",
        "なぜこんなことに？という話ですが、どうやら[昔はBGRを使っていたから](https://www.learnopencv.com/why-does-opencv-use-bgr-color-format/)らしいです。  \n",
        "なぜBGRが使われていたかは、『当時の原始的なグラフィックプロセッサ([RAMDAC](https://en.wikipedia.org/wiki/RAMDAC))に渡すデータ形式はRGBだったが、  \n",
        "データ転送の都合でメモリ上ではBGRで保存するのが楽だった』という理由だと考えられています。  \n",
        "出典: https://retrocomputing.stackexchange.com/questions/3023/why-bgr-color-order  \n",
        "　  \n",
        "いろいろあったようですが、OpenCVではメモリに素直にBGRAの順番になっています。  \n",
        "これをRGBAにするには、BGRとAに分けて、BGRを逆読みした後に結合する必要があります。"
      ]
    },
    {
      "cell_type": "code",
      "metadata": {
        "id": "n3sTBT2A5cQt",
        "colab_type": "code",
        "colab": {}
      },
      "source": [
        "io.imshow(np.concatenate((img_cv2[:,:,:3][:,:,::-1],img_cv2[:,:,3:]),axis=2))"
      ],
      "execution_count": 0,
      "outputs": []
    },
    {
      "cell_type": "markdown",
      "metadata": {
        "id": "E2XWq_a-7PHy",
        "colab_type": "text"
      },
      "source": [
        "面倒ですね(T_T) しかし、PILやScikit-imageを使うとこのあたりが自動化されているわけです。  \n",
        "ただし、これには実行時間が増えるというそれなりの代償があります。"
      ]
    },
    {
      "cell_type": "code",
      "metadata": {
        "id": "mfXvBNzo2kdi",
        "colab_type": "code",
        "colab": {}
      },
      "source": [
        "print('Opencv:')\n",
        "%timeit cv2.imread(f'{dreamdir}{np.random.randint(1,200):04d}.png',-1)\n",
        "print('PIL:')\n",
        "%timeit np.array(Image.open(f'{dreamdir}{np.random.randint(1,200):04d}.png'))\n",
        "print('Scikit-image:')\n",
        "%timeit io.imread(f'{dreamdir}{np.random.randint(1,200):04d}.png')"
      ],
      "execution_count": 0,
      "outputs": []
    },
    {
      "cell_type": "markdown",
      "metadata": {
        "id": "Mc62EQh3Dhe5",
        "colab_type": "text"
      },
      "source": [
        "OpenCVによる読み込みが2倍近く早いですが、これはBGRAフォーマットなので、フェアな比較ではありません。  \n",
        "BGRAをRGBAに変換する関数を自作し、比較してみましょう。"
      ]
    },
    {
      "cell_type": "code",
      "metadata": {
        "id": "KTsWRvvJ6Y71",
        "colab_type": "code",
        "colab": {}
      },
      "source": [
        "def cv2imread_rgba(fname):\n",
        "  img_cv2 = cv2.imread(fname, -1)\n",
        "  return np.concatenate((img_cv2[:,:,:3][:,:,::-1],img_cv2[:,:,3:]),axis=2)"
      ],
      "execution_count": 0,
      "outputs": []
    },
    {
      "cell_type": "code",
      "metadata": {
        "id": "WVSsVm8I6tIr",
        "colab_type": "code",
        "colab": {}
      },
      "source": [
        "print('Opencv:')\n",
        "%timeit cv2imread_rgba(f'{dreamdir}{np.random.randint(1,200):04d}.png')\n",
        "print('PIL:')\n",
        "%timeit np.array(Image.open(f'{dreamdir}{np.random.randint(1,200):04d}.png'))\n",
        "print('Scikit-image:')\n",
        "%timeit io.imread(f'{dreamdir}{np.random.randint(1,200):04d}.png')"
      ],
      "execution_count": 0,
      "outputs": []
    },
    {
      "cell_type": "markdown",
      "metadata": {
        "id": "83U1Wl0_FFFM",
        "colab_type": "text"
      },
      "source": [
        "この場合はOpenCVが最も早くなります。 ただし、numpy行列にする必要がないなら"
      ]
    },
    {
      "cell_type": "code",
      "metadata": {
        "id": "5BQVkB_xEpZB",
        "colab_type": "code",
        "colab": {}
      },
      "source": [
        "%timeit Image.open(f'{dreamdir}{np.random.randint(1,200):04d}.png')"
      ],
      "execution_count": 0,
      "outputs": []
    },
    {
      "cell_type": "markdown",
      "metadata": {
        "id": "zxuSoyKbEfi4",
        "colab_type": "text"
      },
      "source": [
        "PILの画像形式がもっとも早く読み込まれます。  \n",
        "正直OpenCVのセットアップをみなさんにしてもらう手間をかけるほどのメリットはないので、  \n",
        "パンツパッチでは基本的に画像はPIL形式で読み込み、必要があればnumpy行列に変換するようになっています。"
      ]
    },
    {
      "cell_type": "markdown",
      "metadata": {
        "id": "6Sj3p-L_lNhh",
        "colab_type": "text"
      },
      "source": [
        "## 画像を明るくする"
      ]
    },
    {
      "cell_type": "code",
      "metadata": {
        "id": "gtDNQTT50Z7I",
        "colab_type": "code",
        "colab": {}
      },
      "source": [
        "!git clone https://github.com/TenteEEEE/quiche_pantie_patch.git\n",
        "\n",
        "# 本章の実行に必要なプログラム\n",
        "from PIL import Image, ImageOps\n",
        "from skimage import io\n",
        "import numpy as np\n",
        "dreamdir = './quiche_pantie_patch/dream/'"
      ],
      "execution_count": 0,
      "outputs": []
    },
    {
      "cell_type": "markdown",
      "metadata": {
        "id": "8s0sgd4jTPU8",
        "colab_type": "text"
      },
      "source": [
        "例えば、画像全体の明るさを20上げたいとき、どう書くべきでしょうか？  \n",
        "もっともシンプルな方法はforの3重ループで画像全体のピクセルに20足していく方法です。  \n",
        "やってみましょう～"
      ]
    },
    {
      "cell_type": "code",
      "metadata": {
        "id": "GoZfrhnLU2iL",
        "colab_type": "code",
        "colab": {}
      },
      "source": [
        "pantie = Image.open(f'{dreamdir}{101:04d}.png')\n",
        "pantie = np.array(pantie)[:,:,:3] # 0～2の色(RGB)を切り取って、アルファチャンネルは無視する\n",
        "\n",
        "row, col, dim = pantie.shape # 縦、横、色数を取得する\n",
        "for y in range(row):\n",
        "  for x in range(col):\n",
        "    for d in range(dim):\n",
        "      pantie[y,x,d] += 20    # pantie[y,x,d] = pantie[y,x,d] + 20 と同じ\n",
        "io.imshow(pantie)"
      ],
      "execution_count": 0,
      "outputs": []
    },
    {
      "cell_type": "markdown",
      "metadata": {
        "id": "yBt8iD91nHqV",
        "colab_type": "text"
      },
      "source": [
        "悪くはない…のですが、実はこれはエレガントな方法ではありません。  \n",
        "numpyさんは行列演算が得意、つまり全要素に一気に足し算することができます。"
      ]
    },
    {
      "cell_type": "code",
      "metadata": {
        "id": "XVFJHd-WmHvg",
        "colab_type": "code",
        "colab": {}
      },
      "source": [
        "pantie = Image.open(f'{dreamdir}{101:04d}.png')\n",
        "pantie = np.array(pantie)[:,:,:3]\n",
        "pantie += 20\n",
        "io.imshow(pantie) "
      ],
      "execution_count": 0,
      "outputs": []
    },
    {
      "cell_type": "markdown",
      "metadata": {
        "id": "lgZ69PByrhr6",
        "colab_type": "text"
      },
      "source": [
        "美しいですね！ こころなしか結果の表示も早くなっている気がします。  \n",
        "ちょっと調べてみましょう。"
      ]
    },
    {
      "cell_type": "code",
      "metadata": {
        "id": "YH28bQYFtl3k",
        "colab_type": "code",
        "colab": {}
      },
      "source": [
        "pantie = Image.open(f'{dreamdir}{101:04d}.png')\n",
        "pantie = np.array(pantie)[:,:,:3]\n",
        "\n",
        "def pixelwise_add(mat, val): # 関数化\n",
        "  row, col, dim = mat.shape\n",
        "  for y in range(row):\n",
        "    for x in range(col):\n",
        "      for d in range(dim):\n",
        "        mat[y,x,d] += val\n",
        "  return mat\n",
        "\n",
        "def matrixwise_add(mat, val): # 関数化\n",
        "  return mat + val\n",
        "\n",
        "# %timeitでその部分の計算時間を求めてくれる\n",
        "%timeit pixelwise_add(pantie, 20)  # 要素ごとに足し算\n",
        "%timeit matrixwise_add(pantie, 20) # 行列演算で足し算"
      ],
      "execution_count": 0,
      "outputs": []
    },
    {
      "cell_type": "markdown",
      "metadata": {
        "id": "87Ta2Op_uT7P",
        "colab_type": "text"
      },
      "source": [
        "Colabサーバの調子にもよりますが、だいたい行列演算の方が1000倍ほど早いのではないでしょうか？  \n",
        "ごく一部の特殊なコンピュータを除いて、ループ処理というのはかなり時間のかかる処理です。  \n",
        "特にPythonはスクリプトの宿命、ループ処理に時間がかかるので、できるだけ行列演算を多用して高速化をすべきです。"
      ]
    },
    {
      "cell_type": "markdown",
      "metadata": {
        "id": "MVZu3i2_womI",
        "colab_type": "text"
      },
      "source": [
        "### コラム: 行列演算はなぜ早くなるのか"
      ]
    },
    {
      "cell_type": "markdown",
      "metadata": {
        "id": "aBUjFsRfzMYa",
        "colab_type": "text"
      },
      "source": [
        "いくら行列演算といえど、それはコード上でそう見えるだけで、実際の内部処理は各要素に演算をしていくのに変わりありません。  \n",
        "では、なぜ高速化が可能なのか？ これは近年のコンピュータアーキテクチャの進化の歴史そのものです。  \n",
        "Colabのサーバに使われているCPUは以下のコマンドで調べられます。"
      ]
    },
    {
      "cell_type": "code",
      "metadata": {
        "id": "vCUF0QNPzzl1",
        "colab_type": "code",
        "colab": {}
      },
      "source": [
        "!lscpu"
      ],
      "execution_count": 0,
      "outputs": []
    },
    {
      "cell_type": "markdown",
      "metadata": {
        "id": "4Mu2nz-q3suJ",
        "colab_type": "text"
      },
      "source": [
        "おそらくアーキテクチャはx86_64(64bit-CPU)。  \n",
        "少し前までアーキテクチャはx86(32bit-CPU)が多かったですが、いまではすっかり64bitですね。  \n",
        "ビットというのはデータの最小単位(0/1に変化するスイッチ)で、64bit-CPUは32bit版の2倍の量のスイッチを一度の命令で操作できます。  \n",
        "よって純粋な計算能力は、64bitCPUが理論値で2倍です。\n",
        "\n",
        "---\n",
        "ちょっと『[64 32 cpu 違い](https://www.google.co.jp/search?&q=64+32+cpu+%E9%81%95%E3%81%84&oq=64+32+cpu+%E9%81%95%E3%81%84)』で調べると「計算能力は$ 2^{64} $と$ 2^{32} $の違い」と書かれたトンデモ記事がたくさん出てきましたが、  \n",
        "これは扱えるメモリ空間の広さであって、計算能力の違いではありません。  \n",
        "\n",
        "---\n",
        "\n",
        "このビット幅が増えると嬉しいことはたくさんあるのですが、特にSIMD(Single Instruction Multiple Data)という特殊な命令で大きな利点があります。  \n",
        "普通画像を明るくするような処理は加算命令をCPUで実行します。  \n",
        "しかし問題はビット幅です。 画像のデータはnumpyの行列で見たようにuint8、つまり8ビットです。  \n",
        "8ビットの計算を64bitのCPUで実行する… なんだかすごくリッチというか無駄が…  \n",
        "ピクセル単位の計算が1000倍ほど遅かった原因のひとつはここです。 \n",
        "\n",
        "\n",
        "画像に対する処理はほぼ均一なので、余りの56ビットで他のピクセルも同じ処理をすると効率がぐっと良くなりそうです。  \n",
        "これがSIMD(一つの命令を複数のデータに適応する)という拡張命令です。  \n",
        "Flagsではsseやavxといった単語が見えると思いますが、これがその拡張命令をサポートしていることを意味します。"
      ]
    },
    {
      "cell_type": "code",
      "metadata": {
        "id": "AU99gKltyPzh",
        "colab_type": "code",
        "colab": {}
      },
      "source": [
        "import numpy as np\n",
        "\n",
        "def matrixwise_add(mat, val):\n",
        "  return mat + val\n",
        "\n",
        "databits = (np.uint8, np.uint16, np.uint32, np.uint64)\n",
        "for datatype in databits:\n",
        "  print(f'\\nDatatype:{datatype}')\n",
        "  matrix = np.random.randint(0,255,(512,512,3)).astype(datatype)\n",
        "  matrixwise_add(matrix, 1)  # 一度計算してキャッシュの状態を揃える\n",
        "  %timeit matrixwise_add(matrix, np.random.randint(1,100))"
      ],
      "execution_count": 0,
      "outputs": []
    },
    {
      "cell_type": "markdown",
      "metadata": {
        "id": "0z5ly1LR_bxJ",
        "colab_type": "text"
      },
      "source": [
        "上のブロックを実行すると、データのビット幅だけを変えて計算したときの処理時間が確認できます。  \n",
        "だいたい8、16、32、64と増えるに従って2倍の時間がかかるのではないでしょうか？  \n",
        "これは当然、8ビットでは一度に8つ処理できるのに対し、16bitでは4つに減るためです。"
      ]
    },
    {
      "cell_type": "code",
      "metadata": {
        "id": "deBIV6_G9uAT",
        "colab_type": "code",
        "colab": {}
      },
      "source": [
        "databits = (np.float16, np.float32, np.float64)\n",
        "for datatype in databits:\n",
        "  print(f'\\nDatatype:{datatype}')\n",
        "  matrix = np.random.randint(0,255,(512,512,3)).astype(datatype)\n",
        "  matrixwise_add(matrix, 1)  # 一度計算してキャッシュの状態を揃える\n",
        "  %timeit matrixwise_add(matrix, np.random.randint(1,100))"
      ],
      "execution_count": 0,
      "outputs": []
    },
    {
      "cell_type": "markdown",
      "metadata": {
        "id": "6GmfvY2BAmrh",
        "colab_type": "text"
      },
      "source": [
        "ちなみに浮動小数点(実数値)型でも同様です。  \n",
        "実数型の計算は整数型と比べると非常に時間がかかりますが、  \n",
        "近頃の若いCPUには専用の計算回路があるので、それほど遅くなりません。  \n",
        "ただし、CPUに16ビットの浮動小数点型に専用の計算回路はないので、かなり遅くなります。  \n",
        "\n",
        "現代はすでに豊富なRAM空間があるため、計算はすべて64ビット実数型(double)を使うことも  \n",
        "珍しくなくなってきましたが、最高のパフォーマンスを求めるならば実数型は32ビット、  \n",
        "精度が足りない(だいたい$10^{-7}$以上の桁が必要な)場合に限り64ビットを使用するのがおすすめです。"
      ]
    },
    {
      "cell_type": "code",
      "metadata": {
        "id": "ff2RfrjlqUo2",
        "colab_type": "code",
        "colab": {}
      },
      "source": [
        "import cupy as np # cupyはGPU上で実行できるnumpyモジュール\n",
        "databits = (np.float16, np.float32, np.float64)\n",
        "for datatype in databits:\n",
        "  print(f'\\nDatatype:{datatype}')\n",
        "  # matrix = np.random.randint(0,255,(2048*4,2048*4,3)).astype(datatype)\n",
        "  matrix = np.random.randint(0,255,(512,512,256*2)).astype(datatype)\n",
        "  matrixwise_add(matrix, 1)  # 一度計算してキャッシュの状態を揃える\n",
        "  %timeit matrixwise_add(matrix, np.random.randint(1,100))"
      ],
      "execution_count": 0,
      "outputs": []
    },
    {
      "cell_type": "markdown",
      "metadata": {
        "id": "q5BK8IiRzDGR",
        "colab_type": "text"
      },
      "source": [
        "GPUではちゃんと16bit実数型の計算機があるので早くなります。   \n",
        "(エラーが出れば上のランタイムからタイプを変更する項目で、アクセラレータにGPUを指定してください)  \n",
        "\n",
        "ゲーム用のGPU(GeForce)にはだいたい大量の32ビット実数型用の計算回路が、そして僅かな64ビット実数型用の計算回路があります。  \n",
        "それぞれの計算能力はアーキテクチャ(基本設計)に依存しますが、  \n",
        "2019年時点で最新のNvidia Turningアーキテクチャでは32ビットの計算能力を1とすると、16ビットはその2倍、64ビットは1/32倍です。  \n",
        "ColabのGPUはゲーム用ではなく科学計算に特化したモデル(Tesla K80、もしくはT4)かつ、GPUにおける最適化戦略はCPUとは異なるので  \n",
        "それほど大きな違いはありませんが、速度はビット数に依存する傾向は変わりません。"
      ]
    },
    {
      "cell_type": "markdown",
      "metadata": {
        "id": "D2zTwtTG0O2m",
        "colab_type": "text"
      },
      "source": [
        "## オーバーフローを回避する"
      ]
    },
    {
      "cell_type": "code",
      "metadata": {
        "id": "71FaV6616-gQ",
        "colab_type": "code",
        "colab": {}
      },
      "source": [
        "!git clone https://github.com/TenteEEEE/quiche_pantie_patch.git\n",
        "\n",
        "# 本章の実行に必要なプログラム\n",
        "from PIL import Image, ImageOps\n",
        "from skimage import io\n",
        "import numpy as np\n",
        "dreamdir = './quiche_pantie_patch/dream/'"
      ],
      "execution_count": 0,
      "outputs": []
    },
    {
      "cell_type": "markdown",
      "metadata": {
        "id": "NhZmRK-Fqk61",
        "colab_type": "text"
      },
      "source": [
        "さて、画像の明るくすることは容易であることが分かったと思いますが、1つ問題があります。  \n",
        "次のブロックを実行し、その結果を確認してみてください。"
      ]
    },
    {
      "cell_type": "code",
      "metadata": {
        "id": "1hOu2_tE2UL_",
        "colab_type": "code",
        "colab": {}
      },
      "source": [
        "pantie = Image.open(f'{dreamdir}{101:04d}.png')\n",
        "pantie = np.array(pantie)[:,:,:3]\n",
        "pantie += 100\n",
        "io.imshow(pantie) "
      ],
      "execution_count": 0,
      "outputs": []
    },
    {
      "cell_type": "markdown",
      "metadata": {
        "id": "aTO-Uem13ShM",
        "colab_type": "text"
      },
      "source": [
        "一部の色が変になっていないでしょうか？  \n",
        "これは画像のデータ型がuint8という非常に値域が狭い(0～255)型だからです。  \n",
        "たとえば、200の明るさのピクセルに100を足すとどうなるでしょうか？"
      ]
    },
    {
      "cell_type": "code",
      "metadata": {
        "id": "z_E_BTU53ZSq",
        "colab_type": "code",
        "colab": {}
      },
      "source": [
        "tmp = np.ones((3),dtype=np.uint8)*200  # 3つの要素をもつ行列(つまり1ピクセル)を1で初期化して200をかける\n",
        "print(tmp)\n",
        "print(tmp+100)"
      ],
      "execution_count": 0,
      "outputs": []
    },
    {
      "cell_type": "markdown",
      "metadata": {
        "id": "YhydYBRs4qA4",
        "colab_type": "text"
      },
      "source": [
        "300となってほしいところですが、44となっているはずです。  \n",
        "もっとわかりやすいのは以下の例です。"
      ]
    },
    {
      "cell_type": "code",
      "metadata": {
        "id": "QEfPg3Ug5bIO",
        "colab_type": "code",
        "colab": {}
      },
      "source": [
        "tmp = np.ones((3),dtype=np.uint8)*255  # 1ピクセルを255で初期化\n",
        "print(tmp)\n",
        "print(tmp+1)"
      ],
      "execution_count": 0,
      "outputs": []
    },
    {
      "cell_type": "markdown",
      "metadata": {
        "id": "DBDFhh3f5mfT",
        "colab_type": "text"
      },
      "source": [
        "なんと255に1を足すと0になります。 つまり255を超えた数はまた0から始まってしまいます。  \n",
        "この現象は**オーバーフロー(Overflow)**と呼ばれるもので、狭い値域の型を使用すると発生します。  \n",
        "そうすると加算して明るくなるはずが、暗くなる場所が発生し、先のような画像になってしまいます。  \n",
        "ではどうすれば良いのか？ これはより広い値域で計算する、つまり型変換を先に行うべきです。\n"
      ]
    },
    {
      "cell_type": "code",
      "metadata": {
        "id": "kCTSSwJ474ET",
        "colab_type": "code",
        "colab": {}
      },
      "source": [
        "tmp = np.ones((3),dtype=np.uint8)*255  # 1ピクセルを255で初期化\n",
        "tmp = tmp.astype(np.uint16)  # 16ビットの符号なし整数型に型変換 tmp = np.uint16(tmp) でも可\n",
        "print(tmp)\n",
        "print(tmp+1)"
      ],
      "execution_count": 0,
      "outputs": []
    },
    {
      "cell_type": "markdown",
      "metadata": {
        "id": "Xjx-7bFS8dpJ",
        "colab_type": "text"
      },
      "source": [
        "ちゃんと256になっていますね！  \n",
        "numpy行列では型変換の方法が2種類あります。\n",
        "\n",
        "* numpyのデータ型(変数名)\n",
        "* 変数名.astype(numpyのデータ型)\n",
        "\n",
        "どちらを使っても構いません。  \n",
        "今回は16ビットの符号なし整数型に変換したので、値域は$0～2^{16}-1$となります。  \n",
        "昔のゲームで65535という数値を見たことがあるかもしれませんが、これは$2^{16}-1$の値です。  \n",
        "とにかく、これでうまいこといったので、後はもとの8ビットに戻しましょう。"
      ]
    },
    {
      "cell_type": "code",
      "metadata": {
        "id": "mM50YpOKBOx6",
        "colab_type": "code",
        "colab": {}
      },
      "source": [
        "print(np.uint8(tmp+1))"
      ],
      "execution_count": 0,
      "outputs": []
    },
    {
      "cell_type": "markdown",
      "metadata": {
        "id": "vOnbpddABZ5y",
        "colab_type": "text"
      },
      "source": [
        "無慈悲にもこれはうまくいきません。 uint8の値域はどうあっても0～255で256は表現できないからです。  \n",
        "よって、16ビットのデータの間に値が0～255に収まるようにしなければなりません。  \n",
        "これにはnumpyのclipという便利関数があります。"
      ]
    },
    {
      "cell_type": "code",
      "metadata": {
        "id": "AiS7x6U8B_NI",
        "colab_type": "code",
        "colab": {}
      },
      "source": [
        "print(np.clip(tmp+1, 0, 255)) # tmp+1 の値域を0～255にする(-1以下は0に、256以上は255になる)"
      ],
      "execution_count": 0,
      "outputs": []
    },
    {
      "cell_type": "markdown",
      "metadata": {
        "id": "7RjhDyKQCWw-",
        "colab_type": "text"
      },
      "source": [
        "使い方は、np.clip(変数名, 最小値, 最大値) です。  \n",
        "この後の型変換は正常に行われます。   \n",
        "では、ぱんつ画像に同様の処理を適用してみましょう！  \n",
        "とりあえず加算する値は100で書いてみてください。"
      ]
    },
    {
      "cell_type": "code",
      "metadata": {
        "id": "vrFTIgIRpt4w",
        "colab_type": "code",
        "colab": {}
      },
      "source": [
        "pantie = Image.open(f'{dreamdir}{101:04d}.png')\n",
        "pantie = np.array(pantie)[:,:,:3] # あらかじめアルファチャンネルは無視する\n",
        "# - ここに処理を書く ---\n",
        "\n",
        "# ----------------------\n",
        "io.imshow(pantie)"
      ],
      "execution_count": 0,
      "outputs": []
    },
    {
      "cell_type": "markdown",
      "metadata": {
        "id": "9CqJ4VB_FNVQ",
        "colab_type": "text"
      },
      "source": [
        "破綻のない明るさのぱんつになりましたか？  \n",
        "わからなければ解答例をみて、じっくり理解してください。"
      ]
    },
    {
      "cell_type": "markdown",
      "metadata": {
        "id": "ZRx5rlR7Ds0k",
        "colab_type": "text"
      },
      "source": [
        "### 解答例"
      ]
    },
    {
      "cell_type": "markdown",
      "metadata": {
        "id": "ILtEWdBhsdyI",
        "colab_type": "text"
      },
      "source": [
        "8ビット変換前にclipすることをお忘れなく！"
      ]
    },
    {
      "cell_type": "code",
      "metadata": {
        "id": "z8BuVLWZDWKu",
        "colab_type": "code",
        "colab": {}
      },
      "source": [
        "pantie = Image.open(f'{dreamdir}{101:04d}.png')\n",
        "pantie = np.array(pantie)[:,:,:3] # あらかじめアルファチャンネルは無視する\n",
        "pantie = pantie.astype(np.uint16) # 16ビットに拡張\n",
        "pantie = np.clip(pantie+100, 0, 255).astype(np.uint8) # 100を足して値域を0～255に制限し、8ビットに戻す\n",
        "io.imshow(pantie)"
      ],
      "execution_count": 0,
      "outputs": []
    },
    {
      "cell_type": "markdown",
      "metadata": {
        "id": "lr81k5kL-6Ci",
        "colab_type": "text"
      },
      "source": [
        "### コラム: 型変換とバイトオーダー"
      ]
    },
    {
      "cell_type": "markdown",
      "metadata": {
        "id": "ZH8-KC02Ai_o",
        "colab_type": "text"
      },
      "source": [
        "numpy行列の型変換は2種類と言ったな。 しかし、viewという隠し子がおるんじゃ。  \n",
        "正確にはviewを使った方法は型変換ではなく、型読み替えとも言うべきものです。"
      ]
    },
    {
      "cell_type": "code",
      "metadata": {
        "id": "2E7Ov1l9yRnd",
        "colab_type": "code",
        "colab": {}
      },
      "source": [
        "tmp = np.uint16([256])    # 16ビット符号なし整数型で256で初期化\n",
        "print(tmp)\n",
        "print(tmp.view(np.uint8)) # 8ビット符号なし整数型として扱う(見る)"
      ],
      "execution_count": 0,
      "outputs": []
    },
    {
      "cell_type": "markdown",
      "metadata": {
        "id": "3eoEG4QSzCfa",
        "colab_type": "text"
      },
      "source": [
        "256が[0 1]の2要素の変数になりました。  \n",
        "ちなみにビットで表すと256は [0000000100000000] です。 これを8ビットごとに分けるとしたので  \n",
        "[00000001, 00000000] つまり10進数でいえば [1, 0]となります。あれ？逆になってますね？  \n",
        "じつはこれCPUの設計によって違います。具体的にはバイトオーダー(Byte order)つまりバイトの順番の違いです。  \n",
        "バイトとは8つのビットの集まりで、**複数のバイトで型を構成するとき、その順番がCPUによって違います。**  \n",
        "Intel系はリトルエンディアンと呼ばれる形式で、小さい桁から順番に保存しています。   \n",
        "\n",
        "つまり16ビットのときに [0000000000000001] ([1桁目のバイト 2桁目のバイト])となっていました。  \n",
        "ちなみに[0000000100000000]([2桁目のバイト 1桁目のバイト])とするのはビッグエンディアンと呼ばれます。  \n",
        "\n",
        "このviewを使った方法は以下の例でも使えます。"
      ]
    },
    {
      "cell_type": "code",
      "metadata": {
        "id": "WRG7VhHZ_Gz1",
        "colab_type": "code",
        "colab": {}
      },
      "source": [
        "tmp = np.ones((3),dtype=np.uint8)*200  # 1ピクセルを200で初期化\n",
        "tmp = tmp.astype(np.uint16)\n",
        "print(f'{tmp}+100は')\n",
        "tmp = tmp+100                          # 100を足す\n",
        "print(f'{tmp} uint8で読むと')\n",
        "tmp = tmp.view(np.uint8)               # uint8として扱う\n",
        "print(tmp)"
      ],
      "execution_count": 0,
      "outputs": []
    },
    {
      "cell_type": "markdown",
      "metadata": {
        "id": "FptG0kc36WkD",
        "colab_type": "text"
      },
      "source": [
        "uint8の型では44しか見えませんでしたが、viewによって型を読み替えるだけで、2桁目が見えるようになりました。  \n",
        "オーバーフロー(Overflow)はあふれるという意味ですが、これを見るとちゃんと2桁目にあふれていることがわかります。  \n",
        "\n",
        "---\n",
        "\n",
        "ここで2進数の整数型の読み方を知っておくと、脳内でデコードが簡単にできます。  \n",
        "例として8ビットの整数型とすると、上から順番に[$2^7$, $2^6$, $2^5$, $2^4$, $2^3$, $2^2$, $2^1$, $2^0$]を意味します。  \n",
        "例えば[0000 0001]$=2^0=1$、[1000 0001]$=2^7+2^0=128+1=129$という感じです。  \n",
        "逆に44はビットで表すと$32+8+4=2^5+2^3+2^2=$[0010 1100]です。  \n",
        "\n",
        "オーバーフローしたものが1なので、これはビットで[0000 0001]、16ビットでまとめると  \n",
        "人にやさしいビッグエンディアンでは[0000 0001 0010 1100](=[1 44])です。  \n",
        "このあふれた1は$2^8$の位置に相当するので256、つまり合計は$256+44=300$。\n",
        "\n",
        "---\n",
        "\n",
        "このように、ちゃんと計算すると300という値は保存されています。  \n",
        "このviewを使った方法は、容量と用法を守れば非常に高速な型変換となります。"
      ]
    },
    {
      "cell_type": "code",
      "metadata": {
        "id": "mzYRxBhoEvFk",
        "colab_type": "code",
        "colab": {}
      },
      "source": [
        "pantie = Image.open(f'{dreamdir}{101:04d}.png')\n",
        "pantie = np.array(pantie)[:,:,:3]    # アルファチャンネルは無視する\n",
        "pantie = pantie.astype(np.uint16)    # 16ビットに拡張\n",
        "pantie = np.clip(pantie+100, 0, 255) # 100を足して値域を0～255に制限する\n",
        "\n",
        "%timeit -n 1 -r 1 pantie.astype(np.uint8)         # 型変換\n",
        "%timeit -n 1 -r 1 pantie.view(np.uint8)[:,:,::2]  # 型読み替え [::2]は1つ飛ばしでスライス(2桁目を削除)"
      ],
      "execution_count": 0,
      "outputs": []
    },
    {
      "cell_type": "markdown",
      "metadata": {
        "id": "fMKGxk9WAsyI",
        "colab_type": "text"
      },
      "source": [
        "だいたい10倍程度早く変換できます。  \n",
        "実は型変換とは『変数のコピーを作成→型を読み替える→領域を確保→保存』という流れがあります。  \n",
        "一方、viewは実体のコピーを作成しない(データの位置[アドレス]だけを教える)ので  \n",
        "『変数のアドレスを参照→型を読み替える→読み替え済みアドレスを保存』とかなり軽量な処理になります。  \n",
        "\n",
        "注意すべき点として、viewによって生成されたものは、実質元データと同じ(参照しているだけ)なので、"
      ]
    },
    {
      "cell_type": "code",
      "metadata": {
        "id": "tGU3ADzEH87H",
        "colab_type": "code",
        "colab": {}
      },
      "source": [
        "tmp = np.ones((3),dtype=np.uint16)*200  # 1ピクセルを200で初期化\n",
        "tmp = tmp+100                           # 100を足す\n",
        "print('viewを使って')\n",
        "out = tmp.view(np.uint8)[::2]           # uint8として扱う\n",
        "print('outの最初に1を足すと')\n",
        "out[0] += 1\n",
        "print(out)\n",
        "print(tmp)\n",
        "print('tmpも1増える')\n",
        "\n",
        "tmp = np.ones((3),dtype=np.uint16)*200  # 1ピクセルを200で初期化\n",
        "tmp = tmp+100   \n",
        "print('\\nastypeを使って')\n",
        "out = tmp.astype(np.uint8)              # uint8に変換してコピーを作成\n",
        "print('outの最初に1を足しても')\n",
        "out[0] += 1\n",
        "print(out)\n",
        "print(tmp)\n",
        "print('tmpは変更されない')"
      ],
      "execution_count": 0,
      "outputs": []
    },
    {
      "cell_type": "markdown",
      "metadata": {
        "id": "YfUAm7uSI4Z4",
        "colab_type": "text"
      },
      "source": [
        "変換後の変数に変更を加えると、view関数に渡した元変数も変更されます。  \n",
        "この特性が良いときもあれば、悪いときもあるでしょう。  \n",
        "viewによって型を読み替えるときは、この特性およびCPU依存性が高まることを把握した上で！  \n",
        "\n",
        "ちなみにバイトオーダーは以下のコマンドで確認できます。"
      ]
    },
    {
      "cell_type": "code",
      "metadata": {
        "id": "0mtQ7CxZhict",
        "colab_type": "code",
        "colab": {}
      },
      "source": [
        "import sys\n",
        "sys.byteorder"
      ],
      "execution_count": 0,
      "outputs": []
    },
    {
      "cell_type": "markdown",
      "metadata": {
        "id": "f2RW7PnDQiGM",
        "colab_type": "text"
      },
      "source": [
        "## ファイル一覧でループ"
      ]
    },
    {
      "cell_type": "code",
      "metadata": {
        "id": "zkyOrXyZSf2z",
        "colab_type": "code",
        "colab": {}
      },
      "source": [
        "!git clone https://github.com/TenteEEEE/quiche_pantie_patch.git\n",
        "\n",
        "# 本章の実行に必要なプログラム\n",
        "from PIL import Image, ImageOps\n",
        "import numpy as np\n",
        "dreamdir = './quiche_pantie_patch/dream/'"
      ],
      "execution_count": 0,
      "outputs": []
    },
    {
      "cell_type": "markdown",
      "metadata": {
        "id": "PZnbcHdsSAf8",
        "colab_type": "text"
      },
      "source": [
        "そろそろ行列としての画像の扱いにも少し慣れてきた頃かと思います。  \n",
        "ここでちょっと画像から離れて、今後頻出するであろうファイル一覧の取得方法について書きます。  \n",
        "ファイル一覧の取得は結構簡単です。 osというモジュールを使います。"
      ]
    },
    {
      "cell_type": "code",
      "metadata": {
        "id": "r2NIuuFtSifj",
        "colab_type": "code",
        "colab": {}
      },
      "source": [
        "import os\n",
        "panties = os.listdir(dreamdir)\n",
        "print(panties)"
      ],
      "execution_count": 0,
      "outputs": []
    },
    {
      "cell_type": "markdown",
      "metadata": {
        "id": "9ywGijosSndO",
        "colab_type": "text"
      },
      "source": [
        "osモジュールの中にはlistdirという、フォルダの中身を列挙する関数があります。  \n",
        "これを実行するとずらっと一覧で取得できます。  \n",
        "しかし名前が順番ではないのでちょっと気持ち悪い… そんなときは"
      ]
    },
    {
      "cell_type": "code",
      "metadata": {
        "id": "ddZ1SisLS6aU",
        "colab_type": "code",
        "colab": {}
      },
      "source": [
        "panties = sorted(os.listdir(dreamdir))\n",
        "print(panties)"
      ],
      "execution_count": 0,
      "outputs": []
    },
    {
      "cell_type": "markdown",
      "metadata": {
        "id": "qE0j_NliTAxl",
        "colab_type": "text"
      },
      "source": [
        "このようにsorted関数を使うことでいい感じになります。  \n",
        "さて、ここで今まで扱ってこなかったPython純正の**配列**について述べておきましょう。  \n",
        "配列とは複数の変数が集まることで構成されるデータ型です。numpyの行列も配列の一種です。  \n",
        "\n",
        "実は配列っぽい型はPythonにはたくさんあるのですが、[ ]で囲まれたデータは **リスト(List)** と呼ばれるデータ型です。  \n",
        "numpy行列とかなり似ていますが、違います。\n",
        "\n",
        "とはいえ、変換は可能です。 np.array関数に入れると変換されます。"
      ]
    },
    {
      "cell_type": "code",
      "metadata": {
        "id": "FUAQqA0MUA56",
        "colab_type": "code",
        "colab": {}
      },
      "source": [
        "np_panties = np.array(panties)\n",
        "print(type(panties))\n",
        "print(panties)\n",
        "print(type(np_panties))\n",
        "print(np_panties)"
      ],
      "execution_count": 0,
      "outputs": []
    },
    {
      "cell_type": "markdown",
      "metadata": {
        "id": "2YyBa6IWUhHa",
        "colab_type": "text"
      },
      "source": [
        "パット見で違いはないので、typeでデータ型も表示しました。  \n",
        "しかし、リストは見た目が似ているだけで、中身は完全に別物です。  \n",
        "ずばりPythonのリストは動的配列で、numpyモジュールが提供する行列は静的配列です。 ﾅﾝﾔｿﾚ  \n",
        "百聞は一見にしかずです。リストとnumpy行列にどんどんデータを追加していきましょう。"
      ]
    },
    {
      "cell_type": "code",
      "metadata": {
        "id": "jPPd_n9zVK8d",
        "colab_type": "code",
        "colab": {}
      },
      "source": [
        "list_data = []          # 空のリストを用意\n",
        "np_data = np.array([])  # 空のnumpy行列を用意\n",
        "\n",
        "# 末尾に1を追加する処理\n",
        "%timeit list_data.append(1)\n",
        "%timeit np.append(np_data, 1)"
      ],
      "execution_count": 0,
      "outputs": []
    },
    {
      "cell_type": "markdown",
      "metadata": {
        "id": "-Y4PnBQ2WTRZ",
        "colab_type": "text"
      },
      "source": [
        "データの追加はリストでは変数にappendという関数があります。  \n",
        "一方numpyでは変数自体ではサポートしておらず、専用のappend関数があります。  \n",
        "プログラムは共に同じことをする処理なのですが、numpy行列はリストに比べるとかなり遅いことが分かります。  \n",
        "これはnumpyが使えない役たたずの科学計算ライブラリの風上にも置けない面汚しというわけではありません。  \n",
        "\n",
        "感のいいあなたは気づいているかもしれませんが、  \n",
        "**動的配列は後からデータを追加/削除されることを考慮したタイプのデータ型**ということです。  \n",
        "一方、静的配列は要素の追加や削除ができません。ではなぜappendができるのかという話ですが、  \n",
        "これは**末尾に新要素を追加した新しい行列を作り直す**というスーパーパワープレイをしているからです。  \n",
        "\n",
        "だったらもう全部リスト型でやったら色々便利では？という話もありますが、"
      ]
    },
    {
      "cell_type": "code",
      "metadata": {
        "id": "tAlJu0jsObs-",
        "colab_type": "code",
        "colab": {}
      },
      "source": [
        "np_data = np.arange(1,100000)  # 1～100000までの数列\n",
        "list_data = list(np_data)      # リスト型に変換\n",
        "\n",
        "# 総和を計算する\n",
        "%timeit -n 100 -r 3 sum(list_data)\n",
        "%timeit -n 100 -r 3 np_data.sum()"
      ],
      "execution_count": 0,
      "outputs": []
    },
    {
      "cell_type": "markdown",
      "metadata": {
        "id": "WBHXKjZ-P8-F",
        "colab_type": "text"
      },
      "source": [
        "このように数値演算でリスト型は圧倒的に不利です。  \n",
        "計算に不向きだとどこで使うの？との疑問は当然ですが、これはループ処理で大活躍します。"
      ]
    },
    {
      "cell_type": "code",
      "metadata": {
        "id": "RnKXvH3ZVlEB",
        "colab_type": "code",
        "colab": {}
      },
      "source": [
        "panties = sorted(os.listdir(dreamdir))\n",
        "for pantie in panties:\n",
        "  print(pantie)"
      ],
      "execution_count": 0,
      "outputs": []
    },
    {
      "cell_type": "markdown",
      "metadata": {
        "id": "YWLXQYZ4V0D3",
        "colab_type": "text"
      },
      "source": [
        "このように、リストの中身はforループで順番に取り出すことができます。  \n",
        "ちなみにこれはリストに限りませんが、こんな書き方もできます。"
      ]
    },
    {
      "cell_type": "code",
      "metadata": {
        "id": "1JW38GsCWANn",
        "colab_type": "code",
        "colab": {}
      },
      "source": [
        "for index, pantie in enumerate(panties):\n",
        "  print(f'{index:03d}:{pantie}')"
      ],
      "execution_count": 0,
      "outputs": []
    },
    {
      "cell_type": "markdown",
      "metadata": {
        "id": "wgdQm72RWQta",
        "colab_type": "text"
      },
      "source": [
        "enumerateという修飾子をつけると、ループ数と一緒にデータがやってきます。  \n",
        "これが結構便利で、ループ数で他のリストやnumpy行列を参照したいときに有効です。  \n",
        "他にもnumpyで指定できるスライスはリストでも有効です。"
      ]
    },
    {
      "cell_type": "code",
      "metadata": {
        "id": "NlHmRz_XyoqS",
        "colab_type": "code",
        "colab": {}
      },
      "source": [
        "for index, pantie in enumerate(panties[:10]): # 最初から10個だけでループ\n",
        "  print(f'{index:03d}:{pantie}')\n",
        "print()\n",
        "for index, pantie in enumerate(panties[-10:]): # 最後の10個手前からループ\n",
        "  print(f'{index:03d}:{pantie}')\n",
        "print()\n",
        "for index, pantie in enumerate(panties[100:110]): # 101～110番目の要素でループ\n",
        "  print(f'{index:03d}:{pantie}')"
      ],
      "execution_count": 0,
      "outputs": []
    },
    {
      "cell_type": "markdown",
      "metadata": {
        "id": "e8Lzo2fh8oJL",
        "colab_type": "text"
      },
      "source": [
        "リスト型はとてもnumpyと同様、非常に重要なデータ型です。  \n",
        "最低限は上のサンプルで十分ですが、興味がある方はコラムにてその詳細を知ることができます。"
      ]
    },
    {
      "cell_type": "markdown",
      "metadata": {
        "id": "RNduM4GRR3p9",
        "colab_type": "text"
      },
      "source": [
        "### コラム: リスト型とリスト内包表記"
      ]
    },
    {
      "cell_type": "markdown",
      "metadata": {
        "id": "76XDsEya7_9Q",
        "colab_type": "text"
      },
      "source": [
        "リスト型はPythonを使いこなすのに必須のデータ型です。  \n",
        "リストはタプル型と同様に、どんなデータでも入れることができます。  \n",
        "また、ループも可能です。"
      ]
    },
    {
      "cell_type": "code",
      "metadata": {
        "id": "Zk7M8AXAR-pO",
        "colab_type": "code",
        "colab": {}
      },
      "source": [
        "list_data = [1, 'hello', 3.14, [1, 2, 3]]\n",
        "print(list_data)\n",
        "for data in list_data:\n",
        "  print(data)"
      ],
      "execution_count": 0,
      "outputs": []
    },
    {
      "cell_type": "markdown",
      "metadata": {
        "id": "1uQIDRQcBiJJ",
        "colab_type": "text"
      },
      "source": [
        "リストは可変長のデータ型ですが、大きさを指定して初期化することもできます。"
      ]
    },
    {
      "cell_type": "code",
      "metadata": {
        "id": "RlyITk5K-vqW",
        "colab_type": "code",
        "colab": {}
      },
      "source": [
        "tmp = [1]*10  # 10個の1で初期化\n",
        "print(tmp)"
      ],
      "execution_count": 0,
      "outputs": []
    },
    {
      "cell_type": "markdown",
      "metadata": {
        "id": "e5AYvHarB0e0",
        "colab_type": "text"
      },
      "source": [
        "1×10に見えますが、リストの掛け算はコピーを意味します。  \n",
        "やっていることは要素1つのリストを10こにしているだけです。\n",
        "二次元のリストも構築可能なのですが、"
      ]
    },
    {
      "cell_type": "code",
      "metadata": {
        "id": "6A8nF4SgB4er",
        "colab_type": "code",
        "colab": {}
      },
      "source": [
        "tmp = [ [1]*10 ]*10  # 10個の1で初期化\n",
        "print(tmp)\n",
        "tmp[0][0] = 2        # 2次元配列中の、最初の1次元配列の最初の要素を2に変更\n",
        "print(tmp)           # なんか変"
      ],
      "execution_count": 0,
      "outputs": []
    },
    {
      "cell_type": "markdown",
      "metadata": {
        "id": "Phq41OuaCxZm",
        "colab_type": "text"
      },
      "source": [
        "これは最初の[1,1,1,1,1,1,1,1,1,1]がコピーされるだけで、どこかの要素を変更すると、変更が全てに反映されます。  \n",
        "これはリスト内包表記という記述方法で回避できます。   \n",
        "内包表記とはリストの中にfor文を書いて、結果を逐次リストに追加(append)していく記法です。"
      ]
    },
    {
      "cell_type": "code",
      "metadata": {
        "id": "VD-doT3tOFUu",
        "colab_type": "code",
        "colab": {}
      },
      "source": [
        "tmp = [i for i in range(10)]\n",
        "print(tmp)"
      ],
      "execution_count": 0,
      "outputs": []
    },
    {
      "cell_type": "markdown",
      "metadata": {
        "id": "ZS-XfzhfOMCg",
        "colab_type": "text"
      },
      "source": [
        "これは\n",
        "```\n",
        "tmp = []\n",
        "for i in range(10):\n",
        "  tmp.append(i)\n",
        "```\n",
        "とほぼ同じ処理です(超厳密には違う)。コンパクトにループが書けるので、1次元ぐらいならばよくつかいます。  \n",
        "同様にリストを2次元で初期化したいときは\n"
      ]
    },
    {
      "cell_type": "code",
      "metadata": {
        "id": "bqbtuEYyFLre",
        "colab_type": "code",
        "colab": {}
      },
      "source": [
        "tmp = [[1]*10 for _ in range(10)]\n",
        "print(tmp)\n",
        "tmp[0][0] = 2        # 2次元配列中の、最初の1次元配列の最初の要素を2に変更\n",
        "print(tmp)"
      ],
      "execution_count": 0,
      "outputs": []
    },
    {
      "cell_type": "markdown",
      "metadata": {
        "id": "oWTKehB5I1Sh",
        "colab_type": "text"
      },
      "source": [
        "こちらは2つめのリストの内容が変更されず、正常に動作します。  \n",
        "なぜこんな訳のわからないことが起こるのか… これは実処理がどうなっているかを見るのが早そうです。  \n",
        "Pythonにはdis(disassembly)という実処理を表示するモジュールがあります。"
      ]
    },
    {
      "cell_type": "code",
      "metadata": {
        "id": "_7Iq95NtCODN",
        "colab_type": "code",
        "colab": {}
      },
      "source": [
        "from dis import dis\n",
        "dis('[[1]*10]*10')\n",
        "dis('[[1]*10 for _ in range(10)]')"
      ],
      "execution_count": 0,
      "outputs": []
    },
    {
      "cell_type": "markdown",
      "metadata": {
        "id": "RUgM1POcJJQz",
        "colab_type": "text"
      },
      "source": [
        "アセンブラを読んだことのある人には分かりやすいかもしれませんが、まだ理解できなくとも問題ありません。  \n",
        "この表示の意味するところは  \n",
        "\n",
        "* [[1]\\*10]\\*10 は [1]\\*10を計算した[1,1,1,1,1,1,1,1,1,1]を10個コピーしている\n",
        "* [[1]\\*10 for _ in range(10)] は内包表記された[1]\\*10を10回実行している\n",
        "\n",
        "です。結果は一緒じゃん？って思いますが、[1]\\*10の計算が内包表記によって10回評価されるので、[1,1,1,1,1,1,1,1,1,1]のコピーになりません。  \n",
        "納得いかなければIDを確認してみると良いでしょう。"
      ]
    },
    {
      "cell_type": "code",
      "metadata": {
        "id": "UZsHWtewM06t",
        "colab_type": "code",
        "colab": {}
      },
      "source": [
        "print('コピーを作成(全部同じID、つまり同じ変数を参照している)')\n",
        "tmp = [[1]*10]*10\n",
        "for t in tmp:\n",
        "  print(id(t))\n",
        "\n",
        "print('\\nリスト内包表記(すべて異なるID、つまり別変数)')\n",
        "tmp = [[1]*10 for _ in range(10)]\n",
        "for t in tmp:\n",
        "  print(id(t))"
      ],
      "execution_count": 0,
      "outputs": []
    },
    {
      "cell_type": "markdown",
      "metadata": {
        "id": "TP6q2wdfO5ti",
        "colab_type": "text"
      },
      "source": [
        "PythonにおけるIDとは、変数がメモリのどこにあるのかを示しています。  \n",
        "つまり同じIDは同じ変数であることを意味します。C言語を知っている方なら、ポインタと同じです。  \n",
        "\n",
        "このリスト内包表記は便利すぎるあまり、Pythonの暗黒面に陥りやすいのには注意です。  \n",
        "たとえば次の表記は0～9の間の奇数をリストにします。"
      ]
    },
    {
      "cell_type": "code",
      "metadata": {
        "id": "LjtEkUcEPT92",
        "colab_type": "code",
        "colab": {}
      },
      "source": [
        "[i for i in range(10) if i%2]"
      ],
      "execution_count": 0,
      "outputs": []
    },
    {
      "cell_type": "markdown",
      "metadata": {
        "id": "6PGyfAN6QZ7W",
        "colab_type": "text"
      },
      "source": [
        "ifを後ろにつけると、ifの内容がTrue(0以外)のときに、内包表記された式が実行されます。  \n",
        "%は剰余算で、今回はiを2で割った余りでifを動かしています。  \n",
        "奇数は2で割ると必ず余りが1になるので、iには奇数しか入りません。\n",
        "\n",
        "elseを付けたい場合はforの前につけます。"
      ]
    },
    {
      "cell_type": "code",
      "metadata": {
        "id": "JEu9ZooWPtD-",
        "colab_type": "code",
        "colab": {}
      },
      "source": [
        "[i  if not i%2 else None for i in range(10)]"
      ],
      "execution_count": 0,
      "outputs": []
    },
    {
      "cell_type": "markdown",
      "metadata": {
        "id": "hinHfNhORFpR",
        "colab_type": "text"
      },
      "source": [
        "今回は剰余算にnot(反転)を加えて、偶数のときに内包表記を評価、  \n",
        "奇数のときにNoneという無を意味するデータを返すようにしました。  \n",
        "リスト内包表記様はまだまだできるお方。 FizzBuzz問題も1行で解けます。  \n",
        "FizzBuzz問題とは以下のシンプルなプログラムです。\n",
        "\n",
        "```\n",
        "1から数え始めて\n",
        "3で割り切れたらFizzを\n",
        "5で割り切れたらBuzzを\n",
        "3と5で割れたらFizzBuzzを\n",
        "そうでもなければ数値を表示する\n",
        "```\n",
        "\n",
        "素直に書くなら"
      ]
    },
    {
      "cell_type": "code",
      "metadata": {
        "id": "K4eA0mlvUaWI",
        "colab_type": "code",
        "colab": {}
      },
      "source": [
        "n=100\n",
        "for i in range(1,n):\n",
        "  if i%3 is 0 and i%5 is 0:\n",
        "    print('FizzBuzz')\n",
        "  elif i%3 is 0:\n",
        "    print('Fizz')\n",
        "  elif i%5 is 0:\n",
        "    print('Buzz')\n",
        "  else:\n",
        "    print(i)"
      ],
      "execution_count": 0,
      "outputs": []
    },
    {
      "cell_type": "markdown",
      "metadata": {
        "id": "Yuu8r0CPYcx7",
        "colab_type": "text"
      },
      "source": [
        "剰余算の判定は == 0でも良いのですが、剰余算の結果は単一の整数であることが分かりきっているので、isを使った判定が僅かに高速です。"
      ]
    },
    {
      "cell_type": "code",
      "metadata": {
        "id": "pmuPH3LDYWSj",
        "colab_type": "code",
        "colab": {}
      },
      "source": [
        "%timeit i%3 == 0 and i%5 == 0\n",
        "%timeit i%3 is 0 and i%5 is 0"
      ],
      "execution_count": 0,
      "outputs": []
    },
    {
      "cell_type": "markdown",
      "metadata": {
        "id": "axxcRFGTVWoC",
        "colab_type": "text"
      },
      "source": [
        "こんなかんじ。  \n",
        "ちょっと考えるとFizzBuzzは3と5で割り切れた場合の文字が連結されたものなので、"
      ]
    },
    {
      "cell_type": "code",
      "metadata": {
        "id": "OXpMI4aYVsMT",
        "colab_type": "code",
        "colab": {}
      },
      "source": [
        "n=100\n",
        "for i in range(1,n):\n",
        "  txt = ''\n",
        "  if i%3 is 0:\n",
        "    txt += 'Fizz'\n",
        "  if i%5 is 0:\n",
        "    txt += 'Buzz'\n",
        "  if txt == '':\n",
        "    txt += str(i)\n",
        "  print(txt)"
      ],
      "execution_count": 0,
      "outputs": []
    },
    {
      "cell_type": "markdown",
      "metadata": {
        "id": "HroxI6pdWXHS",
        "colab_type": "text"
      },
      "source": [
        "文字列の加算でも表現できます。剰余算の結果を直接利用すれば、"
      ]
    },
    {
      "cell_type": "code",
      "metadata": {
        "id": "1zuXf3gjXJWG",
        "colab_type": "code",
        "colab": {}
      },
      "source": [
        "for i in range(1,n):\n",
        "  txt = (not i%3)*'Fizz'+(not i%5)*'Buzz'+(i%3 * i%5 >0)*str(i)\n",
        "  print(txt)"
      ],
      "execution_count": 0,
      "outputs": []
    },
    {
      "cell_type": "markdown",
      "metadata": {
        "id": "2RZDiK0GXj4F",
        "colab_type": "text"
      },
      "source": [
        "リスト内包表記で闇落ちすると"
      ]
    },
    {
      "cell_type": "code",
      "metadata": {
        "id": "QxLmzz4KSKCI",
        "colab_type": "code",
        "colab": {}
      },
      "source": [
        "print([(not i%3)*'Fizz'+(not i%5)*'Buzz' or i for i in range(1,n)])"
      ],
      "execution_count": 0,
      "outputs": []
    },
    {
      "cell_type": "markdown",
      "metadata": {
        "id": "2_IuRrEBXw4S",
        "colab_type": "text"
      },
      "source": [
        "or は左辺が0でなければ右辺を実行するので、1行で書けます。"
      ]
    },
    {
      "cell_type": "markdown",
      "metadata": {
        "id": "vHeG8RfQAWMB",
        "colab_type": "text"
      },
      "source": [
        "## 類似度の計算"
      ]
    },
    {
      "cell_type": "code",
      "metadata": {
        "id": "AEVmow3ve-rO",
        "colab_type": "code",
        "colab": {}
      },
      "source": [
        "!git clone https://github.com/TenteEEEE/quiche_pantie_patch.git\n",
        "\n",
        "# 本章の実行に必要なプログラム\n",
        "from PIL import Image, ImageOps\n",
        "import numpy as np\n",
        "import os\n",
        "dreamdir = './quiche_pantie_patch/dream/'\n",
        "panties = sorted(os.listdir(dreamdir))"
      ],
      "execution_count": 0,
      "outputs": []
    },
    {
      "cell_type": "markdown",
      "metadata": {
        "id": "kN83leDVebKy",
        "colab_type": "text"
      },
      "source": [
        "いよいよここから画像処理らしくなってきます！  \n",
        "Googleの画像検索はもっとスマートなものですが、本章ではシンプルに類似するぱんつを見つける方法を紹介します。  \n",
        "そもそも画像が似ているとはどういうことなのか？  \n",
        "もっともシンプルな判別方法は、『各ピクセルの値がどれほど近い値なのか』ということです。  \n",
        "つまり、"
      ]
    },
    {
      "cell_type": "code",
      "metadata": {
        "id": "gceTi1GZfPl9",
        "colab_type": "code",
        "colab": {}
      },
      "source": [
        "pantie = np.array(Image.open(dreamdir + panties[100])) # 0101.pngを読み込む\n",
        "pantie_comp = np.array(Image.open(dreamdir + panties[101])) # 0102.pngを読み込む\n",
        "print(pantie-pantie_comp)"
      ],
      "execution_count": 0,
      "outputs": []
    },
    {
      "cell_type": "markdown",
      "metadata": {
        "id": "4op-CPUIga-d",
        "colab_type": "text"
      },
      "source": [
        "このような計算はなんらかの類似度を示していることでしょう。  \n",
        "ただし、こちらも数値範囲には注意が必要です。 画像は基本的に8ビットの符号なし整数型(0～255)です。  \n",
        "引き算においてもオーバーフローは健在です。"
      ]
    },
    {
      "cell_type": "code",
      "metadata": {
        "id": "CfjFunQmhKmx",
        "colab_type": "code",
        "colab": {}
      },
      "source": [
        "tmp = np.uint8([0])\n",
        "print(tmp-1)"
      ],
      "execution_count": 0,
      "outputs": []
    },
    {
      "cell_type": "markdown",
      "metadata": {
        "id": "F09ZOaPFhSl3",
        "colab_type": "text"
      },
      "source": [
        "つまり、事前の型変換が必須です。符号付き(+と-がある)型に変換しても良いですが、今後はやや複雑な計算が続きます。  \n",
        "ここはいよいよ実数型を使うときでしょう。 実数型は小数点以下を表現することができ、"
      ]
    },
    {
      "cell_type": "code",
      "metadata": {
        "id": "K96iNpYyfZnT",
        "colab_type": "code",
        "colab": {}
      },
      "source": [
        "pantie = np.array(Image.open(dreamdir + panties[100])).astype(np.float32)\n",
        "print(pantie)"
      ],
      "execution_count": 0,
      "outputs": []
    },
    {
      "cell_type": "markdown",
      "metadata": {
        "id": "RlDnUKNaiAKP",
        "colab_type": "text"
      },
      "source": [
        "uint16にしたときと同様に、astypeでfloatという型に変換することで可能です。  \n",
        "32ビットの実数型は他の多くの言語でもfloatという名前ですが、numpyにおいてはnp.float32とします。  \n",
        "64ビット版のより高精度な実数型はdoubleと呼びます。np.float64、もしくはnp.doubleで指定できます。  \n",
        "doubleでも良いのですが、画像処理で64ビットもの精度を要求する処理はほとんどないので、float32がおすすめです。  \n",
        "\n",
        "さて、これでようやくマイナスの値が計算できますが、実数型となるとわざわざ0～255の値域ではなく、  \n",
        "0～1の範囲に収めると、数値がそのまま輝度の割合を示すため人間的にも、実は計算機的にもエコです。"
      ]
    },
    {
      "cell_type": "code",
      "metadata": {
        "id": "PNEE2IljkrzP",
        "colab_type": "code",
        "colab": {}
      },
      "source": [
        "pantie = np.array(Image.open(dreamdir + panties[100])).astype(np.float32)/255\n",
        "print(pantie)"
      ],
      "execution_count": 0,
      "outputs": []
    },
    {
      "cell_type": "markdown",
      "metadata": {
        "id": "nEtuS9SBmKnE",
        "colab_type": "text"
      },
      "source": [
        "完璧ですね！ ちなみにImage.openとnp.arrayは、skimageのioモジュールのimreadにて同様の処理が書けます。"
      ]
    },
    {
      "cell_type": "code",
      "metadata": {
        "id": "SMAVLDB7dg4M",
        "colab_type": "code",
        "colab": {}
      },
      "source": [
        "pantie = io.imread(dreamdir + panties[100]).astype(np.float32)/255\n",
        "print(pantie)"
      ],
      "execution_count": 0,
      "outputs": []
    },
    {
      "cell_type": "markdown",
      "metadata": {
        "id": "g7b86G70d806",
        "colab_type": "text"
      },
      "source": [
        "では比較用のpantie_compにも同様の処理をして比較しましょう。"
      ]
    },
    {
      "cell_type": "code",
      "metadata": {
        "id": "OK66cjufmiXT",
        "colab_type": "code",
        "colab": {}
      },
      "source": [
        "pantie = io.imread(dreamdir + panties[100]).astype(np.float32)/255\n",
        "pantie_comp = io.imread(dreamdir + panties[101]).astype(np.float32)/255\n",
        "print(pantie-pantie_comp)"
      ],
      "execution_count": 0,
      "outputs": []
    },
    {
      "cell_type": "markdown",
      "metadata": {
        "id": "dOWNQISEmpX-",
        "colab_type": "text"
      },
      "source": [
        "さて、類似度を計算するためにはやはり単一の数値であることが望ましいと思います。  \n",
        "ここはぱんつ差の総和を計算してみましょう。 numpyではnp.sumという総和用の関数があります。"
      ]
    },
    {
      "cell_type": "code",
      "metadata": {
        "id": "POQ-k4kbnAB1",
        "colab_type": "code",
        "colab": {}
      },
      "source": [
        "print(np.sum(pantie-pantie_comp))"
      ],
      "execution_count": 0,
      "outputs": []
    },
    {
      "cell_type": "markdown",
      "metadata": {
        "id": "9LICsuD7ncXo",
        "colab_type": "text"
      },
      "source": [
        "良さそうですね！ しかし、実はこれ問題があります。  \n",
        "現在は単純な数値差を計算したので、pantieのあるピクセルがpantie_compのものより暗いときはマイナスが、明るいときはプラスの値となります。  \n",
        "つまり、pantieがpantie_compよりも全体的に暗いときもマイナス、明るければプラスになります。  \n",
        "\n",
        "これでは類似度を考えたときに、『0からどれだけ遠いか？』というちょっと判定の難しそうな問題になります。  \n",
        "スコアは『どれだけ似ているか』を評価したいので、ここはどちらかの符号に統一したほうが良いでしょう。  \n",
        "そのために、一般的に2つの方法が考えられます。\n",
        "\n",
        "1. 差の絶対値を計算する $|-10|=10$\n",
        "1. 差の2乗値を計算する  $-10^2=100$\n",
        "\n",
        "いずれもプラス側に寄せる処理で、単純な比較ならどちらでも構いません。  "
      ]
    },
    {
      "cell_type": "code",
      "metadata": {
        "id": "gx6QhEBurkI4",
        "colab_type": "code",
        "colab": {}
      },
      "source": [
        "print(np.sum(np.abs(pantie-pantie_comp)))\n",
        "print(np.sum((pantie-pantie_comp)**2))"
      ],
      "execution_count": 0,
      "outputs": []
    },
    {
      "cell_type": "markdown",
      "metadata": {
        "id": "zk0qVJ0ZtT9u",
        "colab_type": "text"
      },
      "source": [
        "絶対値はnp.abs関数で、2乗は**2と乗算記号を2回書くことで指定できます。  \n",
        "ちなみに私は2乗の計算のほうが早いので好きです。"
      ]
    },
    {
      "cell_type": "code",
      "metadata": {
        "id": "Sfb0xszFq2PF",
        "colab_type": "code",
        "colab": {}
      },
      "source": [
        "%timeit np.abs(original-pantie_comp)\n",
        "%timeit (original-pantie_comp)**2"
      ],
      "execution_count": 0,
      "outputs": []
    },
    {
      "cell_type": "markdown",
      "metadata": {
        "id": "Ei_OykbmuaRW",
        "colab_type": "text"
      },
      "source": [
        "では、あるぱんつを指定し、全体のぱんつとの差をスコア化してみましょう。  \n",
        "ファイル一覧はすでにpantiesで取得できており、スコアはリストにどんどん追加していくと良さそうです。  \n",
        "えっ自分で書いてみたい？ 良い心がけです！ではどうぞ！"
      ]
    },
    {
      "cell_type": "code",
      "metadata": {
        "id": "cJM5uDjqut6o",
        "colab_type": "code",
        "colab": {}
      },
      "source": [
        "original = io.imread(dreamdir + panties[100]).astype(np.float32)/255\n",
        "scores = []  # 空のリストを定義\n",
        "for pantie in panties:\n",
        "  # Let's try!\n",
        "print(scores)"
      ],
      "execution_count": 0,
      "outputs": []
    },
    {
      "cell_type": "markdown",
      "metadata": {
        "id": "38L2_CBDvESN",
        "colab_type": "text"
      },
      "source": [
        "### 解答例"
      ]
    },
    {
      "cell_type": "markdown",
      "metadata": {
        "id": "AIDHFSIhvk8p",
        "colab_type": "text"
      },
      "source": [
        "以下のようにスコア一覧が表示できれば完璧です！  \n",
        "絶対値か2乗値かはお好きにどうぞです～"
      ]
    },
    {
      "cell_type": "code",
      "metadata": {
        "id": "wQ7WTxJnndCK",
        "colab_type": "code",
        "colab": {}
      },
      "source": [
        "original = io.imread(dreamdir + panties[100]).astype(np.float32)/255\n",
        "scores = []\n",
        "for pantie in panties:\n",
        "  comp = io.imread(dreamdir + pantie).astype(np.float32)/255\n",
        "  scores.append(np.sum((original-comp)**2))\n",
        "print(scores)"
      ],
      "execution_count": 0,
      "outputs": []
    },
    {
      "cell_type": "markdown",
      "metadata": {
        "id": "CSuTpILMkKWh",
        "colab_type": "text"
      },
      "source": [
        "### コラム: 実数(浮動小数点)型の限界"
      ]
    },
    {
      "cell_type": "markdown",
      "metadata": {
        "id": "2IyyjyxD0Esm",
        "colab_type": "text"
      },
      "source": [
        "実数型は32とか64ビットもあるので、表現できる数値範囲はかなり広いですが、やはり型による制約はあります。  \n",
        "この入門書ではあえてこの実数を扱うデータを実数型と言っていますが、より正確には浮動小数点型と呼ばれるものです。  \n",
        "float(浮く)という名前も浮動小数点型であることを示しています。  \n",
        "浮動小数点型の詳細については古来より多く語られているので、[簡単な説明](https://wa3.i-3-i.info/word14959.html)や[こちら](https://qiita.com/Yachida/items/ed7df72063e52cc34887)を見たほうが良いです。\n",
        "\n",
        "ここでは浮動小数点型を扱うにあたって実用上注意すべきことをまとめます。  \n",
        "次のサンプルは1と1000に小数点以下n桁目に1を足して、1もしくは1000と等しいかをチェックするものです。"
      ]
    },
    {
      "cell_type": "code",
      "metadata": {
        "id": "tOVRMaByiymI",
        "colab_type": "code",
        "colab": {}
      },
      "source": [
        "tmp = np.float32([1])\n",
        "for i in range(1,10):\n",
        "  sumf = tmp+1/(10**i)\n",
        "  print(f'理想は:{1+1/(10**i):.10f} Float32は:{sumf[0]:.10f}で{1.}と同じ？{sumf==1}')\n",
        "print()\n",
        "tmp = np.float32([1000])\n",
        "for i in range(1,10):\n",
        "  sumf = tmp+1/(10**i)\n",
        "  print(f'理想は:{1000+1/(10**i):.10f} Float32は:{sumf[0]:.10f}で{1000.}と同じ？{sumf==1000}')"
      ],
      "execution_count": 0,
      "outputs": []
    },
    {
      "cell_type": "markdown",
      "metadata": {
        "id": "Rp7GmI5r0yds",
        "colab_type": "text"
      },
      "source": [
        "なんだか不思議な結果になっていませんか？  \n",
        "小数点以下は結構ラフな値が保存されています。  \n",
        "\n",
        "比較の結果から、1の場合は小数点以下8桁目の1が失われ、1000の場合は小数点以下5桁目の1が失われています。  \n",
        "これは**アンダーフロー**と呼ばれる現象で、実数型で小さすぎる数は保存できない場合があります。  \n",
        "\n",
        "数値の桁数に着目してほしいのですが、1の場合も1000の場合も最大8桁分までしか保存できていません。  \n",
        "これがfloat32の限界です。 では64ビットの場合は…"
      ]
    },
    {
      "cell_type": "code",
      "metadata": {
        "id": "06jwDRPV19Pb",
        "colab_type": "code",
        "colab": {}
      },
      "source": [
        "from decimal import *  # 理想値を計算するための特殊な数値型を扱うモジュール\n",
        "\n",
        "tmp = np.float64([1])\n",
        "for i in range(1,20):\n",
        "  sumf = tmp+1/(10**i)\n",
        "  ideal = 1+(1/Decimal(10**i))\n",
        "  print(f'理想は:{ideal:.20f} Float64は:{sumf[0]:.20f}で{1.}と同じ？{sumf==1}')\n",
        "print()\n",
        "tmp = np.float64([1000])\n",
        "for i in range(1,20):\n",
        "  sumf = tmp+1/(10**i)\n",
        "  ideal = 1000+(1/Decimal(10**i))\n",
        "  print(f'理想は:{ideal:.20f} Float64は:{sumf[0]:.20f}で{1000.}と同じ？{sumf==1000}')"
      ],
      "execution_count": 0,
      "outputs": []
    },
    {
      "cell_type": "markdown",
      "metadata": {
        "id": "vBEYEy6E6vf1",
        "colab_type": "text"
      },
      "source": [
        "このように最大16桁分です。ちょうど2倍ですね。 しかし1000の場合は15桁です。  \n",
        "一般的に32ビット浮動小数点型の有効桁(実用に耐えうる桁数)が7桁、64ビットで15桁と言われる理由は以上の結果からです。  \n",
        "\n",
        "さて、上の微妙な小数点以下の表現からも分かる通り、実数を==やisで比較することはほぼバグとなります。  \n",
        "たとえば、"
      ]
    },
    {
      "cell_type": "code",
      "metadata": {
        "id": "TUcddRzJHjv1",
        "colab_type": "code",
        "colab": {}
      },
      "source": [
        "tmp32 = np.float32([1.01])\n",
        "tmp64 = np.float64([1.01])\n",
        "print(tmp32 == tmp64)\n",
        "\n",
        "tmp32 = np.float32([1.25])\n",
        "tmp64 = np.float64([1.25])\n",
        "print(tmp32 == tmp64)"
      ],
      "execution_count": 0,
      "outputs": []
    },
    {
      "cell_type": "markdown",
      "metadata": {
        "id": "YLy5ACyXIIGg",
        "colab_type": "text"
      },
      "source": [
        "32と64ビットでは、0.01の表現(精度)が異なるため、イコールではありません。  \n",
        "ところが、0.25は32と64ビットに関わらず誤差なく表現できます。よってこの場合はイコールで判定できます。  \n",
        "実用上、偶然にも誤差のない計算結果になることは、まずありえません。\n",
        "\n",
        "**悪いことは言わないから、実数に使う比較演算子は >, >=, <, <= のどれかにするんだ。**  \n",
        "**大事なことだから2回書くよ。実数に使う比較演算子は >, >=, <, <= のどれかするんだ。**"
      ]
    },
    {
      "cell_type": "markdown",
      "metadata": {
        "id": "wAH52_0fA8uK",
        "colab_type": "text"
      },
      "source": [
        "## 最も似ているものを探す"
      ]
    },
    {
      "cell_type": "code",
      "metadata": {
        "id": "D1qdclu5o97u",
        "colab_type": "code",
        "colab": {}
      },
      "source": [
        "!git clone https://github.com/TenteEEEE/quiche_pantie_patch.git\n",
        "\n",
        "# 本章の実行に必要なプログラム\n",
        "from PIL import Image, ImageOps\n",
        "import numpy as np\n",
        "import os\n",
        "dreamdir = './quiche_pantie_patch/dream/'\n",
        "\n",
        "panties = sorted(os.listdir(dreamdir))\n",
        "original = io.imread(dreamdir + panties[200-1]).astype(np.float32)/255\n",
        "scores = []\n",
        "for pantie in panties:\n",
        "  comp = io.imread(dreamdir + pantie).astype(np.float32)/255\n",
        "  scores.append(np.sum((original-comp)**2))"
      ],
      "execution_count": 0,
      "outputs": []
    },
    {
      "cell_type": "markdown",
      "metadata": {
        "id": "4qds_IzNpQSX",
        "colab_type": "text"
      },
      "source": [
        "さて、前章で類似度を計算し終えました。 あとはその中でもっとも小さいものが最も似ているものになります。  \n",
        "最も小さい数値はnp.min、最も小さい数値のある位置はnp.argminで計算できます。"
      ]
    },
    {
      "cell_type": "code",
      "metadata": {
        "id": "90KE0Qkzo4M3",
        "colab_type": "code",
        "colab": {}
      },
      "source": [
        "print(np.min(scores))\n",
        "print(np.argmin(scores))"
      ],
      "execution_count": 0,
      "outputs": []
    },
    {
      "cell_type": "markdown",
      "metadata": {
        "id": "8D5-LfyirnQ-",
        "colab_type": "text"
      },
      "source": [
        "最小値の0とはつまり完全に同じということです。 argminによる位置もoriginalと同じ位置を示しています。  \n",
        "ということは、我々の関心のある部分はさらに次の最小値ということになります。  \n",
        "scoresから0を削除して最小値を計算してもいいですが、ここは昇順に並び替えるソートをするのが正攻法です。  \n",
        "ソートはnp.sort、またソートされた位置はnp.argsortで得られます。"
      ]
    },
    {
      "cell_type": "code",
      "metadata": {
        "id": "FvvMYgRhsBww",
        "colab_type": "code",
        "colab": {}
      },
      "source": [
        "print(np.sort(scores))\n",
        "print(np.argsort(scores))\n",
        "rank = np.argsort(scores)"
      ],
      "execution_count": 0,
      "outputs": []
    },
    {
      "cell_type": "markdown",
      "metadata": {
        "id": "8_XN80oXtj31",
        "colab_type": "text"
      },
      "source": [
        "sortによって昇順に並びました。 argsortの結果(rank)を見れば、ぱんつ番号がわかります。  \n",
        "ファイル名はpantiesにその値を入れることで、取り出すことができます。"
      ]
    },
    {
      "cell_type": "code",
      "metadata": {
        "id": "gcpj2SoF6Ao7",
        "colab_type": "code",
        "colab": {}
      },
      "source": [
        "print(panties[rank[0]])"
      ],
      "execution_count": 0,
      "outputs": []
    },
    {
      "cell_type": "markdown",
      "metadata": {
        "id": "nHZjk3j06FlW",
        "colab_type": "text"
      },
      "source": [
        "ここまで分かれば表示も簡単！"
      ]
    },
    {
      "cell_type": "code",
      "metadata": {
        "id": "z9DczlbQu4Qb",
        "colab_type": "code",
        "colab": {}
      },
      "source": [
        "Image.open(dreamdir+panties[rank[0]])  # 完全一致つまり同じものを表示"
      ],
      "execution_count": 0,
      "outputs": []
    },
    {
      "cell_type": "code",
      "metadata": {
        "id": "HZm5ZDU9vZW_",
        "colab_type": "code",
        "colab": {}
      },
      "source": [
        "Image.open(dreamdir+panties[rank[1]])  # 最も似ているものを表示"
      ],
      "execution_count": 0,
      "outputs": []
    },
    {
      "cell_type": "code",
      "metadata": {
        "id": "90AZezW5vl1P",
        "colab_type": "code",
        "colab": {}
      },
      "source": [
        "Image.open(dreamdir+panties[rank[2]])  # その次を表示"
      ],
      "execution_count": 0,
      "outputs": []
    },
    {
      "cell_type": "markdown",
      "metadata": {
        "id": "30fWqwQgw7dZ",
        "colab_type": "text"
      },
      "source": [
        "逆にrankの最後は最も似ていないものになるはずです。"
      ]
    },
    {
      "cell_type": "code",
      "metadata": {
        "id": "zGlyRtstw_VO",
        "colab_type": "code",
        "colab": {}
      },
      "source": [
        "Image.open(dreamdir+panties[rank[-1]])  # 最も似ていないものを表示"
      ],
      "execution_count": 0,
      "outputs": []
    },
    {
      "cell_type": "markdown",
      "metadata": {
        "id": "80PV-SwFxDEu",
        "colab_type": "text"
      },
      "source": [
        "たしかにそんな感じがしますね？"
      ]
    },
    {
      "cell_type": "markdown",
      "metadata": {
        "id": "VdajgS36yHBG",
        "colab_type": "text"
      },
      "source": [
        "### コラム: 安定ソートと非安定ソート"
      ]
    },
    {
      "cell_type": "markdown",
      "metadata": {
        "id": "eKdrL8CLz2Na",
        "colab_type": "text"
      },
      "source": [
        "numpyのソートには主にクイックソートというCPU上では最速のアルゴリズムと、  \n",
        "マージソートというちょっとゆっくりソートするアルゴリズムがあります。  \n",
        "もちろん早いに越したことはないはずのソートですが、なぜ2つもあるのか？  \n",
        "コラムタイトルの伏線を回収していきましょう。  \n",
        "\n",
        "類似度のような実数値をソートする場合はほとんど問題になりませんが、これが整数値だと怪しくなります。  \n",
        "次のサンプルは0,1,2の整数をランダムに20個生成し、ソートするアルゴリズムを指定したものです。"
      ]
    },
    {
      "cell_type": "code",
      "metadata": {
        "id": "XZgHsk_Yz2vb",
        "colab_type": "code",
        "colab": {}
      },
      "source": [
        "import numpy as np\n",
        "np.random.seed(1)\n",
        "data = np.random.randint(0,3,20)  # 0,1,2の範囲のランダムな整数を20個生成\n",
        "quick = np.sort(data, kind='quicksort')\n",
        "merge = np.sort(data, kind='mergesort')\n",
        "argquick = np.argsort(data, kind='quicksort')\n",
        "argmerge = np.argsort(data, kind='mergesort')\n",
        "print(f'ソート前:       {data}')\n",
        "print(f'クイックソート: {quick}')\n",
        "print(f'マージソート:   {merge}')\n",
        "print(f'クイックソートの位置配列: {argquick}')\n",
        "print(f'マージソートの位置配列:   {argmerge}')"
      ],
      "execution_count": 0,
      "outputs": []
    },
    {
      "cell_type": "markdown",
      "metadata": {
        "id": "Ye3QYbbIfsW4",
        "colab_type": "text"
      },
      "source": [
        "ソートされた配列の値はクイックソートとマージソート間で同じですが、位置配列は違うのではないでしょうか？  \n",
        "よく見ると、同じ数値における位置がクイックソートではバラバラに、マージソートでは昇順に並んでいると思います。  \n",
        "前者は非安定ソート、後者は安定ソートと呼ばれるもので、安定ソートはソート前の位置関係が、ソート後も維持されることを保証します。  \n",
        "位置関係の維持が特徴なので、実質**argsortでしかマージソートを指定するメリットはありません**。\n",
        "\n",
        "安定ソートはよくソート済みの位置配列を用いて、他の配列を参照したいときに重宝されます。  \n",
        "特に画像では行や列の位置関係は非常に重要な意味を持ちます。  \n",
        "例えば画像の偶数列を左側、奇数列を右側にソートする場合、"
      ]
    },
    {
      "cell_type": "code",
      "metadata": {
        "id": "oark2BSWqrbG",
        "colab_type": "code",
        "colab": {}
      },
      "source": [
        "import skimage.io as io\n",
        "import matplotlib.pyplot as plt\n",
        "pantie = np.array(Image.open(dreamdir + panties[200-1]))[:,:,:3]\n",
        "\n",
        "# 画像ソート用の位置配列の作成\n",
        "positions = [i%2 for i in range(pantie.shape[1])] # 0,1,0,1,0... と続く配列を定義\n",
        "positions_quick = np.argsort(positions, kind='quicksort')\n",
        "positions_merge = np.argsort(positions, kind='mergesort')\n",
        "\n",
        "# 位置配列を用いて画像の列をソート\n",
        "pantie_quick = pantie[:,positions_quick]\n",
        "pantie_merge = pantie[:,positions_merge]\n",
        "\n",
        "# 表示\n",
        "print('クイックソートの場合')\n",
        "io.imshow(pantie_quick)\n",
        "plt.show()\n",
        "print('マージソートの場合')\n",
        "io.imshow(pantie_merge)\n",
        "plt.show()"
      ],
      "execution_count": 0,
      "outputs": []
    },
    {
      "cell_type": "code",
      "metadata": {
        "id": "5bvEv08OzGjU",
        "colab_type": "code",
        "colab": {}
      },
      "source": [
        "print('位置配列の比較')\n",
        "plt.figure(figsize=(12, 8))\n",
        "plt.plot(positions_quick, linewidth = 2.0, label='Quick')\n",
        "plt.plot(positions_merge, linewidth = 2.0, label='Merge')\n",
        "plt.legend(fontsize=18)"
      ],
      "execution_count": 0,
      "outputs": []
    },
    {
      "cell_type": "markdown",
      "metadata": {
        "id": "p7VrMYstuBWF",
        "colab_type": "text"
      },
      "source": [
        "このように、前後の位置関係が失われるクイックソートではうまくいきません。  \n",
        "画像に限らず、時系列データ(たとえば株価や気温の変化)でも注意する必要があります。  \n",
        "ちなみに実行時間の比較ですが、だいたいクイックソートが早いです。"
      ]
    },
    {
      "cell_type": "code",
      "metadata": {
        "id": "BXIZc7raemPP",
        "colab_type": "code",
        "colab": {}
      },
      "source": [
        "print('ランダムな配列をソート')\n",
        "data = np.random.randint(0,100,100000)\n",
        "%timeit np.sort(data, kind='quicksort')\n",
        "%timeit np.sort(data, kind='mergesort')\n",
        "\n",
        "print('\\nソート済み配列を再ソート')\n",
        "data = np.arange(0,100000)\n",
        "%timeit np.sort(data, kind='quicksort')\n",
        "%timeit np.sort(data, kind='mergesort')"
      ],
      "execution_count": 0,
      "outputs": []
    },
    {
      "cell_type": "markdown",
      "metadata": {
        "id": "X8W-XoaDwMI4",
        "colab_type": "text"
      },
      "source": [
        "意図的にクイックソートに不利な配列を作ると"
      ]
    },
    {
      "cell_type": "code",
      "metadata": {
        "id": "npiWRHjMoibY",
        "colab_type": "code",
        "colab": {}
      },
      "source": [
        "data = np.arange(0,50000)\n",
        "data = np.concatenate((data,data))  # 同じ分布の配列を左右に結合する\n",
        "print('データのプロット')\n",
        "plt.plot(data)\n",
        "plt.show()\n",
        "%timeit np.sort(data, kind='quicksort')\n",
        "%timeit np.sort(data, kind='mergesort')"
      ],
      "execution_count": 0,
      "outputs": []
    },
    {
      "cell_type": "markdown",
      "metadata": {
        "id": "4LYdShgFwPuF",
        "colab_type": "text"
      },
      "source": [
        "このようにマージソートが早い場合もあります。  \n",
        "こんなことにはめったにならないので、クイックソートでほぼ問題はありません。  \n",
        "ソート済みの配列をソートするってあほなの？って思うかもしれませんが、『ほぼ』ソート済みの配列をソートする機会は多いです。  \n",
        "たとえば類似度とその順位を計算した後に、新しいぱんつが増えた場合がその例です。  \n",
        "この場合は類似度のデータを一つ増やし、ほぼソート済み配列の再ソートが必要となります。  \n",
        "　  \n",
        "このほぼソート済み配列に対する改善策がnumpy1.17以降で実装されたので紹介しておきます。  \n",
        "執筆時点(2019/09/17)でColabのnumpyはバージョン1.17以上ではないので、以下のコマンドでアップデートできます。"
      ]
    },
    {
      "cell_type": "code",
      "metadata": {
        "id": "FrSc_0A-kLIM",
        "colab_type": "code",
        "colab": {}
      },
      "source": [
        "!pip install -U numpy"
      ],
      "execution_count": 0,
      "outputs": []
    },
    {
      "cell_type": "markdown",
      "metadata": {
        "id": "ABBhcAPela2B",
        "colab_type": "text"
      },
      "source": [
        "アップデートが終われば上にあるRESTART RUNTIMEボタンを押してください。  \n",
        "もしボタンが表示されていないなら、もう1.17以上かもです。"
      ]
    },
    {
      "cell_type": "code",
      "metadata": {
        "id": "9PYMRIE-kHLN",
        "colab_type": "code",
        "colab": {}
      },
      "source": [
        "import numpy as np\n",
        "print('ランダムな配列をソート')\n",
        "data = np.random.randint(0,100,100000)\n",
        "%timeit np.sort(data, kind='quicksort')\n",
        "%timeit np.sort(data, kind='mergesort')\n",
        "\n",
        "print('\\nソート済み配列を再ソート')\n",
        "data = np.arange(0,10000)\n",
        "%timeit np.sort(data, kind='quicksort')\n",
        "%timeit np.sort(data, kind='mergesort')"
      ],
      "execution_count": 0,
      "outputs": []
    },
    {
      "cell_type": "markdown",
      "metadata": {
        "id": "y3e77ZS6lu1I",
        "colab_type": "text"
      },
      "source": [
        "numpy1.17以降ではソート済み配列に対するアルゴリズムがtimsortというものになり、より高速なソートが行われます。  \n",
        "たすかる！"
      ]
    },
    {
      "cell_type": "markdown",
      "metadata": {
        "id": "iCuBVAN0QauV",
        "colab_type": "text"
      },
      "source": [
        "## 画像の自由変形"
      ]
    },
    {
      "cell_type": "code",
      "metadata": {
        "id": "Exl1Ol54dQZL",
        "colab_type": "code",
        "colab": {}
      },
      "source": [
        "!git clone https://github.com/TenteEEEE/quiche_pantie_patch.git\n",
        "\n",
        "# 本章の実行に必要なプログラム\n",
        "from PIL import Image, ImageOps\n",
        "from skimage import io\n",
        "import numpy as np\n",
        "import os\n",
        "dreamdir = './quiche_pantie_patch/dream/'\n",
        "panties = sorted(os.listdir(dreamdir))"
      ],
      "execution_count": 0,
      "outputs": []
    },
    {
      "cell_type": "markdown",
      "metadata": {
        "id": "loywnLwNQv8d",
        "colab_type": "text"
      },
      "source": [
        "ようやくたどり着きましたね！  \n",
        "ここからがいよいよパンツパッチにおけるコア部分の実装です。  \n",
        "画像の一部を歪めたり、伸ばしたり、という作業がぱんつ変換には必要です。  \n",
        "これはScikit-imageの区分的アフィン変換(Piecewise Affine Transform)という方法を使っています。  \n",
        "[このブログ](https://sabopy.com/py/scikit-image-28/)でよく解説されていますが、一通りこちらでもやってみます。  \n",
        "区分的アフィン変換をするための関数は、scikit-imageのtransformというモジュールにあるので読み込みます。"
      ]
    },
    {
      "cell_type": "code",
      "metadata": {
        "id": "PJAliZH5fkjF",
        "colab_type": "code",
        "colab": {}
      },
      "source": [
        "import skimage.transform as skt  # よくsktとして扱う"
      ],
      "execution_count": 0,
      "outputs": []
    },
    {
      "cell_type": "markdown",
      "metadata": {
        "id": "HvYj6Qh4fnIF",
        "colab_type": "text"
      },
      "source": [
        "区分的アフィン変換はメッシュを変形するように、変換後の座標点を2次元で指定できる変形です。  \n",
        "とてもぱんつ変換にうってつけの変形方法です。  \n",
        "一見難しそうですが、重要なことはどのように変換後の座標点を作るかということだけです。  \n",
        "そのため、パンツパッチでは以下の自作関数があります。"
      ]
    },
    {
      "cell_type": "code",
      "metadata": {
        "id": "n1ZmuKb2UEV8",
        "colab_type": "code",
        "colab": {}
      },
      "source": [
        "def affine_transform_by_arr(img, arrx, arry, smoothx=False, smoothy=False, mvx=10, mvy=10):\n",
        "    # 変形前の座標点を生成\n",
        "    [r, c, d] = img.shape\n",
        "    src_cols = np.linspace(0, c, int(np.sqrt(len(arrx))))\n",
        "    src_rows = np.linspace(0, r, int(np.sqrt(len(arry))))\n",
        "    src_rows, src_cols = np.meshgrid(src_rows, src_cols)\n",
        "    src = np.dstack([src_cols.flat, src_rows.flat])[0]\n",
        "    # 必要ならば変形量配列に移動平均を適用する\n",
        "    if smoothx:\n",
        "        lx = len(arrx)\n",
        "        arrx = np.convolve(arrx, np.ones(mvx) / mvx, mode='valid')\n",
        "        arrx = skt.resize(arrx, (lx, 1), anti_aliasing=True, mode='reflect')[:, 0]\n",
        "    if smoothy:\n",
        "        ly = len(arry)\n",
        "        arry = np.convolve(arry, np.ones(mvy) / mvy, mode='valid')\n",
        "        arry = skt.resize(arry, (ly, 1), anti_aliasing=True, mode='reflect')[:, 0]\n",
        "    # 座標点に変形量を加える\n",
        "    dst_rows = src[:, 1] + arrx\n",
        "    dst_cols = src[:, 0] + arry\n",
        "    dst = np.vstack([dst_cols, dst_rows]).T\n",
        "    # 区分的アフィン変換を行う\n",
        "    affin = skt.PiecewiseAffineTransform()\n",
        "    affin.estimate(src, dst)\n",
        "    return skt.warp(img, affin)"
      ],
      "execution_count": 0,
      "outputs": []
    },
    {
      "cell_type": "markdown",
      "metadata": {
        "id": "GBBwiufRa2WL",
        "colab_type": "text"
      },
      "source": [
        "この関数は変換後の座標の変形量配列 arrxとarryを渡せば、自動で区分的アフィン変換を行う関数です。  \n",
        "PiecewiseAffineTransformの前処理は面倒な上に、それほどユニークな処理でもないので、あまり理解が必要な部分ではありません。    \n",
        "とにかく、この関数を使うことで私達は変形量の設計に集中できます。  \n",
        "まずはなんの変形もしない変換からしていきます。"
      ]
    },
    {
      "cell_type": "code",
      "metadata": {
        "id": "w3PsDgkuayAc",
        "colab_type": "code",
        "colab": {}
      },
      "source": [
        "pantie = io.imread(dreamdir + panties[200-1]).astype(np.float32)/255\n",
        "arrx = np.zeros(100)\n",
        "arry = np.zeros(100)\n",
        "tf_pantie = affine_transform_by_arr(pantie, arrx, arry)\n",
        "io.imshow(tf_pantie)"
      ],
      "execution_count": 0,
      "outputs": []
    },
    {
      "cell_type": "markdown",
      "metadata": {
        "id": "jywCmahcgkLk",
        "colab_type": "text"
      },
      "source": [
        "np.zerosは任意のサイズのnumpy行列を0で初期化する関数です。  \n",
        "つまり、arrxとarryは今はなんの変形もさせない配列です。  \n",
        "大きさは100ですがこれは平方数で、縦横それぞれ10個に分割して変形します。  \n",
        "(400とかにすればそれぞれ20分割もできますが、どんどん処理が重たくなります)\n",
        "\n",
        "では実際に行(y)と列(x)方向に変形量を加えてみましょう。"
      ]
    },
    {
      "cell_type": "code",
      "metadata": {
        "id": "VU-lTJj0b6ZK",
        "colab_type": "code",
        "colab": {}
      },
      "source": [
        "arrx = np.linspace(0,-100,100)\n",
        "arry = np.zeros(100)\n",
        "tf_pantie = affine_transform_by_arr(pantie, arrx, arry)\n",
        "io.imshow(tf_pantie)"
      ],
      "execution_count": 0,
      "outputs": []
    },
    {
      "cell_type": "markdown",
      "metadata": {
        "id": "Ae9493uFoluZ",
        "colab_type": "text"
      },
      "source": [
        "np.linspaceは指定区間を指定サイズで線形補間するnumpy行列をつくる関数です。  \n",
        "np.linspace(開始,終了,分割数)という形式で指定します。  \n",
        "今回は0～-100まで変化させました。すると、ぱんつも右肩下がりになったと思います。  \n",
        "この下がり具合はarrxの値とその位置によって決まります。 ここはarrxを一旦可視化してみましょう。  \n",
        "配列を可視化するのには、matplotlibのpyplotというモジュールのplot関数を使うと簡単です。"
      ]
    },
    {
      "cell_type": "code",
      "metadata": {
        "id": "yvZbrXldpJZY",
        "colab_type": "code",
        "colab": {}
      },
      "source": [
        "import matplotlib.pyplot as plt\n",
        "plt.plot(arrx)"
      ],
      "execution_count": 0,
      "outputs": []
    },
    {
      "cell_type": "markdown",
      "metadata": {
        "id": "JHkHg37KppHd",
        "colab_type": "text"
      },
      "source": [
        "このように、arrxの形に従って、ぱんつも列方向(上下)に変形されます。  \n",
        "ではarryは行方向(左右)の変形に対応するはずです。"
      ]
    },
    {
      "cell_type": "code",
      "metadata": {
        "id": "6Ny4rKDXkSwb",
        "colab_type": "code",
        "colab": {}
      },
      "source": [
        "arrx = np.zeros(100)\n",
        "arry = np.linspace(0,100,100)\n",
        "tf_pantie = affine_transform_by_arr(pantie, arrx, arry)\n",
        "io.imshow(tf_pantie)"
      ],
      "execution_count": 0,
      "outputs": []
    },
    {
      "cell_type": "markdown",
      "metadata": {
        "id": "cvcyWUN4p96k",
        "colab_type": "text"
      },
      "source": [
        "行方向(左右)に動かすと、ぱんつを部分的に伸ばしたり縮めたりできます。  \n",
        "ここまで分かればあとはどのようにarrxとarryをデザインするかという問題になります。  \n",
        "一般的にぱんつ変換はなだらかな変化が多いので、よくサイン波が使われています。  \n",
        "おめでとうございます、これで高校数学は無駄になりません！"
      ]
    },
    {
      "cell_type": "code",
      "metadata": {
        "id": "I6HK3mmqqg3C",
        "colab_type": "code",
        "colab": {}
      },
      "source": [
        "theta = np.linspace(0, np.pi*2, 100) # 0～2πを100分割\n",
        "plt.plot(np.sin(theta))              # sin(θ)をプロット"
      ],
      "execution_count": 0,
      "outputs": []
    },
    {
      "cell_type": "markdown",
      "metadata": {
        "id": "jIeskzYzrF3J",
        "colab_type": "text"
      },
      "source": [
        "おなじみの？sin波ですね。 円周率は無限に続くものですが、np.piという定数としてnumpyで定義されているので活用しましょう。  \n",
        "恐れることはありません！ これをarrxに足せば、このサイン波の形状に変形できます。"
      ]
    },
    {
      "cell_type": "code",
      "metadata": {
        "id": "yARsBRTEsHcx",
        "colab_type": "code",
        "colab": {}
      },
      "source": [
        "arrx = np.sin(np.linspace(0, np.pi*2, 100))*30-50  # 30*sin(θ)-50 30倍に増幅して中心を50ピクセル下げる\n",
        "arry = np.zeros(100)\n",
        "tf_pantie = affine_transform_by_arr(pantie, arrx, arry)\n",
        "io.imshow(tf_pantie)"
      ],
      "execution_count": 0,
      "outputs": []
    },
    {
      "cell_type": "markdown",
      "metadata": {
        "id": "LhNfRYPIsmzy",
        "colab_type": "text"
      },
      "source": [
        "うねうねしてきましたね！ 実際これはパンツパッチの全てです。  \n",
        "あとはこの値を地道に調整していく作業が終われば、変換パッチの作成完了です。  \n",
        "以下は[VRoid](https://vroid.com/)素体用のアフィン変換例です。"
      ]
    },
    {
      "cell_type": "code",
      "metadata": {
        "id": "BeCzvOl5uhyR",
        "colab_type": "code",
        "colab": {}
      },
      "source": [
        "pantie = io.imread(dreamdir + panties[200-1])\n",
        "pantie = np.pad(pantie, [(100, 0), (10, 0), (0, 0)], mode='constant') # パディング\n",
        "\n",
        "# arrxの作成\n",
        "arrx = np.zeros(100)\n",
        "arrx[10:50] = (np.sin(np.linspace(0, 1 * np.pi, 100))[20:60] * 30)\n",
        "arrx[50:] = -(np.sin(np.linspace(0, 1 * np.pi, 100))[50:] * 15)\n",
        "arrx[40:60] += (np.sin(np.linspace(0, 1 * np.pi, 100))[40:60] * 15)\n",
        "arrx[00:10] -= (np.sin(np.linspace(0, 1 * np.pi, 100))[50:60] * 35)\n",
        "\n",
        "# arryの作成\n",
        "arry = (np.sin(np.linspace(0, 0.5 * np.pi, 100)) * 70)\n",
        "arry[10:30] -= (np.sin(np.linspace(0, 1 * np.pi, 100)) * 20)[50:70]\n",
        "\n",
        "tf_pantie = affine_transform_by_arr(pantie, arrx, arry, smoothx=True, mvx=30)\n",
        "io.imshow(tf_pantie[60:430, 16:-80])"
      ],
      "execution_count": 0,
      "outputs": []
    },
    {
      "cell_type": "code",
      "metadata": {
        "id": "7EjkJpGCveI8",
        "colab_type": "code",
        "colab": {}
      },
      "source": [
        "print('列方向の変形量arrx')\n",
        "plt.plot(arrx)\n",
        "plt.show()\n",
        "print('行方向の変形量arry')\n",
        "plt.plot(arry)\n",
        "plt.show()"
      ],
      "execution_count": 0,
      "outputs": []
    },
    {
      "cell_type": "markdown",
      "metadata": {
        "id": "R80jbkIgvvcb",
        "colab_type": "text"
      },
      "source": [
        "一見複雑そうに見えるかもしれませんが、慣れればそれほど難しい作業ではありません。  \n",
        "はじめに画像のパディングを行っている点は注意が必要かもしれません。  \n",
        "パディングとは画像に余白を足すことです。変形したときにぱんつが途中で消えてしまうのを防ぎます。  \n",
        "np.pad関数で簡単にできます。\n"
      ]
    },
    {
      "cell_type": "code",
      "metadata": {
        "id": "1QvfZ5omy3A9",
        "colab_type": "code",
        "colab": {}
      },
      "source": [
        "pantie = io.imread(dreamdir + panties[200-1]).astype(np.float32)/255\n",
        "io.imshow(np.pad(pantie, [(100, 0), (10, 0), (0, 0)], mode='constant'))"
      ],
      "execution_count": 0,
      "outputs": []
    },
    {
      "cell_type": "markdown",
      "metadata": {
        "id": "d0U81V7Ky-IZ",
        "colab_type": "text"
      },
      "source": [
        "np.pad(変数名, [(1次元目のパディング大きさ),(2次元目),(3次元目)], mode=モード設定) という指定です。  \n",
        "1次元目は上下に余白を入れます。(100,0)はうえに100ピクセル、下に0ピクセルの余白を追加という意味です。  \n",
        "2次元目は左右です。同じく(左,右)という形で指定できます。  \n",
        "3次元目は色なので、必ず(0,0)です。 \n",
        "\n",
        "affine_transform_by_arr関数ではsmoothxとmvxが新たに指定されていますが、これはarrxに[移動平均](https://bellcurve.jp/statistics/course/12933.html)という処理を加えるオプションです。  \n",
        "mvxの値が大きいほど、スムーズになります。  \n",
        "smoothyはarryのオプションですが、横方向の伸縮に関して急激に変化する変形が少ないため、あまり使いません。  \n"
      ]
    },
    {
      "cell_type": "markdown",
      "metadata": {
        "id": "detsktbOpicG",
        "colab_type": "text"
      },
      "source": [
        "注意すべき点としては、アフィン変換後の数値です。  \n",
        "これは**入力する型がfloat32でなければ自動的に0～1の値域のfloat64形式に変換されます。**  \n",
        "後々PILの形式に戻す場合はuint8への変換が必要です。"
      ]
    },
    {
      "cell_type": "code",
      "metadata": {
        "id": "0gRDV_Df8V1L",
        "colab_type": "code",
        "colab": {}
      },
      "source": [
        "Image.fromarray((tf_pantie*255).astype(np.uint8))"
      ],
      "execution_count": 0,
      "outputs": []
    },
    {
      "cell_type": "markdown",
      "metadata": {
        "id": "vLiofi1b9lQA",
        "colab_type": "text"
      },
      "source": [
        "uint8にする前に、255を乗算することを忘れないでください。  \n",
        "uint8は実数を表現できないので、uint8に変換した後では全く異なる結果になります。"
      ]
    },
    {
      "cell_type": "code",
      "metadata": {
        "id": "KYlyboHG9zub",
        "colab_type": "code",
        "colab": {}
      },
      "source": [
        "Image.fromarray(tf_pantie.astype(np.uint8)*255)"
      ],
      "execution_count": 0,
      "outputs": []
    },
    {
      "cell_type": "markdown",
      "metadata": {
        "id": "ofSwp2v33ec4",
        "colab_type": "text"
      },
      "source": [
        "さて、VRoid素体は左右対称のぱんつです。  \n",
        "上の処理を左右対称化の処理も加えて関数化してみましょう。  \n",
        "関数名はvroid_converterで、引数はnumpy行列の画像とします。  \n",
        "関数の出力は何でも良いですが、画像が表示されるようにしましょう。  \n",
        "\n",
        "\n",
        "* ヒント: もちろん左右対称化はnumpyだけでもできます。[concatenate関数](https://docs.scipy.org/doc/numpy/reference/generated/numpy.concatenate.html)\n"
      ]
    },
    {
      "cell_type": "code",
      "metadata": {
        "id": "p_-toh_k3uZG",
        "colab_type": "code",
        "colab": {}
      },
      "source": [
        "def vroid_converter(pantie):\n",
        "  # Let's try！\n",
        "  return vroid_pantie\n",
        "\n",
        "panties = sorted(os.listdir(dreamdir))\n",
        "pantie = io.imread(dreamdir+panties[100])\n",
        "\n",
        "# numpy行列で返すならこれで可視化\n",
        "io.imshow(vroid_converter(pantie))\n",
        "\n",
        "# PILの画像形式を返すならこれで可視化\n",
        "vroid_converter(pantie)"
      ],
      "execution_count": 0,
      "outputs": []
    },
    {
      "cell_type": "markdown",
      "metadata": {
        "id": "fsIoQzRI6xf4",
        "colab_type": "text"
      },
      "source": [
        "### 解答例"
      ]
    },
    {
      "cell_type": "markdown",
      "metadata": {
        "id": "lrsn7STm7i74",
        "colab_type": "text"
      },
      "source": [
        "PILでキッシュちゃん素体用の処理を使い回すならこんな感じでしょうか。"
      ]
    },
    {
      "cell_type": "code",
      "metadata": {
        "id": "bU93t-4G52_2",
        "colab_type": "code",
        "colab": {}
      },
      "source": [
        "# PILで左右対称化\n",
        "def vroid_converter(pantie):\n",
        "  pantie = np.pad(pantie, [(100, 0), (10, 0), (0, 0)], mode='constant')\n",
        "  arrx = np.zeros(100)\n",
        "  arrx[10:50] = (np.sin(np.linspace(0, 1 * np.pi, 100))[20:60] * 30)\n",
        "  arrx[50:] = -(np.sin(np.linspace(0, 1 * np.pi, 100))[50:] * 15)\n",
        "  arrx[40:60] += (np.sin(np.linspace(0, 1 * np.pi, 100))[40:60] * 15)\n",
        "  arrx[00:10] -= (np.sin(np.linspace(0, 1 * np.pi, 100))[50:60] * 35)\n",
        "  arry = (np.sin(np.linspace(0, 0.5 * np.pi, 100)) * 70)\n",
        "  arry[10:30] -= (np.sin(np.linspace(0, 1 * np.pi, 100)) * 20)[50:70]\n",
        "  pantie = affine_transform_by_arr(pantie, arrx, arry, smoothx=True, mvx=30)\n",
        "\n",
        "  pantie = Image.fromarray((pantie[60:430, 16:-80]*255).astype(np.uint8)) # PILもuint8形式なので型変換が必須\n",
        "  vroid_pantie = Image.new('RGBA', (pantie.width*2, pantie.height))\n",
        "  vroid_pantie.paste(pantie, (pantie.width,0))\n",
        "  vroid_pantie.paste(ImageOps.mirror(pantie), (0,0))\n",
        "  return vroid_pantie\n",
        "\n",
        "panties = sorted(os.listdir(dreamdir))\n",
        "pantie = io.imread(dreamdir+panties[100])\n",
        "vroid_converter(pantie)"
      ],
      "execution_count": 0,
      "outputs": []
    },
    {
      "cell_type": "markdown",
      "metadata": {
        "id": "9Ea7RoMU7Xl3",
        "colab_type": "text"
      },
      "source": [
        "numpyではconcatenateと逆方向スライス(::-1)を活用すれば1行で書けます。"
      ]
    },
    {
      "cell_type": "code",
      "metadata": {
        "id": "hWn8iJJI3tos",
        "colab_type": "code",
        "colab": {}
      },
      "source": [
        "# numpyで左右対称化\n",
        "def vroid_converter(pantie):\n",
        "  pantie = np.pad(pantie, [(100, 0), (10, 0), (0, 0)], mode='constant')\n",
        "  arrx = np.zeros(100)\n",
        "  arrx[10:50] = (np.sin(np.linspace(0, 1 * np.pi, 100))[20:60] * 30)\n",
        "  arrx[50:] = -(np.sin(np.linspace(0, 1 * np.pi, 100))[50:] * 15)\n",
        "  arrx[40:60] += (np.sin(np.linspace(0, 1 * np.pi, 100))[40:60] * 15)\n",
        "  arrx[00:10] -= (np.sin(np.linspace(0, 1 * np.pi, 100))[50:60] * 35)\n",
        "  arry = (np.sin(np.linspace(0, 0.5 * np.pi, 100)) * 70)\n",
        "  arry[10:30] -= (np.sin(np.linspace(0, 1 * np.pi, 100)) * 20)[50:70]\n",
        "  pantie = affine_transform_by_arr(pantie, arrx, arry, smoothx=True, mvx=30)\n",
        "\n",
        "  pantie = pantie[60:430, 16:-80]\n",
        "  vroid_pantie = np.concatenate((pantie[:,::-1],pantie), axis=1) # pantie[:,::-1] 2次元目を逆読み:つまり左右反転\n",
        "  return (vroid_pantie*255).astype(np.uint8)  # 入力と合わせてuint8で返したほうがお行儀がよい\n",
        "\n",
        "panties = sorted(os.listdir(dreamdir))\n",
        "pantie = io.imread(dreamdir+panties[100])\n",
        "io.imshow(vroid_converter(pantie))"
      ],
      "execution_count": 0,
      "outputs": []
    },
    {
      "cell_type": "markdown",
      "metadata": {
        "id": "e8h85fbHlfLJ",
        "colab_type": "text"
      },
      "source": [
        "np.linspace(0, 1 * np.pi, 100) は一時変数に入れておくと、効率が少し良くなるでしょう。"
      ]
    },
    {
      "cell_type": "markdown",
      "metadata": {
        "id": "SD66r4Sv_9VO",
        "colab_type": "text"
      },
      "source": [
        "### コラム: 射影変換"
      ]
    },
    {
      "cell_type": "markdown",
      "metadata": {
        "id": "_ZeD_GYyACTb",
        "colab_type": "text"
      },
      "source": [
        "画像の変形には様々なものがありますが、射影変換も代表的な変形方法の1つです。  \n",
        "区分的アフィン変換は画像を細分化し、それぞれのブロックにアフィン変換をかける手法ですが、  \n",
        "実はアフィン変換には平面を立体的に傾けるような変換ができません。しかし、射影変換ではそれができます。  \n",
        "(より厳密には、アフィン変換とは射影変換をシンプルにした処理ということになります。)  \n",
        "　    \n",
        "射影変換もscikit-imageのtransformモジュールの中にあります。  \n",
        "ProjectiveTransformという名前で、縦横それぞれ3の大きさの単位行列を基準に、様々な変形ができます。  \n",
        "単位行列は\n",
        "$\n",
        "\\left [ \\begin{matrix} \n",
        "1 & 0 & 0 \\\\ \n",
        "0 & 1 & 0 \\\\\n",
        "0 & 0 & 1 \n",
        "\\end{matrix}\n",
        "\\right ]\n",
        "$ってやつです。"
      ]
    },
    {
      "cell_type": "code",
      "metadata": {
        "id": "X_roptH7FPmy",
        "colab_type": "code",
        "colab": {}
      },
      "source": [
        "import skimage.transform as skt\n",
        "pantie = io.imread(dreamdir+panties[100])\n",
        "# 単位行列は何もしない\n",
        "matrix = np.array([[1, 0, 0],\n",
        "                   [0, 1, 0],\n",
        "                   [0, 0, 1]])\n",
        "# 変換行列を推定する\n",
        "homography = skt.ProjectiveTransform(matrix=matrix)\n",
        "# 変換行列を使ってリマップする\n",
        "io.imshow(skt.warp(pantie, homography))"
      ],
      "execution_count": 0,
      "outputs": []
    },
    {
      "cell_type": "markdown",
      "metadata": {
        "id": "GCTE5vBwH3iQ",
        "colab_type": "text"
      },
      "source": [
        "色々matrixの数値を変更して遊んでみると楽しいです。  \n",
        "下の例は平行移動する例。"
      ]
    },
    {
      "cell_type": "code",
      "metadata": {
        "id": "VjnSgShOHW46",
        "colab_type": "code",
        "colab": {}
      },
      "source": [
        "# 右方向に10ピクセル、下方向に10ピクセル\n",
        "matrix = np.array([[1, 0, -10], # _ _ -10 <- 横移動\n",
        "                   [0, 1, -10], # _ _ -10 <- 縦移動\n",
        "                   [0, 0, 1]])\n",
        "homography = skt.ProjectiveTransform(matrix=matrix)\n",
        "io.imshow(skt.warp(pantie, homography))"
      ],
      "execution_count": 0,
      "outputs": []
    },
    {
      "cell_type": "markdown",
      "metadata": {
        "id": "XRzKwU4bKBiG",
        "colab_type": "text"
      },
      "source": [
        "[回転行列](https://ja.wikipedia.org/wiki/%E5%9B%9E%E8%BB%A2%E8%A1%8C%E5%88%97)を入れると回転します。"
      ]
    },
    {
      "cell_type": "code",
      "metadata": {
        "id": "kY1oJC5KJMzL",
        "colab_type": "code",
        "colab": {}
      },
      "source": [
        "# 10度時計回りに回転させる\n",
        "rad = np.deg2rad(-10)\n",
        "matrix = np.array([[np.cos(rad), -np.sin(rad), 0],\n",
        "                   [np.sin(rad),  np.cos(rad), 0],\n",
        "                   [0,                      0, 1]])\n",
        "homography = skt.ProjectiveTransform(matrix=matrix)\n",
        "io.imshow(skt.warp(pantie, homography))"
      ],
      "execution_count": 0,
      "outputs": []
    },
    {
      "cell_type": "markdown",
      "metadata": {
        "id": "3AU29Yhu90nP",
        "colab_type": "text"
      },
      "source": [
        "ここからが射影変換で可能になる変形です。"
      ]
    },
    {
      "cell_type": "code",
      "metadata": {
        "id": "ZB2NcjMbKsns",
        "colab_type": "code",
        "colab": {}
      },
      "source": [
        "# 奥行方向(扉が開く感じ)で0.1度回転させる\n",
        "rad = np.deg2rad(-0.1)\n",
        "matrix = np.array([[np.cos(rad), 0, -np.sin(rad)],\n",
        "                   [0,           1,            0],\n",
        "                   [np.sin(rad), 0, np.cos(rad)]])\n",
        "homography = skt.ProjectiveTransform(matrix=matrix)\n",
        "io.imshow(skt.warp(pantie, homography))"
      ],
      "execution_count": 0,
      "outputs": []
    },
    {
      "cell_type": "code",
      "metadata": {
        "id": "HYHqOh1MLWGe",
        "colab_type": "code",
        "colab": {}
      },
      "source": [
        "# なんとも言えない方向で0.1度回転させる\n",
        "rad = np.deg2rad(-0.1)\n",
        "matrix = np.array([[1,           0,            0],\n",
        "                   [0, np.cos(rad), -np.sin(rad)],\n",
        "                   [0, np.sin(rad), np.cos(rad)]])\n",
        "homography = skt.ProjectiveTransform(matrix=matrix)\n",
        "io.imshow(skt.warp(pantie, homography))"
      ],
      "execution_count": 0,
      "outputs": []
    },
    {
      "cell_type": "markdown",
      "metadata": {
        "id": "eMxZr4tS_DhC",
        "colab_type": "text"
      },
      "source": [
        "感の良いあなたは気づいたかもしれませんが、行列の3行目を使う処理が射影変換の領域です。  \n",
        "アフィン変換は上2行だけを使います。  \n",
        "　  \n",
        "台形補正のような処理で射影変換は有効です。  \n",
        "ぱんつ変換でも台形補正が良さそうなところには使っています。"
      ]
    },
    {
      "cell_type": "markdown",
      "metadata": {
        "id": "vWu2KLFi0FYn",
        "colab_type": "text"
      },
      "source": [
        "## つよつよ編の実装に挑戦！"
      ]
    },
    {
      "cell_type": "code",
      "metadata": {
        "id": "J8vtuF7H3ByC",
        "colab_type": "code",
        "colab": {}
      },
      "source": [
        "!git clone https://github.com/TenteEEEE/quiche_pantie_patch.git\n",
        "\n",
        "# 事前に用意されたモジュールと変数\n",
        "from PIL import Image, ImageOps\n",
        "from skimage import io\n",
        "import skimage.transform as skt\n",
        "import numpy as np\n",
        "import os\n",
        "dreamdir = './quiche_pantie_patch/dream/'\n",
        "\n",
        "def affine_transform_by_arr(img, arrx, arry, smoothx=False, smoothy=False, mvx=10, mvy=10):\n",
        "    [r, c, d] = img.shape\n",
        "    src_cols = np.linspace(0, c, int(np.sqrt(len(arrx))))\n",
        "    src_rows = np.linspace(0, r, int(np.sqrt(len(arry))))\n",
        "    src_rows, src_cols = np.meshgrid(src_rows, src_cols)\n",
        "    src = np.dstack([src_cols.flat, src_rows.flat])[0]\n",
        "    if smoothx:\n",
        "        lx = len(arrx)\n",
        "        arrx = np.convolve(arrx, np.ones(mvx) / mvx, mode='valid')\n",
        "        arrx = skt.resize(arrx, (lx, 1), anti_aliasing=True, mode='reflect')[:, 0]\n",
        "    if smoothy:\n",
        "        ly = len(arry)\n",
        "        arry = np.convolve(arry, np.ones(mvy) / mvy, mode='valid')\n",
        "        arry = skt.resize(arry, (ly, 1), anti_aliasing=True, mode='reflect')[:, 0]\n",
        "    dst_rows = src[:, 1] + arrx\n",
        "    dst_cols = src[:, 0] + arry\n",
        "    dst = np.vstack([dst_cols, dst_rows]).T\n",
        "    affin = skt.PiecewiseAffineTransform()\n",
        "    affin.estimate(src, dst)\n",
        "    return skt.warp(img, affin)"
      ],
      "execution_count": 0,
      "outputs": []
    },
    {
      "cell_type": "markdown",
      "metadata": {
        "id": "TEbfkyu00KZm",
        "colab_type": "text"
      },
      "source": [
        "**いよいよパンツパッチを作り上げるときです！**  \n",
        "今までの学習内容をフル活用し、まだパンツパッチでも実装されていない以下の実装を目指しましょう。  \n",
        "\n",
        "---\n",
        "お気に入りのぱんつに最も似ているぱんつをVroidあるいはキッシュちゃん素体用に変換するプログラムを作ります。  \n",
        "パッチをするための関数はpatcherとして、\n",
        "\n",
        "* 入力: 事前に指定がなければ、キャラクタやお気に入りパンツをユーザに入力させる。(方法は問わない)  \n",
        "* 出力: Vroid素体用ぱんつを'vroid_[dreamフォルダ内と同じ名前].png'で保存する。(例: vroid_0101.png) \n",
        "\n",
        "可能であれば、入力された番号のぱんつやモデルが存在しないとき、再度入力を促しましょう。  \n",
        "変数はすでに存在するモデルとぱんつのリストであるavailable_modelsとavailable_pantiesが定義されています。\n",
        "\n",
        "---\n",
        "\n",
        "このページ内のあらゆるコードをコピーして使用しても構いません。  \n",
        "関数化なども自由です。 あなたが今後のメンテナンスや見やすさを考えて、適切だと思う粒度で関数化してください。  \n",
        "モジュールの追加も自由です。制限は一切ありません。"
      ]
    },
    {
      "cell_type": "code",
      "metadata": {
        "id": "H9a8DaU33BIR",
        "colab_type": "code",
        "colab": {}
      },
      "source": [
        "# Let's try!\n",
        "available_models = ['quiche', 'vroid']\n",
        "available_panties = sorted(os.listdir(dreamdir))\n",
        "def patcher(num = 0, model = None):\n",
        "  \n",
        "# 以下は想定される実行形式(適宜コメントアウトしながらテストしてください)\n",
        "patcher()\n",
        "patcher(num=200)\n",
        "patcher(model='vroid')\n",
        "patcher(num=200, model='quiche')"
      ],
      "execution_count": 0,
      "outputs": []
    },
    {
      "cell_type": "markdown",
      "metadata": {
        "id": "09bpCpk6-t5A",
        "colab_type": "text"
      },
      "source": [
        "### 解答例"
      ]
    },
    {
      "cell_type": "markdown",
      "metadata": {
        "id": "6yvf6idncM0J",
        "colab_type": "text"
      },
      "source": [
        "今回も全てで5レベル別解答でいきましょう。  \n",
        "レベル3まで行ければ十分です。それ以降は多少プログラミングについて調べた知識が必要です。  \n",
        "とりあえずもっとも素直な実装の、動けばOK基準から"
      ]
    },
    {
      "cell_type": "code",
      "metadata": {
        "id": "wLbz54UFcrtj",
        "colab_type": "code",
        "colab": {}
      },
      "source": [
        "# レベル1: こいつ動くぞ！コード\n",
        "available_models = ['quiche', 'vroid']\n",
        "available_panties = sorted(os.listdir(dreamdir))\n",
        "\n",
        "def patcher(num = 0, model = None):\n",
        "  if model is None:\n",
        "    # モデル名一覧を表示すると丁寧\n",
        "    model = input(f'モデル名{available_models}を入力してください:')\n",
        "  if model not in available_models:\n",
        "    print('モデルが見つかりませんでした')\n",
        "    return 0\n",
        "  if num <= 0:\n",
        "    num = int(input('ぱんつ番号を入力してください:'))\n",
        "  if f'{num:04d}.png' not in available_panties:\n",
        "    print('ぱんつが見つかりませんでした')\n",
        "    return 0\n",
        "  favorite = io.imread(dreamdir+panties[num-1]).astype(np.float32)/255\n",
        "  print(f'お気に入りは{panties[num-1]}ですね。 これだとおすすめは…')\n",
        "\n",
        "  # 一番似ているものを見つける\n",
        "  scores = []\n",
        "  for pantie in panties:\n",
        "    comp = io.imread(dreamdir + pantie).astype(np.float32)/255\n",
        "    scores.append(np.sum((favorite-comp)**2))\n",
        "  num = np.argsort(scores)[1]\n",
        "  print(f'{panties[num]}です！')\n",
        "\n",
        "  if model == 'quiche':\n",
        "    # キッシュ素体用に変形する\n",
        "    pantie = Image.open(dreamdir+panties[num])\n",
        "    pantie = pantie.crop((8, 0, pantie.width, pantie.height))\n",
        "    nbody_pantie = Image.new('RGBA', (pantie.width*2, pantie.height))\n",
        "    nbody_pantie.paste(pantie, (pantie.width, 0))\n",
        "    nbody_pantie.paste(ImageOps.mirror(pantie))\n",
        "    nbody_pantie.save(f'{model}_{panties[num]}')\n",
        "    print(f'{model}_{panties[num]}を保存しました')\n",
        "  if model == 'vroid':\n",
        "    # Vroid用に変形する\n",
        "    pantie = io.imread(dreamdir+panties[num])\n",
        "    pantie = np.pad(pantie, [(100, 0), (10, 0), (0, 0)], mode='constant')\n",
        "    arrx = np.zeros(100)\n",
        "    arrx[10:50] = (np.sin(np.linspace(0, 1 * np.pi, 100))[20:60] * 30)\n",
        "    arrx[50:] = -(np.sin(np.linspace(0, 1 * np.pi, 100))[50:] * 15)\n",
        "    arrx[40:60] += (np.sin(np.linspace(0, 1 * np.pi, 100))[40:60] * 15)\n",
        "    arrx[00:10] -= (np.sin(np.linspace(0, 1 * np.pi, 100))[50:60] * 35)\n",
        "    arry = (np.sin(np.linspace(0, 0.5 * np.pi, 100)) * 70)\n",
        "    arry[10:30] -= (np.sin(np.linspace(0, 1 * np.pi, 100)) * 20)[50:70]\n",
        "    pantie = affine_transform_by_arr(pantie, arrx, arry, smoothx=True, mvx=30)\n",
        "    pantie = pantie[60:430, 16:-80]\n",
        "    vroid_pantie = np.concatenate((pantie[:,::-1],pantie), axis=1)\n",
        "    io.imsave(f'{model}_{panties[num]}', (vroid_pantie*255).astype(np.uint8))\n",
        "    print(f'{model}_{panties[num]}を保存しました')\n",
        "\n",
        "patcher()\n",
        "patcher(num=200)\n",
        "patcher(model='vroid')\n",
        "patcher(num=200, model='quiche')"
      ],
      "execution_count": 0,
      "outputs": []
    },
    {
      "cell_type": "markdown",
      "metadata": {
        "id": "582DjdjHdQX3",
        "colab_type": "text"
      },
      "source": [
        "再入力を促す場合は、以下のように not in で whileループを回すと美しいです。  \n",
        "model名の入力では型変換がないので、tryしなくてもほぼ問題ありません。"
      ]
    },
    {
      "cell_type": "code",
      "metadata": {
        "id": "5eeqC83sbLw6",
        "colab_type": "code",
        "colab": {}
      },
      "source": [
        "# レベル2: わかってる！コード\n",
        "available_models = ['quiche', 'vroid']\n",
        "available_panties = sorted(os.listdir(dreamdir))\n",
        "\n",
        "def patcher(num = 0, model = None):\n",
        "  while model not in available_models:\n",
        "    model = input(f'モデル名{available_models}を入力してください:')\n",
        "  while f'{num:04d}.png' not in available_panties:\n",
        "    try:\n",
        "      num = int(input('ぱんつ番号を入力してください:'))\n",
        "    except ValueError:\n",
        "      print('整数を入力してね！')\n",
        "  favorite = io.imread(dreamdir+panties[num-1]).astype(np.float32)/255\n",
        "  print(f'お気に入りは{panties[num-1]}ですね。 これだとおすすめは…')\n",
        "\n",
        "  # 一番似ているものを見つける\n",
        "  scores = []\n",
        "  for pantie in panties:\n",
        "    comp = io.imread(dreamdir + pantie).astype(np.float32)/255\n",
        "    scores.append(np.sum((favorite-comp)**2))\n",
        "  num = np.argsort(scores)[1]\n",
        "  print(f'{panties[num]}です！')\n",
        "\n",
        "  if model == 'quiche':\n",
        "    # キッシュ素体用に変形する\n",
        "    pantie = Image.open(dreamdir+panties[num])\n",
        "    pantie = pantie.crop((8, 0, pantie.width, pantie.height))\n",
        "    nbody_pantie = Image.new('RGBA', (pantie.width*2, pantie.height))\n",
        "    nbody_pantie.paste(pantie, (pantie.width, 0))\n",
        "    nbody_pantie.paste(ImageOps.mirror(pantie))\n",
        "    nbody_pantie.save(f'{model}_{panties[num]}')\n",
        "    print(f'{model}_{panties[num]}を保存しました')\n",
        "  if model == 'vroid':\n",
        "    # Vroid用に変形する\n",
        "    pantie = io.imread(dreamdir+panties[num])\n",
        "    pantie = np.pad(pantie, [(100, 0), (10, 0), (0, 0)], mode='constant')\n",
        "    arrx = np.zeros(100)\n",
        "    arrx[10:50] = (np.sin(np.linspace(0, 1 * np.pi, 100))[20:60] * 30)\n",
        "    arrx[50:] = -(np.sin(np.linspace(0, 1 * np.pi, 100))[50:] * 15)\n",
        "    arrx[40:60] += (np.sin(np.linspace(0, 1 * np.pi, 100))[40:60] * 15)\n",
        "    arrx[00:10] -= (np.sin(np.linspace(0, 1 * np.pi, 100))[50:60] * 35)\n",
        "    arry = (np.sin(np.linspace(0, 0.5 * np.pi, 100)) * 70)\n",
        "    arry[10:30] -= (np.sin(np.linspace(0, 1 * np.pi, 100)) * 20)[50:70]\n",
        "    pantie = affine_transform_by_arr(pantie, arrx, arry, smoothx=True, mvx=30)\n",
        "    pantie = pantie[60:430, 16:-80]\n",
        "    vroid_pantie = np.concatenate((pantie[:,::-1],pantie), axis=1)\n",
        "    io.imsave(f'{model}_{panties[num]}', (vroid_pantie*255).astype(np.uint8))\n",
        "    print(f'{model}_{panties[num]}を保存しました')\n",
        "\n",
        "patcher()\n",
        "patcher(num=200)\n",
        "patcher(model='vroid')\n",
        "patcher(num=200, model='quiche')"
      ],
      "execution_count": 0,
      "outputs": []
    },
    {
      "cell_type": "markdown",
      "metadata": {
        "id": "fcTThWDCclft",
        "colab_type": "text"
      },
      "source": [
        "やはり見た目で何が何やらなので、適切に関数化すべきです。"
      ]
    },
    {
      "cell_type": "code",
      "metadata": {
        "id": "cZ8sXRE7-tcE",
        "colab_type": "code",
        "colab": {}
      },
      "source": [
        "# レベル3: 全章完全理解コード\n",
        "available_models = ['quiche', 'vroid']\n",
        "available_panties = sorted(os.listdir(dreamdir))\n",
        "\n",
        "def vroid_converter(pantie):\n",
        "  pantie = np.array(pantie) # PIL -> numpy\n",
        "  pantie = np.pad(pantie, [(100, 0), (10, 0), (0, 0)], mode='constant')\n",
        "  arrx = np.zeros(100)\n",
        "  tmp = np.linspace(0, 1 * np.pi, 100)\n",
        "  arrx[10:50] = (np.sin(tmp)[20:60] * 30)\n",
        "  arrx[50:] = -(np.sin(tmp)[50:] * 15)\n",
        "  arrx[40:60] += (np.sin(tmp)[40:60] * 15)\n",
        "  arrx[00:10] -= (np.sin(tmp)[50:60] * 35)\n",
        "  arry = (np.sin(tmp*0.5) * 70)\n",
        "  arry[10:30] -= (np.sin(tmp) * 20)[50:70]\n",
        "  pantie = affine_transform_by_arr(pantie, arrx, arry, smoothx=True, mvx=30)\n",
        "  pantie = pantie[60:430, 16:-80]\n",
        "  vroid_pantie = np.concatenate((pantie[:,::-1],pantie), axis=1)\n",
        "  return Image.fromarray((vroid_pantie*255).astype(np.uint8)) # numpy -> PIL\n",
        "\n",
        "def nbody_converter(pantie):\n",
        "  pantie = pantie.crop((8, 0, pantie.width, pantie.height))\n",
        "  nbody_pantie = Image.new('RGBA', (pantie.width*2, pantie.height))\n",
        "  nbody_pantie.paste(pantie, (pantie.width, 0))\n",
        "  nbody_pantie.paste(ImageOps.mirror(pantie))\n",
        "  return nbody_pantie\n",
        "\n",
        "def find_nearest_pantie(original):\n",
        "  original = np.array(original).astype(np.float32)/255 # PIL -> numpy\n",
        "  scores = []\n",
        "  for pantie in available_panties:\n",
        "    comp = io.imread(dreamdir + pantie).astype(np.float32)/255\n",
        "    scores.append(np.sum((original-comp)**2))\n",
        "  return np.argsort(scores)[1]\n",
        "\n",
        "def patcher(num = 0, model = None):\n",
        "  while model not in available_models:\n",
        "    model = input(f'モデル名{available_models}を入力してください:')\n",
        "  while f'{num:04d}.png' not in available_panties:\n",
        "    try:\n",
        "      num = int(input('ぱんつ番号を入力してください:'))\n",
        "    except ValueError:\n",
        "      print('整数を入力してね！')\n",
        "  print(f'お気に入りは{available_panties[num-1]}ですね。 これだとおすすめは…')\n",
        "  favorite = Image.open(dreamdir+available_panties[num-1])\n",
        "  num = find_nearest_pantie(favorite)\n",
        "  print(f'{available_panties[num]}です！')\n",
        "  pantie = Image.open(dreamdir+available_panties[num])\n",
        "  if model == 'quiche':\n",
        "    converted = nbody_converter(pantie)\n",
        "  else:\n",
        "    converted = vroid_converter(pantie)\n",
        "  converted.save(f'{model}_{available_panties[num]}')\n",
        "  print(f'{model}_{available_panties[num]}を保存しました')\n",
        "\n",
        "patcher()\n",
        "patcher(num=200)\n",
        "patcher(model='vroid')\n",
        "patcher(num=200, model='quiche')"
      ],
      "execution_count": 0,
      "outputs": []
    },
    {
      "cell_type": "markdown",
      "metadata": {
        "id": "aXpXOtTsFIaJ",
        "colab_type": "text"
      },
      "source": [
        "それぞれの関数化にあたり変更したのは、\n",
        "\n",
        "* vroid_converter  \n",
        "入出力をキッシュ素体用と合わせるためにPIL形式のデータに統一。  \n",
        "np.linspace(0, 1 * np.pi, 100)がたくさんあるので、一時変数に入れて使い回すとエコです。\n",
        "\n",
        "* find_nearest_pantie  \n",
        "入力をPIL形式に統一。  \n",
        "\n"
      ]
    },
    {
      "cell_type": "markdown",
      "metadata": {
        "id": "x3M-CdxJhH6q",
        "colab_type": "text"
      },
      "source": [
        "悪くはないですが、ちょっとPatcherの部分がごちゃっとしてます。  \n",
        "あまりPython的な方法ではないかもしれませんが、レベル4～5ではちょっとおもしろいテクニックを紹介しましょう。  \n",
        "関数を変数として扱えば、patcherはこのような書き方もできます。(関数ポインタと呼ばれる方法)"
      ]
    },
    {
      "cell_type": "code",
      "metadata": {
        "id": "2SmBNwaKf7xK",
        "colab_type": "code",
        "colab": {}
      },
      "source": [
        "# レベル4: 関数ポインタを使って処理を統一する\n",
        "\n",
        "def patcher(num = 0, model = None):\n",
        "  while model not in available_models:\n",
        "    model = input(f'モデル名{available_models}を入力してください:')\n",
        "  while f'{num:04d}.png' not in available_panties:\n",
        "    try:\n",
        "      num = int(input('ぱんつ番号を入力してください:'))\n",
        "    except ValueError:\n",
        "      print('整数を入力してね！')\n",
        "  print(f'お気に入りは{available_panties[num-1]}ですね。 これだとおすすめは…')\n",
        "  img_loader = Image.open       # 画像読み込みをPILのImage.openにする\n",
        "  favorite = img_loader(dreamdir+available_panties[num-1])\n",
        "  num = find_nearest_pantie(favorite)\n",
        "  print(f'{available_panties[num]}です！')\n",
        "  pantie = img_loader(dreamdir+available_panties[num])\n",
        "  if model == 'quiche':\n",
        "    converter = nbody_converter # converterにはnbody_converterの場所が記憶される\n",
        "  else:\n",
        "    converter = vroid_converter # converterにはvroid_converterの場所が記憶される\n",
        "  converted = converter(pantie) # 一定のフォーマットで変換できるようになる。\n",
        "  converted.save(f'{model}_{available_panties[num]}')\n",
        "  print(f'{model}_{available_panties[num]}を保存しました')\n",
        "\n",
        "patcher()\n",
        "patcher(num=200)\n",
        "patcher(model='vroid')\n",
        "patcher(num=200, model='quiche')"
      ],
      "execution_count": 0,
      "outputs": []
    },
    {
      "cell_type": "markdown",
      "metadata": {
        "id": "X4cIVWVLlb6s",
        "colab_type": "text"
      },
      "source": [
        "このように関数ポインタを使用すれば、後々変更されるかもしれない処理を一箇所で管理できたり、  \n",
        "統一されたフォーマットで処理が記述できます。  \n",
        "適切に使用しないと可読性が悪くなるので、使い所は選びましょう。 \n",
        "\n",
        "```\n",
        "例として画像の読み込みの関数を img_loader にしましたが、これはあまりよい手ではありません。  \n",
        "画像読み込みという一般的な処理を別名にしてしまうと、後々これの実体はなに？となること必至だからです。  \n",
        "プログラム中のユニークな処理、例えばconverterはぱんつ変換と一意に定まるので問題ありません。\n",
        "```\n",
        "\n",
        "さて、まだpatcherはごちゃっています。  \n",
        "これは一度お気に入りの画像を読み込み、それで最も近いものを探し、また画像を読み込むという煩雑な作業を書いているためです。  \n",
        "先述した関数ポインタのさらにポインタ(ダブルポインタ)という黒魔術を使うとタスクスケジューラ的に簡潔に書けます。\n"
      ]
    },
    {
      "cell_type": "code",
      "metadata": {
        "id": "T-s8ncMbnO4T",
        "colab_type": "code",
        "colab": {}
      },
      "source": [
        "# レベル5: 関数ダブルポインタを使ってタスクをまとめて処理する\n",
        "\n",
        "def task_runner(tasks, arg):\n",
        "  for task in tasks:\n",
        "    arg = task(arg)\n",
        "  return arg\n",
        "\n",
        "def patcher(num = 0, model = None):\n",
        "  while model not in available_models:\n",
        "    model = input(f'モデル名{available_models}を入力してください:')\n",
        "  while f'{num:04d}.png' not in available_panties:\n",
        "    try:\n",
        "      num = int(input('ぱんつ番号を入力してください:'))\n",
        "    except ValueError:\n",
        "      print('整数を入力してね！')\n",
        "  print(f'お気に入りは{available_panties[num-1]}ですね。 これだとおすすめは…')\n",
        "  # 類似ぱんつを読むこむまでの処理をまとめたタスクを実行\n",
        "  result = task_runner([lambda n: dreamdir+available_panties[n-1],\n",
        "                        Image.open, \n",
        "                        find_nearest_pantie, \n",
        "                        lambda n: (Image.open(dreamdir+available_panties[n]), n)\n",
        "                        ], num)\n",
        "  print(f'{available_panties[result[1]]}です！')\n",
        "  if model == 'quiche':\n",
        "    converter = nbody_converter\n",
        "  else:\n",
        "    converter = vroid_converter\n",
        "  converted = converter(result[0])\n",
        "  converted.save(f'{model}_{available_panties[num]}')\n",
        "  print(f'{model}_{available_panties[result[1]]}を保存しました')\n",
        "\n",
        "patcher()\n",
        "patcher(num=200)\n",
        "patcher(model='vroid')\n",
        "patcher(num=200, model='quiche')"
      ],
      "execution_count": 0,
      "outputs": []
    },
    {
      "cell_type": "markdown",
      "metadata": {
        "id": "vYr0W3xMfh0b",
        "colab_type": "text"
      },
      "source": [
        "タスクを実行する部分をさらに関数化することで、後々別スレッドやプロセスで実行したくなったときに、  \n",
        "メインの処理を止めずに済むメリットもあります。\n",
        "\n",
        "パフォーマンスの改善余地としては、find_nearest_pantieでは画像全てを読み込むので、  \n",
        "マルチスレッドで読み込むと良いです。"
      ]
    },
    {
      "cell_type": "code",
      "metadata": {
        "id": "_5zpV0Esr5l1",
        "colab_type": "code",
        "colab": {}
      },
      "source": [
        "# 補足: 類似ぱんつを探す関数で画像読み込みをマルチスレッド化\n",
        "from concurrent.futures import ThreadPoolExecutor\n",
        "\n",
        "def find_nearest_pantie_multi(original):\n",
        "  original = np.array(original).astype(np.float32)/255 # PIL -> numpy\n",
        "  with ThreadPoolExecutor(max_workers = 8) as th_exe:\n",
        "    panties = th_exe.map(lambda img: io.imread(dreamdir+img), available_panties)\n",
        "  scores = []\n",
        "  for pantie in panties:\n",
        "    scores.append(np.sum((original-pantie.astype(np.float32)/255)**2)) \n",
        "  return np.argsort(scores)[1]\n",
        "\n",
        "panties = sorted(os.listdir(dreamdir))\n",
        "pantie = Image.open(dreamdir+panties[200-1])\n",
        "find_nearest_pantie_multi(pantie)\n",
        "print('シングルスレッドで読み込み')\n",
        "%timeit find_nearest_pantie(pantie)\n",
        "print('マルチスレッドで読み込み')\n",
        "%timeit find_nearest_pantie_multi(pantie)"
      ],
      "execution_count": 0,
      "outputs": []
    },
    {
      "cell_type": "markdown",
      "metadata": {
        "id": "RFr1JnfJK2d9",
        "colab_type": "text"
      },
      "source": [
        "類似度計算をマルチプロセスにするものも書いてみましたが、Colabでは悪化しました。"
      ]
    },
    {
      "cell_type": "code",
      "metadata": {
        "id": "sUxmCA4EAOmK",
        "colab_type": "code",
        "colab": {}
      },
      "source": [
        "from concurrent.futures import ThreadPoolExecutor, ProcessPoolExecutor\n",
        "\n",
        "def get_score(imgs):\n",
        "  return np.sum((imgs[0]-imgs[1].astype(np.float32)/255)**2)\n",
        "\n",
        "def find_nearest_pantie_multi(original):\n",
        "  original = np.array(original).astype(np.float32)/255 # PIL -> numpy\n",
        "  with ThreadPoolExecutor(max_workers = 8) as th_exe:\n",
        "    panties = th_exe.map(lambda img: io.imread(dreamdir+img), available_panties)\n",
        "  with ProcessPoolExecutor(max_workers = 2) as po_exe:\n",
        "    scores = list(po_exe.map(get_score, zip([original]*len(available_panties), panties)))\n",
        "  return np.argsort(scores)[1]\n",
        "\n",
        "%timeit find_nearest_pantie_multi(pantie)"
      ],
      "execution_count": 0,
      "outputs": []
    },
    {
      "cell_type": "markdown",
      "metadata": {
        "id": "JKPuow2NLFTc",
        "colab_type": "text"
      },
      "source": [
        "これは[numpyがすでにマルチコアを利用できるように最適化されており](https://scipy-cookbook.readthedocs.io/items/ParallelProgramming.html)、  \n",
        "プロセスを増やしても計算資源の奪い合いになり、処理効率が下がるためです。  \n",
        "Colabでは2コアしか使えないため、もっとコア数の多い環境であれば有効である可能性はあります。  \n",
        "\n",
        "最終的にこんな感じのコードになりました。  \n",
        "本書では未紹介ですが、クラスをつかえばさらに抽象的で可読性の高いコードが書けるでしょう。"
      ]
    },
    {
      "cell_type": "code",
      "metadata": {
        "id": "_6LR_tTwxVyl",
        "colab_type": "code",
        "colab": {}
      },
      "source": [
        "# レベル5: いろいろとチューニング済みコード\n",
        "from concurrent.futures import ThreadPoolExecutor\n",
        "available_models = ['quiche', 'vroid']\n",
        "available_panties = sorted(os.listdir(dreamdir))\n",
        "\n",
        "def vroid_converter(pantie):\n",
        "  pantie = np.array(pantie) # PIL -> numpy\n",
        "  pantie = np.pad(pantie, [(100, 0), (10, 0), (0, 0)], mode='constant')\n",
        "  arrx = np.zeros(100)\n",
        "  tmp = np.linspace(0, 1 * np.pi, 100)\n",
        "  arrx[10:50] = (np.sin(tmp)[20:60] * 30)\n",
        "  arrx[50:] = -(np.sin(tmp)[50:] * 15)\n",
        "  arrx[40:60] += (np.sin(tmp)[40:60] * 15)\n",
        "  arrx[00:10] -= (np.sin(tmp)[50:60] * 35)\n",
        "  arry = (np.sin(tmp*0.5) * 70)\n",
        "  arry[10:30] -= (np.sin(tmp) * 20)[50:70]\n",
        "  pantie = affine_transform_by_arr(pantie, arrx, arry, smoothx=True, mvx=30)\n",
        "  pantie = pantie[60:430, 16:-80]\n",
        "  vroid_pantie = np.concatenate((pantie[:,::-1],pantie), axis=1)\n",
        "  return Image.fromarray((vroid_pantie*255).astype(np.uint8)) # numpy -> PIL\n",
        "\n",
        "def nbody_converter(pantie):\n",
        "  pantie = pantie.crop((8, 0, pantie.width, pantie.height))\n",
        "  nbody_pantie = Image.new('RGBA', (pantie.width*2, pantie.height))\n",
        "  nbody_pantie.paste(pantie, (pantie.width, 0))\n",
        "  nbody_pantie.paste(ImageOps.mirror(pantie))\n",
        "  return nbody_pantie\n",
        "\n",
        "def find_nearest_pantie(original): # マルチスレッド化\n",
        "  original = np.array(original).astype(np.float32)/255 # PIL -> numpy\n",
        "  with ThreadPoolExecutor(max_workers = 8) as th_exe:\n",
        "    panties = th_exe.map(lambda img: io.imread(dreamdir+img), available_panties)\n",
        "  scores = []\n",
        "  for pantie in panties:\n",
        "    scores.append(np.sum((original-pantie.astype(np.float32)/255)**2)) \n",
        "  return np.argsort(scores)[1]\n",
        "\n",
        "def task_runner(tasks, arg):\n",
        "  for task in tasks:\n",
        "    arg = task(arg)\n",
        "  return arg\n",
        "\n",
        "def patcher(num = 0, model = None):\n",
        "  while model not in available_models:\n",
        "    model = input(f'モデル名{available_models}を入力してください:')\n",
        "  while f'{num:04d}.png' not in available_panties:\n",
        "    try:\n",
        "      num = int(input('ぱんつ番号を入力してください:'))\n",
        "    except ValueError:\n",
        "      print('整数を入力してね！')\n",
        "  print(f'お気に入りは{available_panties[num-1]}ですね。 これだとおすすめは…')\n",
        "  # 類似ぱんつを読むこむまでの処理をまとめたタスクを実行\n",
        "  result = task_runner([lambda n: dreamdir+available_panties[n-1],\n",
        "                        Image.open, \n",
        "                        find_nearest_pantie, \n",
        "                        lambda n: (Image.open(dreamdir+available_panties[n]), n)\n",
        "                        ], num)\n",
        "  print(f'{available_panties[result[1]]}です！')\n",
        "  if model == 'quiche':\n",
        "    converter = nbody_converter\n",
        "  else:\n",
        "    converter = vroid_converter\n",
        "  converted = converter(result[0])\n",
        "  converted.save(f'{model}_{available_panties[num]}')\n",
        "  print(f'{model}_{available_panties[result[1]]}を保存しました')\n",
        "\n",
        "patcher()\n",
        "patcher(num=200)\n",
        "patcher(model='vroid')\n",
        "patcher(num=200, model='quiche')"
      ],
      "execution_count": 0,
      "outputs": []
    },
    {
      "cell_type": "markdown",
      "metadata": {
        "id": "YvRvwYodBhCK",
        "colab_type": "text"
      },
      "source": [
        "# さいごに\n",
        "###パンツパッチのコア機能はこれで完全マスターです。  \n",
        "実際にリポジトリを見るともっと小賢しいコードですが、やっていることはここと変わりません。  \n",
        "理解できた方はぜひアバター向けの変換を作ってコミットしてください！  \n",
        "フィードバックは[@tenteeeeee_vrc](https://twitter.com/tenteeeee_vrc)まで～"
      ]
    }
  ]
}